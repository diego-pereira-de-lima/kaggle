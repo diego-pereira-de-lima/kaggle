{
 "cells": [
  {
   "cell_type": "markdown",
   "metadata": {
    "toc": true
   },
   "source": [
    "<h1>Table of Contents<span class=\"tocSkip\"></span></h1>\n",
    "<div class=\"toc\"><ul class=\"toc-item\"><li><span><a href=\"#Introdução\" data-toc-modified-id=\"Introdução-1\"><span class=\"toc-item-num\">1&nbsp;&nbsp;</span>Introdução</a></span></li><li><span><a href=\"#Funções-Úteis\" data-toc-modified-id=\"Funções-Úteis-2\"><span class=\"toc-item-num\">2&nbsp;&nbsp;</span>Funções Úteis</a></span></li><li><span><a href=\"#Lendo-os-Dados\" data-toc-modified-id=\"Lendo-os-Dados-3\"><span class=\"toc-item-num\">3&nbsp;&nbsp;</span>Lendo os Dados</a></span></li><li><span><a href=\"#Explorando-os-Dados\" data-toc-modified-id=\"Explorando-os-Dados-4\"><span class=\"toc-item-num\">4&nbsp;&nbsp;</span>Explorando os Dados</a></span><ul class=\"toc-item\"><li><span><a href=\"#Pré-Análise\" data-toc-modified-id=\"Pré-Análise-4.1\"><span class=\"toc-item-num\">4.1&nbsp;&nbsp;</span>Pré-Análise</a></span></li><li><span><a href=\"#Dados-Nulos\" data-toc-modified-id=\"Dados-Nulos-4.2\"><span class=\"toc-item-num\">4.2&nbsp;&nbsp;</span>Dados Nulos</a></span><ul class=\"toc-item\"><li><span><a href=\"#Atributos-Categóricos\" data-toc-modified-id=\"Atributos-Categóricos-4.2.1\"><span class=\"toc-item-num\">4.2.1&nbsp;&nbsp;</span>Atributos Categóricos</a></span><ul class=\"toc-item\"><li><span><a href=\"#Filtrando-Atributos\" data-toc-modified-id=\"Filtrando-Atributos-4.2.1.1\"><span class=\"toc-item-num\">4.2.1.1&nbsp;&nbsp;</span>Filtrando Atributos</a></span></li><li><span><a href=\"#Preenchendo-Dados-Nulos\" data-toc-modified-id=\"Preenchendo-Dados-Nulos-4.2.1.2\"><span class=\"toc-item-num\">4.2.1.2&nbsp;&nbsp;</span>Preenchendo Dados Nulos</a></span></li></ul></li><li><span><a href=\"#Atributos-Numéricos\" data-toc-modified-id=\"Atributos-Numéricos-4.2.2\"><span class=\"toc-item-num\">4.2.2&nbsp;&nbsp;</span>Atributos Numéricos</a></span><ul class=\"toc-item\"><li><span><a href=\"#Preenchendo-Dados-Nulos\" data-toc-modified-id=\"Preenchendo-Dados-Nulos-4.2.2.1\"><span class=\"toc-item-num\">4.2.2.1&nbsp;&nbsp;</span>Preenchendo Dados Nulos</a></span></li></ul></li></ul></li><li><span><a href=\"#Correlações\" data-toc-modified-id=\"Correlações-4.3\"><span class=\"toc-item-num\">4.3&nbsp;&nbsp;</span>Correlações</a></span></li></ul></li></ul></div>"
   ]
  },
  {
   "cell_type": "markdown",
   "metadata": {},
   "source": [
    "Este notebook tem como objetivo alocar o desenvolvimento prático e teórico da competição do [Kaggle](https://www.kaggle.com/) de nível iniciante: [Housing Prices - Advanced Regression Techniques](https://www.kaggle.com/c/house-prices-advanced-regression-techniques). Baseado no excelente kernel [Comprehensive data exploration with Python](https://www.kaggle.com/pmarcelino/comprehensive-data-exploration-with-python), de [Pedro Marcelino](https://www.kaggle.com/pmarcelino) em fevereiro de 2017, a intenção desta primeira abordagem é analisar o conjunto de dados fornecido e averiguar as relações e os insights retirados através de análises estatísticas."
   ]
  },
  {
   "cell_type": "markdown",
   "metadata": {},
   "source": [
    "Adicionalmente, outros kernels postados no próprio Kaggle serão utilizados como base para solução das dúvidas que surgirem durante o desenvolvimento deste projeto. De cara, é possível citar o kernel [Handling Missing Values](https://www.kaggle.com/dansbecker/handling-missing-values) do instrutor do Kaggle DanB e também o excelente kernel [Regularized Linear Models](https://www.kaggle.com/apapiu/regularized-linear-models) de Alexandro Papiu. Mãos à obra!"
   ]
  },
  {
   "cell_type": "markdown",
   "metadata": {},
   "source": [
    "## Introdução"
   ]
  },
  {
   "cell_type": "markdown",
   "metadata": {},
   "source": [
    "Para facilitar o acompanhamento do projeto, o desenvolvimento será dividido em:\n",
    "\n",
    "* **1. Entendimento do problema:** Veremos a seguir que o conjunto de dados traz consigo 80 variáveis divididas entre dados numéricos e categóricos, cada qual descrevendo um atributo específico da moradia (tendo como target, o preço de venda _'SalesPrice'_). Pedro Marcelino, em seu kernel, propôs uma metodologia interessante para o entendimento do problema: para entender melhor os atributos, nada mais eficiente de que uma análise filosófica caso a caso, verificando as descrições das features, categorizando-as de acordo com funcionalidades presentes no problema de negócio e, por fim, pontuando uma análise subjetiva sobre a importância de cada uma das features para predição do target de preço. Este pacote de análises poderia ser realizado no Excel, por exemplo. "
   ]
  },
  {
   "cell_type": "markdown",
   "metadata": {},
   "source": [
    "* **2. Estudo Univariável:** Após esse mergulho no conjunto de dados proporcionado, a ideia é analisar separadamente nossa variável target _SalesPrice_, retirando insights relacionados às conclusões obtidas no passo **1** e verificando se realmente fazem sentido."
   ]
  },
  {
   "cell_type": "markdown",
   "metadata": {},
   "source": [
    "* **3. Estudo Multivariável:** Objetivando o completo entendimento dos dados, será realizado uma análise contemplando todas as variáveis (dependente e independentes), averiguando correlações e dados estatísticos."
   ]
  },
  {
   "cell_type": "markdown",
   "metadata": {},
   "source": [
    "* **4. Suposições:** Iremos verificar numericamente se as conclusões obtidas fazem sentido para o problema de negócio proposto."
   ]
  },
  {
   "cell_type": "markdown",
   "metadata": {},
   "source": [
    "## Funções Úteis"
   ]
  },
  {
   "cell_type": "code",
   "execution_count": 1,
   "metadata": {
    "ExecuteTime": {
     "end_time": "2019-06-17T01:53:12.011011Z",
     "start_time": "2019-06-17T01:53:12.005563Z"
    }
   },
   "outputs": [],
   "source": [
    "def format_spines(ax, right_border=True):\n",
    "    \"\"\"\n",
    "    this function sets up borders from an axis and personalize colors\n",
    "    \"\"\"    \n",
    "    # Setting up colors\n",
    "    ax.spines['bottom'].set_color('#CCCCCC')\n",
    "    ax.spines['left'].set_color('#CCCCCC')\n",
    "    ax.spines['top'].set_visible(False)\n",
    "    if right_border:\n",
    "        ax.spines['right'].set_color('#CCCCCC')\n",
    "    else:\n",
    "        ax.spines['right'].set_color('#FFFFFF')\n",
    "    ax.patch.set_facecolor('#FFFFFF')"
   ]
  },
  {
   "cell_type": "markdown",
   "metadata": {},
   "source": [
    "## Lendo os Dados"
   ]
  },
  {
   "cell_type": "code",
   "execution_count": 2,
   "metadata": {
    "ExecuteTime": {
     "end_time": "2019-06-17T01:53:12.393564Z",
     "start_time": "2019-06-17T01:53:12.017206Z"
    }
   },
   "outputs": [
    {
     "name": "stdout",
     "output_type": "stream",
     "text": [
      "Dimensões dos dados de treino: (1460, 81)\n",
      "Dimensões dos dados de teste: (1459, 80)\n"
     ]
    }
   ],
   "source": [
    "# Importando bibliotecas\n",
    "import pandas as pd\n",
    "import warnings\n",
    "warnings.filterwarnings('ignore')\n",
    "\n",
    "# Lendo dados\n",
    "train = pd.read_csv('train.csv')\n",
    "test = pd.read_csv('test.csv')\n",
    "\n",
    "# Verificando dimensões\n",
    "print(f'Dimensões dos dados de treino: {train.shape}')\n",
    "print(f'Dimensões dos dados de teste: {test.shape}')"
   ]
  },
  {
   "cell_type": "code",
   "execution_count": 3,
   "metadata": {
    "ExecuteTime": {
     "end_time": "2019-06-17T01:53:12.442258Z",
     "start_time": "2019-06-17T01:53:12.396347Z"
    }
   },
   "outputs": [
    {
     "data": {
      "text/html": [
       "<div>\n",
       "<style scoped>\n",
       "    .dataframe tbody tr th:only-of-type {\n",
       "        vertical-align: middle;\n",
       "    }\n",
       "\n",
       "    .dataframe tbody tr th {\n",
       "        vertical-align: top;\n",
       "    }\n",
       "\n",
       "    .dataframe thead th {\n",
       "        text-align: right;\n",
       "    }\n",
       "</style>\n",
       "<table border=\"1\" class=\"dataframe\">\n",
       "  <thead>\n",
       "    <tr style=\"text-align: right;\">\n",
       "      <th></th>\n",
       "      <th>Id</th>\n",
       "      <th>MSSubClass</th>\n",
       "      <th>MSZoning</th>\n",
       "      <th>LotFrontage</th>\n",
       "      <th>LotArea</th>\n",
       "      <th>Street</th>\n",
       "      <th>Alley</th>\n",
       "      <th>LotShape</th>\n",
       "      <th>LandContour</th>\n",
       "      <th>Utilities</th>\n",
       "      <th>...</th>\n",
       "      <th>PoolArea</th>\n",
       "      <th>PoolQC</th>\n",
       "      <th>Fence</th>\n",
       "      <th>MiscFeature</th>\n",
       "      <th>MiscVal</th>\n",
       "      <th>MoSold</th>\n",
       "      <th>YrSold</th>\n",
       "      <th>SaleType</th>\n",
       "      <th>SaleCondition</th>\n",
       "      <th>SalePrice</th>\n",
       "    </tr>\n",
       "  </thead>\n",
       "  <tbody>\n",
       "    <tr>\n",
       "      <th>0</th>\n",
       "      <td>1</td>\n",
       "      <td>60</td>\n",
       "      <td>RL</td>\n",
       "      <td>65.0</td>\n",
       "      <td>8450</td>\n",
       "      <td>Pave</td>\n",
       "      <td>NaN</td>\n",
       "      <td>Reg</td>\n",
       "      <td>Lvl</td>\n",
       "      <td>AllPub</td>\n",
       "      <td>...</td>\n",
       "      <td>0</td>\n",
       "      <td>NaN</td>\n",
       "      <td>NaN</td>\n",
       "      <td>NaN</td>\n",
       "      <td>0</td>\n",
       "      <td>2</td>\n",
       "      <td>2008</td>\n",
       "      <td>WD</td>\n",
       "      <td>Normal</td>\n",
       "      <td>208500</td>\n",
       "    </tr>\n",
       "    <tr>\n",
       "      <th>1</th>\n",
       "      <td>2</td>\n",
       "      <td>20</td>\n",
       "      <td>RL</td>\n",
       "      <td>80.0</td>\n",
       "      <td>9600</td>\n",
       "      <td>Pave</td>\n",
       "      <td>NaN</td>\n",
       "      <td>Reg</td>\n",
       "      <td>Lvl</td>\n",
       "      <td>AllPub</td>\n",
       "      <td>...</td>\n",
       "      <td>0</td>\n",
       "      <td>NaN</td>\n",
       "      <td>NaN</td>\n",
       "      <td>NaN</td>\n",
       "      <td>0</td>\n",
       "      <td>5</td>\n",
       "      <td>2007</td>\n",
       "      <td>WD</td>\n",
       "      <td>Normal</td>\n",
       "      <td>181500</td>\n",
       "    </tr>\n",
       "    <tr>\n",
       "      <th>2</th>\n",
       "      <td>3</td>\n",
       "      <td>60</td>\n",
       "      <td>RL</td>\n",
       "      <td>68.0</td>\n",
       "      <td>11250</td>\n",
       "      <td>Pave</td>\n",
       "      <td>NaN</td>\n",
       "      <td>IR1</td>\n",
       "      <td>Lvl</td>\n",
       "      <td>AllPub</td>\n",
       "      <td>...</td>\n",
       "      <td>0</td>\n",
       "      <td>NaN</td>\n",
       "      <td>NaN</td>\n",
       "      <td>NaN</td>\n",
       "      <td>0</td>\n",
       "      <td>9</td>\n",
       "      <td>2008</td>\n",
       "      <td>WD</td>\n",
       "      <td>Normal</td>\n",
       "      <td>223500</td>\n",
       "    </tr>\n",
       "    <tr>\n",
       "      <th>3</th>\n",
       "      <td>4</td>\n",
       "      <td>70</td>\n",
       "      <td>RL</td>\n",
       "      <td>60.0</td>\n",
       "      <td>9550</td>\n",
       "      <td>Pave</td>\n",
       "      <td>NaN</td>\n",
       "      <td>IR1</td>\n",
       "      <td>Lvl</td>\n",
       "      <td>AllPub</td>\n",
       "      <td>...</td>\n",
       "      <td>0</td>\n",
       "      <td>NaN</td>\n",
       "      <td>NaN</td>\n",
       "      <td>NaN</td>\n",
       "      <td>0</td>\n",
       "      <td>2</td>\n",
       "      <td>2006</td>\n",
       "      <td>WD</td>\n",
       "      <td>Abnorml</td>\n",
       "      <td>140000</td>\n",
       "    </tr>\n",
       "    <tr>\n",
       "      <th>4</th>\n",
       "      <td>5</td>\n",
       "      <td>60</td>\n",
       "      <td>RL</td>\n",
       "      <td>84.0</td>\n",
       "      <td>14260</td>\n",
       "      <td>Pave</td>\n",
       "      <td>NaN</td>\n",
       "      <td>IR1</td>\n",
       "      <td>Lvl</td>\n",
       "      <td>AllPub</td>\n",
       "      <td>...</td>\n",
       "      <td>0</td>\n",
       "      <td>NaN</td>\n",
       "      <td>NaN</td>\n",
       "      <td>NaN</td>\n",
       "      <td>0</td>\n",
       "      <td>12</td>\n",
       "      <td>2008</td>\n",
       "      <td>WD</td>\n",
       "      <td>Normal</td>\n",
       "      <td>250000</td>\n",
       "    </tr>\n",
       "  </tbody>\n",
       "</table>\n",
       "<p>5 rows × 81 columns</p>\n",
       "</div>"
      ],
      "text/plain": [
       "   Id  MSSubClass MSZoning  LotFrontage  LotArea Street Alley LotShape  \\\n",
       "0   1          60       RL         65.0     8450   Pave   NaN      Reg   \n",
       "1   2          20       RL         80.0     9600   Pave   NaN      Reg   \n",
       "2   3          60       RL         68.0    11250   Pave   NaN      IR1   \n",
       "3   4          70       RL         60.0     9550   Pave   NaN      IR1   \n",
       "4   5          60       RL         84.0    14260   Pave   NaN      IR1   \n",
       "\n",
       "  LandContour Utilities  ... PoolArea PoolQC Fence MiscFeature MiscVal MoSold  \\\n",
       "0         Lvl    AllPub  ...        0    NaN   NaN         NaN       0      2   \n",
       "1         Lvl    AllPub  ...        0    NaN   NaN         NaN       0      5   \n",
       "2         Lvl    AllPub  ...        0    NaN   NaN         NaN       0      9   \n",
       "3         Lvl    AllPub  ...        0    NaN   NaN         NaN       0      2   \n",
       "4         Lvl    AllPub  ...        0    NaN   NaN         NaN       0     12   \n",
       "\n",
       "  YrSold  SaleType  SaleCondition  SalePrice  \n",
       "0   2008        WD         Normal     208500  \n",
       "1   2007        WD         Normal     181500  \n",
       "2   2008        WD         Normal     223500  \n",
       "3   2006        WD        Abnorml     140000  \n",
       "4   2008        WD         Normal     250000  \n",
       "\n",
       "[5 rows x 81 columns]"
      ]
     },
     "execution_count": 3,
     "metadata": {},
     "output_type": "execute_result"
    }
   ],
   "source": [
    "# Verificando cabeçalho\n",
    "train.head()"
   ]
  },
  {
   "cell_type": "code",
   "execution_count": 4,
   "metadata": {
    "ExecuteTime": {
     "end_time": "2019-06-17T01:53:12.449232Z",
     "start_time": "2019-06-17T01:53:12.444225Z"
    }
   },
   "outputs": [
    {
     "data": {
      "text/plain": [
       "Index(['Id', 'MSSubClass', 'MSZoning', 'LotFrontage', 'LotArea', 'Street',\n",
       "       'Alley', 'LotShape', 'LandContour', 'Utilities', 'LotConfig',\n",
       "       'LandSlope', 'Neighborhood', 'Condition1', 'Condition2', 'BldgType',\n",
       "       'HouseStyle', 'OverallQual', 'OverallCond', 'YearBuilt', 'YearRemodAdd',\n",
       "       'RoofStyle', 'RoofMatl', 'Exterior1st', 'Exterior2nd', 'MasVnrType',\n",
       "       'MasVnrArea', 'ExterQual', 'ExterCond', 'Foundation', 'BsmtQual',\n",
       "       'BsmtCond', 'BsmtExposure', 'BsmtFinType1', 'BsmtFinSF1',\n",
       "       'BsmtFinType2', 'BsmtFinSF2', 'BsmtUnfSF', 'TotalBsmtSF', 'Heating',\n",
       "       'HeatingQC', 'CentralAir', 'Electrical', '1stFlrSF', '2ndFlrSF',\n",
       "       'LowQualFinSF', 'GrLivArea', 'BsmtFullBath', 'BsmtHalfBath', 'FullBath',\n",
       "       'HalfBath', 'BedroomAbvGr', 'KitchenAbvGr', 'KitchenQual',\n",
       "       'TotRmsAbvGrd', 'Functional', 'Fireplaces', 'FireplaceQu', 'GarageType',\n",
       "       'GarageYrBlt', 'GarageFinish', 'GarageCars', 'GarageArea', 'GarageQual',\n",
       "       'GarageCond', 'PavedDrive', 'WoodDeckSF', 'OpenPorchSF',\n",
       "       'EnclosedPorch', '3SsnPorch', 'ScreenPorch', 'PoolArea', 'PoolQC',\n",
       "       'Fence', 'MiscFeature', 'MiscVal', 'MoSold', 'YrSold', 'SaleType',\n",
       "       'SaleCondition', 'SalePrice'],\n",
       "      dtype='object')"
      ]
     },
     "execution_count": 4,
     "metadata": {},
     "output_type": "execute_result"
    }
   ],
   "source": [
    "# Verificando colunas\n",
    "train.columns"
   ]
  },
  {
   "cell_type": "markdown",
   "metadata": {},
   "source": [
    "Pela análise do cabeçalho do conjunto de dados com o método `head()` já foi possível ter uma noção sobre dados nulos, dados categóricos, dados numéricos e qualquer outra intuição inicial obtida com essa observação. Futuramente, iremos avaliar com mais calma cada um desses subconjuntos mencionados, mas antes, é preciso expor as análises individuais propostas para cada um dos atributos contidos no conjunto."
   ]
  },
  {
   "cell_type": "markdown",
   "metadata": {},
   "source": [
    "## Explorando os Dados"
   ]
  },
  {
   "cell_type": "markdown",
   "metadata": {},
   "source": [
    "### Pré-Análise"
   ]
  },
  {
   "cell_type": "markdown",
   "metadata": {},
   "source": [
    "Vejamos o procedimento adotado e alguns dos insights retirados."
   ]
  },
  {
   "cell_type": "markdown",
   "metadata": {
    "ExecuteTime": {
     "end_time": "2019-06-10T02:58:15.219553Z",
     "start_time": "2019-06-10T02:58:15.212366Z"
    }
   },
   "source": [
    "**(A)** Dicionário de Dados\n",
    "<img src='images\\prep01_dicionario.png'>"
   ]
  },
  {
   "cell_type": "markdown",
   "metadata": {},
   "source": [
    "**(B)** Validações\n",
    "<img src='images\\prep02_validacoes.png'>"
   ]
  },
  {
   "cell_type": "markdown",
   "metadata": {},
   "source": [
    "**(C)** Tabelas\n",
    "<img src='images\\prep03_tabelas.png'>"
   ]
  },
  {
   "cell_type": "markdown",
   "metadata": {},
   "source": [
    "**(D)** Painel de Análise\n",
    "<img src='images\\prep04_painel.png'>"
   ]
  },
  {
   "cell_type": "code",
   "execution_count": 5,
   "metadata": {
    "ExecuteTime": {
     "end_time": "2019-06-17T01:53:12.467246Z",
     "start_time": "2019-06-17T01:53:12.451333Z"
    }
   },
   "outputs": [
    {
     "data": {
      "text/html": [
       "<div>\n",
       "<style scoped>\n",
       "    .dataframe tbody tr th:only-of-type {\n",
       "        vertical-align: middle;\n",
       "    }\n",
       "\n",
       "    .dataframe tbody tr th {\n",
       "        vertical-align: top;\n",
       "    }\n",
       "\n",
       "    .dataframe thead th {\n",
       "        text-align: right;\n",
       "    }\n",
       "</style>\n",
       "<table border=\"1\" class=\"dataframe\">\n",
       "  <thead>\n",
       "    <tr style=\"text-align: right;\">\n",
       "      <th></th>\n",
       "      <th>descricao</th>\n",
       "      <th>tipo</th>\n",
       "      <th>segmento</th>\n",
       "      <th>expect</th>\n",
       "    </tr>\n",
       "    <tr>\n",
       "      <th>nome_variavel</th>\n",
       "      <th></th>\n",
       "      <th></th>\n",
       "      <th></th>\n",
       "      <th></th>\n",
       "    </tr>\n",
       "  </thead>\n",
       "  <tbody>\n",
       "    <tr>\n",
       "      <th>MSSubClass</th>\n",
       "      <td>Identifica o tipo de moradia da residência</td>\n",
       "      <td>Categórico</td>\n",
       "      <td>Building (Construção)</td>\n",
       "      <td>Média</td>\n",
       "    </tr>\n",
       "    <tr>\n",
       "      <th>MSZoning</th>\n",
       "      <td>Classifica o imóvel por zona</td>\n",
       "      <td>Categórico</td>\n",
       "      <td>Location (Localização)</td>\n",
       "      <td>Alta</td>\n",
       "    </tr>\n",
       "    <tr>\n",
       "      <th>LotFrontage</th>\n",
       "      <td>Dimensão do perímetro frontal da casa</td>\n",
       "      <td>Numérico</td>\n",
       "      <td>Space (Espaço)</td>\n",
       "      <td>Alta</td>\n",
       "    </tr>\n",
       "    <tr>\n",
       "      <th>LotArea</th>\n",
       "      <td>Área do loteamento</td>\n",
       "      <td>Numérico</td>\n",
       "      <td>Space (Espaço)</td>\n",
       "      <td>Alta</td>\n",
       "    </tr>\n",
       "    <tr>\n",
       "      <th>Street</th>\n",
       "      <td>Característica da rua que dá acesso a moradia</td>\n",
       "      <td>Categórico</td>\n",
       "      <td>Building (Construção)</td>\n",
       "      <td>Média</td>\n",
       "    </tr>\n",
       "  </tbody>\n",
       "</table>\n",
       "</div>"
      ],
      "text/plain": [
       "                                                   descricao        tipo  \\\n",
       "nome_variavel                                                              \n",
       "MSSubClass        Identifica o tipo de moradia da residência  Categórico   \n",
       "MSZoning                        Classifica o imóvel por zona  Categórico   \n",
       "LotFrontage            Dimensão do perímetro frontal da casa    Numérico   \n",
       "LotArea                                   Área do loteamento    Numérico   \n",
       "Street         Característica da rua que dá acesso a moradia  Categórico   \n",
       "\n",
       "                             segmento expect  \n",
       "nome_variavel                                 \n",
       "MSSubClass      Building (Construção)  Média  \n",
       "MSZoning       Location (Localização)   Alta  \n",
       "LotFrontage            Space (Espaço)   Alta  \n",
       "LotArea                Space (Espaço)   Alta  \n",
       "Street          Building (Construção)  Média  "
      ]
     },
     "execution_count": 5,
     "metadata": {},
     "output_type": "execute_result"
    }
   ],
   "source": [
    "# Lendo csv com dados sobre os atributos levantados nessa pré-análise\n",
    "pre_analise = pd.read_csv('pre_analise_utf.txt', sep=';', index_col='nome_variavel')\n",
    "pre_analise.head()"
   ]
  },
  {
   "cell_type": "markdown",
   "metadata": {},
   "source": [
    "Tendo estes dados em mãos, as análises futuras se tornam extremamente mais fáceis, visto que, neste momento, é possível ter como referência um local de consulta que, mesmo apresentando certo viés subjetivo, contempla observações sobre o problema do ponto de vista do cliente/usuário do modelo. Um dos pontos principais dessa análise está relacionado a categorização de features com possível _Alta_ importância pro algoritmo (foram designadas 20 no total) e precisamos saber se isso realmente faz sentido."
   ]
  },
  {
   "cell_type": "markdown",
   "metadata": {},
   "source": [
    "### Dados Nulos"
   ]
  },
  {
   "cell_type": "markdown",
   "metadata": {},
   "source": [
    "Dando início às análises via código, vamos estudar um pouco sobre os atributos nulos contidos neste conjunto de dados."
   ]
  },
  {
   "cell_type": "code",
   "execution_count": 6,
   "metadata": {
    "ExecuteTime": {
     "end_time": "2019-06-17T01:53:12.496698Z",
     "start_time": "2019-06-17T01:53:12.469212Z"
    }
   },
   "outputs": [
    {
     "name": "stdout",
     "output_type": "stream",
     "text": [
      "Atributos com dados nulos (treino): 19\n",
      "Total de entradas nulas (treino): 6965\n",
      "\n",
      "Atributos com dados nulos (teste): 33\n",
      "Total de entradas nulas (teste): 7000\n"
     ]
    }
   ],
   "source": [
    "# Quantidade de dados nulos\n",
    "train_total_null = train.isnull().sum().sum()\n",
    "train_qtd_attr_null = train.isnull().any().sum()\n",
    "test_total_null = test.isnull().sum().sum()\n",
    "test_qtd_attr_null = test.isnull().any().sum()\n",
    "\n",
    "# Comunicando\n",
    "print(f'Atributos com dados nulos (treino): {train_qtd_attr_null}')\n",
    "print(f'Total de entradas nulas (treino): {train_total_null}')\n",
    "print(f'\\nAtributos com dados nulos (teste): {test_qtd_attr_null}')\n",
    "print(f'Total de entradas nulas (teste): {test_total_null}')"
   ]
  },
  {
   "cell_type": "markdown",
   "metadata": {},
   "source": [
    "Com relação a quantidade, temos praticamente o mesmo número de entradas nulas para treino e para teste. Quanto ao total de atirbutos com entradas nulas, o conjunto de teste apresenta um número significativamente maior. Vejamos detalhes sobre tais atributos."
   ]
  },
  {
   "cell_type": "code",
   "execution_count": 7,
   "metadata": {
    "ExecuteTime": {
     "end_time": "2019-06-17T01:53:12.509473Z",
     "start_time": "2019-06-17T01:53:12.498401Z"
    }
   },
   "outputs": [
    {
     "name": "stdout",
     "output_type": "stream",
     "text": [
      "['LotFrontage', 'Alley', 'MasVnrType', 'MasVnrArea', 'BsmtQual', 'BsmtCond', 'BsmtExposure', 'BsmtFinType1', 'BsmtFinType2', 'Electrical', 'FireplaceQu', 'GarageType', 'GarageYrBlt', 'GarageFinish', 'GarageQual', 'GarageCond', 'PoolQC', 'Fence', 'MiscFeature'],\n",
      "\n",
      "Quantidade: 19\n"
     ]
    }
   ],
   "source": [
    "# Analisando atributos nulos nos dados de treino\n",
    "null_attr_train = [attr for attr, null in train.isnull().any().items() if null]\n",
    "print(null_attr_train, end=',')\n",
    "print(f'\\n\\nQuantidade: {len(null_attr_train)}')"
   ]
  },
  {
   "cell_type": "code",
   "execution_count": 8,
   "metadata": {
    "ExecuteTime": {
     "end_time": "2019-06-17T01:53:12.523363Z",
     "start_time": "2019-06-17T01:53:12.511710Z"
    }
   },
   "outputs": [
    {
     "name": "stdout",
     "output_type": "stream",
     "text": [
      "['MSZoning', 'LotFrontage', 'Alley', 'Utilities', 'Exterior1st', 'Exterior2nd', 'MasVnrType', 'MasVnrArea', 'BsmtQual', 'BsmtCond', 'BsmtExposure', 'BsmtFinType1', 'BsmtFinSF1', 'BsmtFinType2', 'BsmtFinSF2', 'BsmtUnfSF', 'TotalBsmtSF', 'BsmtFullBath', 'BsmtHalfBath', 'KitchenQual', 'Functional', 'FireplaceQu', 'GarageType', 'GarageYrBlt', 'GarageFinish', 'GarageCars', 'GarageArea', 'GarageQual', 'GarageCond', 'PoolQC', 'Fence', 'MiscFeature', 'SaleType'],\n",
      "\n",
      "Quantidade: 33\n"
     ]
    }
   ],
   "source": [
    "# Analisando atributos nulos nos dados de teste\n",
    "null_attr_test = [attr for attr, null in test.isnull().any().items() if null]\n",
    "print(null_attr_test, end=',')\n",
    "print(f'\\n\\nQuantidade: {len(null_attr_test)}')"
   ]
  },
  {
   "cell_type": "code",
   "execution_count": 9,
   "metadata": {
    "ExecuteTime": {
     "end_time": "2019-06-17T01:53:12.550021Z",
     "start_time": "2019-06-17T01:53:12.527034Z"
    }
   },
   "outputs": [
    {
     "data": {
      "text/html": [
       "<div>\n",
       "<style scoped>\n",
       "    .dataframe tbody tr th:only-of-type {\n",
       "        vertical-align: middle;\n",
       "    }\n",
       "\n",
       "    .dataframe tbody tr th {\n",
       "        vertical-align: top;\n",
       "    }\n",
       "\n",
       "    .dataframe thead th {\n",
       "        text-align: right;\n",
       "    }\n",
       "</style>\n",
       "<table border=\"1\" class=\"dataframe\">\n",
       "  <thead>\n",
       "    <tr style=\"text-align: right;\">\n",
       "      <th></th>\n",
       "      <th>descricao</th>\n",
       "      <th>tipo</th>\n",
       "      <th>segmento</th>\n",
       "      <th>expect</th>\n",
       "      <th>qtd_null</th>\n",
       "    </tr>\n",
       "    <tr>\n",
       "      <th>nome_variavel</th>\n",
       "      <th></th>\n",
       "      <th></th>\n",
       "      <th></th>\n",
       "      <th></th>\n",
       "      <th></th>\n",
       "    </tr>\n",
       "  </thead>\n",
       "  <tbody>\n",
       "    <tr>\n",
       "      <th>PoolQC</th>\n",
       "      <td>Qualidade da piscina</td>\n",
       "      <td>Categórico</td>\n",
       "      <td>Building (Construção)</td>\n",
       "      <td>Média</td>\n",
       "      <td>1453</td>\n",
       "    </tr>\n",
       "    <tr>\n",
       "      <th>MiscFeature</th>\n",
       "      <td>Algumas features não inclusas nas demais categ...</td>\n",
       "      <td>Categórico</td>\n",
       "      <td>Building (Construção)</td>\n",
       "      <td>Baixa</td>\n",
       "      <td>1406</td>\n",
       "    </tr>\n",
       "    <tr>\n",
       "      <th>Alley</th>\n",
       "      <td>Característica da viela que dá acesso a moradia</td>\n",
       "      <td>Categórico</td>\n",
       "      <td>Building (Construção)</td>\n",
       "      <td>Baixa</td>\n",
       "      <td>1369</td>\n",
       "    </tr>\n",
       "    <tr>\n",
       "      <th>Fence</th>\n",
       "      <td>Qualidade do cercado presente na moradia</td>\n",
       "      <td>Categórico</td>\n",
       "      <td>Building (Construção)</td>\n",
       "      <td>Baixa</td>\n",
       "      <td>1179</td>\n",
       "    </tr>\n",
       "    <tr>\n",
       "      <th>FireplaceQu</th>\n",
       "      <td>Qualidade das lareiras</td>\n",
       "      <td>Categórico</td>\n",
       "      <td>Building (Construção)</td>\n",
       "      <td>Baixa</td>\n",
       "      <td>690</td>\n",
       "    </tr>\n",
       "    <tr>\n",
       "      <th>LotFrontage</th>\n",
       "      <td>Dimensão do perímetro frontal da casa</td>\n",
       "      <td>Numérico</td>\n",
       "      <td>Space (Espaço)</td>\n",
       "      <td>Alta</td>\n",
       "      <td>259</td>\n",
       "    </tr>\n",
       "    <tr>\n",
       "      <th>GarageType</th>\n",
       "      <td>Tipo de garagem da moradia</td>\n",
       "      <td>Categórico</td>\n",
       "      <td>Space (Espaço)</td>\n",
       "      <td>Alta</td>\n",
       "      <td>81</td>\n",
       "    </tr>\n",
       "    <tr>\n",
       "      <th>GarageYrBlt</th>\n",
       "      <td>Ano de construção da garagem</td>\n",
       "      <td>Numérico</td>\n",
       "      <td>Building (Construção)</td>\n",
       "      <td>Baixa</td>\n",
       "      <td>81</td>\n",
       "    </tr>\n",
       "    <tr>\n",
       "      <th>GarageFinish</th>\n",
       "      <td>Acabamento interno da garagem</td>\n",
       "      <td>Categórico</td>\n",
       "      <td>Building (Construção)</td>\n",
       "      <td>Baixa</td>\n",
       "      <td>81</td>\n",
       "    </tr>\n",
       "    <tr>\n",
       "      <th>GarageQual</th>\n",
       "      <td>Qualidade da garagem</td>\n",
       "      <td>Categórico</td>\n",
       "      <td>Building (Construção)</td>\n",
       "      <td>Baixa</td>\n",
       "      <td>81</td>\n",
       "    </tr>\n",
       "    <tr>\n",
       "      <th>GarageCond</th>\n",
       "      <td>Score que define as condições da garagem</td>\n",
       "      <td>Categórico</td>\n",
       "      <td>Building (Construção)</td>\n",
       "      <td>Baixa</td>\n",
       "      <td>81</td>\n",
       "    </tr>\n",
       "    <tr>\n",
       "      <th>BsmtExposure</th>\n",
       "      <td>Exposição do porão da moradia</td>\n",
       "      <td>Categórico</td>\n",
       "      <td>Building (Construção)</td>\n",
       "      <td>Baixa</td>\n",
       "      <td>38</td>\n",
       "    </tr>\n",
       "    <tr>\n",
       "      <th>BsmtFinType2</th>\n",
       "      <td>Score do acabamento da região relacionada ao p...</td>\n",
       "      <td>Categórico</td>\n",
       "      <td>Building (Construção)</td>\n",
       "      <td>Baixa</td>\n",
       "      <td>38</td>\n",
       "    </tr>\n",
       "    <tr>\n",
       "      <th>BsmtFinType1</th>\n",
       "      <td>Score do acabamento da região relacionada ao p...</td>\n",
       "      <td>Categórico</td>\n",
       "      <td>Building (Construção)</td>\n",
       "      <td>Média</td>\n",
       "      <td>37</td>\n",
       "    </tr>\n",
       "    <tr>\n",
       "      <th>BsmtCond</th>\n",
       "      <td>Classifica condição geral do porão</td>\n",
       "      <td>Categórico</td>\n",
       "      <td>Building (Construção)</td>\n",
       "      <td>Média</td>\n",
       "      <td>37</td>\n",
       "    </tr>\n",
       "    <tr>\n",
       "      <th>BsmtQual</th>\n",
       "      <td>Classifica a moradia quanto ao tamanho do porão</td>\n",
       "      <td>Categórico</td>\n",
       "      <td>Space (Espaço)</td>\n",
       "      <td>Baixa</td>\n",
       "      <td>37</td>\n",
       "    </tr>\n",
       "    <tr>\n",
       "      <th>MasVnrArea</th>\n",
       "      <td>Área coberta pela alvenaria</td>\n",
       "      <td>Categórico</td>\n",
       "      <td>Building (Construção)</td>\n",
       "      <td>Baixa</td>\n",
       "      <td>8</td>\n",
       "    </tr>\n",
       "    <tr>\n",
       "      <th>MasVnrType</th>\n",
       "      <td>Tipo de alvenaria utilizada</td>\n",
       "      <td>Categórico</td>\n",
       "      <td>Building (Construção)</td>\n",
       "      <td>Baixa</td>\n",
       "      <td>8</td>\n",
       "    </tr>\n",
       "    <tr>\n",
       "      <th>Electrical</th>\n",
       "      <td>Tipo de sistema elétrico da casa</td>\n",
       "      <td>Categórico</td>\n",
       "      <td>Building (Construção)</td>\n",
       "      <td>Média</td>\n",
       "      <td>1</td>\n",
       "    </tr>\n",
       "  </tbody>\n",
       "</table>\n",
       "</div>"
      ],
      "text/plain": [
       "                                                       descricao        tipo  \\\n",
       "nome_variavel                                                                  \n",
       "PoolQC                                      Qualidade da piscina  Categórico   \n",
       "MiscFeature    Algumas features não inclusas nas demais categ...  Categórico   \n",
       "Alley            Característica da viela que dá acesso a moradia  Categórico   \n",
       "Fence                   Qualidade do cercado presente na moradia  Categórico   \n",
       "FireplaceQu                               Qualidade das lareiras  Categórico   \n",
       "LotFrontage                Dimensão do perímetro frontal da casa    Numérico   \n",
       "GarageType                            Tipo de garagem da moradia  Categórico   \n",
       "GarageYrBlt                         Ano de construção da garagem    Numérico   \n",
       "GarageFinish                       Acabamento interno da garagem  Categórico   \n",
       "GarageQual                                  Qualidade da garagem  Categórico   \n",
       "GarageCond              Score que define as condições da garagem  Categórico   \n",
       "BsmtExposure                       Exposição do porão da moradia  Categórico   \n",
       "BsmtFinType2   Score do acabamento da região relacionada ao p...  Categórico   \n",
       "BsmtFinType1   Score do acabamento da região relacionada ao p...  Categórico   \n",
       "BsmtCond                      Classifica condição geral do porão  Categórico   \n",
       "BsmtQual         Classifica a moradia quanto ao tamanho do porão  Categórico   \n",
       "MasVnrArea                           Área coberta pela alvenaria  Categórico   \n",
       "MasVnrType                           Tipo de alvenaria utilizada  Categórico   \n",
       "Electrical                      Tipo de sistema elétrico da casa  Categórico   \n",
       "\n",
       "                            segmento expect  qtd_null  \n",
       "nome_variavel                                          \n",
       "PoolQC         Building (Construção)  Média      1453  \n",
       "MiscFeature    Building (Construção)  Baixa      1406  \n",
       "Alley          Building (Construção)  Baixa      1369  \n",
       "Fence          Building (Construção)  Baixa      1179  \n",
       "FireplaceQu    Building (Construção)  Baixa       690  \n",
       "LotFrontage           Space (Espaço)   Alta       259  \n",
       "GarageType            Space (Espaço)   Alta        81  \n",
       "GarageYrBlt    Building (Construção)  Baixa        81  \n",
       "GarageFinish   Building (Construção)  Baixa        81  \n",
       "GarageQual     Building (Construção)  Baixa        81  \n",
       "GarageCond     Building (Construção)  Baixa        81  \n",
       "BsmtExposure   Building (Construção)  Baixa        38  \n",
       "BsmtFinType2   Building (Construção)  Baixa        38  \n",
       "BsmtFinType1   Building (Construção)  Média        37  \n",
       "BsmtCond       Building (Construção)  Média        37  \n",
       "BsmtQual              Space (Espaço)  Baixa        37  \n",
       "MasVnrArea     Building (Construção)  Baixa         8  \n",
       "MasVnrType     Building (Construção)  Baixa         8  \n",
       "Electrical     Building (Construção)  Média         1  "
      ]
     },
     "execution_count": 9,
     "metadata": {},
     "output_type": "execute_result"
    }
   ],
   "source": [
    "# Detalhes da pré-análise sobre dados nulos\n",
    "qtd_null_train = [qtd for qtd in train.isnull().sum().values if qtd > 0]\n",
    "analise_null = pre_analise.loc[null_attr_train, :]\n",
    "analise_null['qtd_null'] = qtd_null_train\n",
    "analise_null.sort_values(by='qtd_null', ascending=False)"
   ]
  },
  {
   "cell_type": "markdown",
   "metadata": {},
   "source": [
    "**Diagnóstico:**\n",
    "\n",
    "Temos quantidades diferentes de entradas nulas nos dois conjuntos de dados disponíveis (treino e teste). A pré-análise irá auxiliar na decisão sobre o tratamento destes dados nulos de acordo com características como _quantidade_, _expectativa (influência)_ e _tipo primitivo_."
   ]
  },
  {
   "cell_type": "markdown",
   "metadata": {},
   "source": [
    "Neste momento, antes de avaliar as possíveis decisões com maior profundidade, vamos analisar um ponto importante: os atributos _Categóricos_."
   ]
  },
  {
   "cell_type": "markdown",
   "metadata": {},
   "source": [
    "#### Atributos Categóricos"
   ]
  },
  {
   "cell_type": "code",
   "execution_count": 10,
   "metadata": {
    "ExecuteTime": {
     "end_time": "2019-06-17T01:53:12.566078Z",
     "start_time": "2019-06-17T01:53:12.553027Z"
    }
   },
   "outputs": [
    {
     "data": {
      "text/plain": [
       "True"
      ]
     },
     "execution_count": 10,
     "metadata": {},
     "output_type": "execute_result"
    }
   ],
   "source": [
    "# Indexando atributos categóricos\n",
    "cat_train_attribs = [attr for attr, dtype in train.dtypes.items() if dtype == 'object']\n",
    "cat_test_attribs = [attr for attr, dtype in test.dtypes.items() if dtype == 'object']\n",
    "\n",
    "# Verificando\n",
    "cat_train_attribs == cat_test_attribs"
   ]
  },
  {
   "cell_type": "markdown",
   "metadata": {},
   "source": [
    "Vamos somar o total de quantidade de entradas dos dois conjuntos"
   ]
  },
  {
   "cell_type": "code",
   "execution_count": 11,
   "metadata": {
    "ExecuteTime": {
     "end_time": "2019-06-17T01:53:12.652365Z",
     "start_time": "2019-06-17T01:53:12.568022Z"
    }
   },
   "outputs": [
    {
     "name": "stdout",
     "output_type": "stream",
     "text": [
      "Total de entradas categóricas nos dados de treino: 252\n"
     ]
    }
   ],
   "source": [
    "# Aplicando somatório\n",
    "total_train_cat_entries = 0\n",
    "for attr in cat_train_attribs:\n",
    "    total_train_cat_entries += len(train[attr].value_counts())\n",
    "    \n",
    "print(f'Total de entradas categóricas nos dados de treino: {total_train_cat_entries}')"
   ]
  },
  {
   "cell_type": "code",
   "execution_count": 12,
   "metadata": {
    "ExecuteTime": {
     "end_time": "2019-06-17T01:53:12.712570Z",
     "start_time": "2019-06-17T01:53:12.654732Z"
    }
   },
   "outputs": [
    {
     "name": "stdout",
     "output_type": "stream",
     "text": [
      "Total de entradas categóricas nos dados de treino: 234\n"
     ]
    }
   ],
   "source": [
    "# Aplicando somatório\n",
    "total_test_cat_entries = 0\n",
    "for attr in cat_test_attribs:\n",
    "    total_test_cat_entries += len(test[attr].value_counts())\n",
    "    \n",
    "print(f'Total de entradas categóricas nos dados de treino: {total_test_cat_entries}')"
   ]
  },
  {
   "cell_type": "markdown",
   "metadata": {},
   "source": [
    "Eis um grande problema! Pensando já nas tratativas dos atributos categóricos para o treinamento do modelo, a aplicação da classe `One Hot Encoder` do scikit-learn transforma uma feature categórica em `n` novas features de acordo com a quantidade `n` de entradas. Vejamos essa quantidade `n` por atributo."
   ]
  },
  {
   "cell_type": "code",
   "execution_count": 13,
   "metadata": {
    "ExecuteTime": {
     "end_time": "2019-06-17T01:53:12.867137Z",
     "start_time": "2019-06-17T01:53:12.715129Z"
    }
   },
   "outputs": [
    {
     "data": {
      "text/html": [
       "<div>\n",
       "<style scoped>\n",
       "    .dataframe tbody tr th:only-of-type {\n",
       "        vertical-align: middle;\n",
       "    }\n",
       "\n",
       "    .dataframe tbody tr th {\n",
       "        vertical-align: top;\n",
       "    }\n",
       "\n",
       "    .dataframe thead th {\n",
       "        text-align: right;\n",
       "    }\n",
       "</style>\n",
       "<table border=\"1\" class=\"dataframe\">\n",
       "  <thead>\n",
       "    <tr style=\"text-align: right;\">\n",
       "      <th></th>\n",
       "      <th>qtd_train_entries</th>\n",
       "      <th>qtd_null_train</th>\n",
       "      <th>qtd_test_entries</th>\n",
       "      <th>qtd_null_test</th>\n",
       "      <th>diff</th>\n",
       "    </tr>\n",
       "  </thead>\n",
       "  <tbody>\n",
       "    <tr>\n",
       "      <th>MSZoning</th>\n",
       "      <td>5</td>\n",
       "      <td>0</td>\n",
       "      <td>5</td>\n",
       "      <td>4</td>\n",
       "      <td>0</td>\n",
       "    </tr>\n",
       "    <tr>\n",
       "      <th>Street</th>\n",
       "      <td>2</td>\n",
       "      <td>0</td>\n",
       "      <td>2</td>\n",
       "      <td>0</td>\n",
       "      <td>0</td>\n",
       "    </tr>\n",
       "    <tr>\n",
       "      <th>Alley</th>\n",
       "      <td>2</td>\n",
       "      <td>1369</td>\n",
       "      <td>2</td>\n",
       "      <td>1352</td>\n",
       "      <td>0</td>\n",
       "    </tr>\n",
       "    <tr>\n",
       "      <th>LotShape</th>\n",
       "      <td>4</td>\n",
       "      <td>0</td>\n",
       "      <td>4</td>\n",
       "      <td>0</td>\n",
       "      <td>0</td>\n",
       "    </tr>\n",
       "    <tr>\n",
       "      <th>LandContour</th>\n",
       "      <td>4</td>\n",
       "      <td>0</td>\n",
       "      <td>4</td>\n",
       "      <td>0</td>\n",
       "      <td>0</td>\n",
       "    </tr>\n",
       "  </tbody>\n",
       "</table>\n",
       "</div>"
      ],
      "text/plain": [
       "             qtd_train_entries  qtd_null_train  qtd_test_entries  \\\n",
       "MSZoning                     5               0                 5   \n",
       "Street                       2               0                 2   \n",
       "Alley                        2            1369                 2   \n",
       "LotShape                     4               0                 4   \n",
       "LandContour                  4               0                 4   \n",
       "\n",
       "             qtd_null_test  diff  \n",
       "MSZoning                 4     0  \n",
       "Street                   0     0  \n",
       "Alley                 1352     0  \n",
       "LotShape                 0     0  \n",
       "LandContour              0     0  "
      ]
     },
     "execution_count": 13,
     "metadata": {},
     "output_type": "execute_result"
    }
   ],
   "source": [
    "# Criando análise com dados de treino e teste\n",
    "cat_entries_info = pd.DataFrame({})\n",
    "cat_train_list = []\n",
    "train_null = []\n",
    "cat_test_list = []\n",
    "test_null = []\n",
    "for attr in cat_train_attribs:\n",
    "    cat_train_list.append(len(train[attr].value_counts()))\n",
    "    cat_test_list.append(len(test[attr].value_counts()))\n",
    "    train_null.append(train[attr].isnull().sum())\n",
    "    test_null.append(test[attr].isnull().sum())\n",
    "\n",
    "# Adicionando dados e configurando dataframe\n",
    "cat_entries_info['qtd_train_entries'] = cat_train_list\n",
    "cat_entries_info['qtd_null_train'] = train_null\n",
    "cat_entries_info['qtd_test_entries'] = cat_test_list\n",
    "cat_entries_info['qtd_null_test'] = test_null\n",
    "cat_entries_info['diff'] = cat_entries_info['qtd_train_entries'] - \\\n",
    "cat_entries_info['qtd_test_entries']\n",
    "cat_entries_info.index = cat_train_attribs\n",
    "\n",
    "# Verificando\n",
    "cat_entries_info.head()"
   ]
  },
  {
   "cell_type": "code",
   "execution_count": 14,
   "metadata": {
    "ExecuteTime": {
     "end_time": "2019-06-17T01:53:12.892596Z",
     "start_time": "2019-06-17T01:53:12.870656Z"
    }
   },
   "outputs": [
    {
     "data": {
      "text/html": [
       "<div>\n",
       "<style scoped>\n",
       "    .dataframe tbody tr th:only-of-type {\n",
       "        vertical-align: middle;\n",
       "    }\n",
       "\n",
       "    .dataframe tbody tr th {\n",
       "        vertical-align: top;\n",
       "    }\n",
       "\n",
       "    .dataframe thead th {\n",
       "        text-align: right;\n",
       "    }\n",
       "</style>\n",
       "<table border=\"1\" class=\"dataframe\">\n",
       "  <thead>\n",
       "    <tr style=\"text-align: right;\">\n",
       "      <th></th>\n",
       "      <th>qtd_train_entries</th>\n",
       "      <th>qtd_null_train</th>\n",
       "      <th>qtd_test_entries</th>\n",
       "      <th>qtd_null_test</th>\n",
       "      <th>diff</th>\n",
       "      <th>expect</th>\n",
       "    </tr>\n",
       "  </thead>\n",
       "  <tbody>\n",
       "    <tr>\n",
       "      <th>PoolQC</th>\n",
       "      <td>3</td>\n",
       "      <td>1453</td>\n",
       "      <td>2</td>\n",
       "      <td>1456</td>\n",
       "      <td>1</td>\n",
       "      <td>Média</td>\n",
       "    </tr>\n",
       "    <tr>\n",
       "      <th>MiscFeature</th>\n",
       "      <td>4</td>\n",
       "      <td>1406</td>\n",
       "      <td>3</td>\n",
       "      <td>1408</td>\n",
       "      <td>1</td>\n",
       "      <td>Baixa</td>\n",
       "    </tr>\n",
       "    <tr>\n",
       "      <th>Alley</th>\n",
       "      <td>2</td>\n",
       "      <td>1369</td>\n",
       "      <td>2</td>\n",
       "      <td>1352</td>\n",
       "      <td>0</td>\n",
       "      <td>Baixa</td>\n",
       "    </tr>\n",
       "    <tr>\n",
       "      <th>Fence</th>\n",
       "      <td>4</td>\n",
       "      <td>1179</td>\n",
       "      <td>4</td>\n",
       "      <td>1169</td>\n",
       "      <td>0</td>\n",
       "      <td>Baixa</td>\n",
       "    </tr>\n",
       "    <tr>\n",
       "      <th>FireplaceQu</th>\n",
       "      <td>5</td>\n",
       "      <td>690</td>\n",
       "      <td>5</td>\n",
       "      <td>730</td>\n",
       "      <td>0</td>\n",
       "      <td>Baixa</td>\n",
       "    </tr>\n",
       "    <tr>\n",
       "      <th>GarageType</th>\n",
       "      <td>6</td>\n",
       "      <td>81</td>\n",
       "      <td>6</td>\n",
       "      <td>76</td>\n",
       "      <td>0</td>\n",
       "      <td>Alta</td>\n",
       "    </tr>\n",
       "    <tr>\n",
       "      <th>GarageCond</th>\n",
       "      <td>5</td>\n",
       "      <td>81</td>\n",
       "      <td>5</td>\n",
       "      <td>78</td>\n",
       "      <td>0</td>\n",
       "      <td>Baixa</td>\n",
       "    </tr>\n",
       "    <tr>\n",
       "      <th>GarageQual</th>\n",
       "      <td>5</td>\n",
       "      <td>81</td>\n",
       "      <td>4</td>\n",
       "      <td>78</td>\n",
       "      <td>1</td>\n",
       "      <td>Baixa</td>\n",
       "    </tr>\n",
       "    <tr>\n",
       "      <th>GarageFinish</th>\n",
       "      <td>3</td>\n",
       "      <td>81</td>\n",
       "      <td>3</td>\n",
       "      <td>78</td>\n",
       "      <td>0</td>\n",
       "      <td>Baixa</td>\n",
       "    </tr>\n",
       "    <tr>\n",
       "      <th>BsmtFinType2</th>\n",
       "      <td>6</td>\n",
       "      <td>38</td>\n",
       "      <td>6</td>\n",
       "      <td>42</td>\n",
       "      <td>0</td>\n",
       "      <td>Baixa</td>\n",
       "    </tr>\n",
       "    <tr>\n",
       "      <th>BsmtExposure</th>\n",
       "      <td>4</td>\n",
       "      <td>38</td>\n",
       "      <td>4</td>\n",
       "      <td>44</td>\n",
       "      <td>0</td>\n",
       "      <td>Baixa</td>\n",
       "    </tr>\n",
       "    <tr>\n",
       "      <th>BsmtFinType1</th>\n",
       "      <td>6</td>\n",
       "      <td>37</td>\n",
       "      <td>6</td>\n",
       "      <td>42</td>\n",
       "      <td>0</td>\n",
       "      <td>Média</td>\n",
       "    </tr>\n",
       "    <tr>\n",
       "      <th>BsmtQual</th>\n",
       "      <td>4</td>\n",
       "      <td>37</td>\n",
       "      <td>4</td>\n",
       "      <td>44</td>\n",
       "      <td>0</td>\n",
       "      <td>Baixa</td>\n",
       "    </tr>\n",
       "    <tr>\n",
       "      <th>BsmtCond</th>\n",
       "      <td>4</td>\n",
       "      <td>37</td>\n",
       "      <td>4</td>\n",
       "      <td>45</td>\n",
       "      <td>0</td>\n",
       "      <td>Média</td>\n",
       "    </tr>\n",
       "    <tr>\n",
       "      <th>MasVnrType</th>\n",
       "      <td>4</td>\n",
       "      <td>8</td>\n",
       "      <td>4</td>\n",
       "      <td>16</td>\n",
       "      <td>0</td>\n",
       "      <td>Baixa</td>\n",
       "    </tr>\n",
       "    <tr>\n",
       "      <th>Electrical</th>\n",
       "      <td>5</td>\n",
       "      <td>1</td>\n",
       "      <td>4</td>\n",
       "      <td>0</td>\n",
       "      <td>1</td>\n",
       "      <td>Média</td>\n",
       "    </tr>\n",
       "    <tr>\n",
       "      <th>Functional</th>\n",
       "      <td>7</td>\n",
       "      <td>0</td>\n",
       "      <td>7</td>\n",
       "      <td>2</td>\n",
       "      <td>0</td>\n",
       "      <td>Média</td>\n",
       "    </tr>\n",
       "    <tr>\n",
       "      <th>KitchenQual</th>\n",
       "      <td>4</td>\n",
       "      <td>0</td>\n",
       "      <td>4</td>\n",
       "      <td>1</td>\n",
       "      <td>0</td>\n",
       "      <td>Alta</td>\n",
       "    </tr>\n",
       "    <tr>\n",
       "      <th>CentralAir</th>\n",
       "      <td>2</td>\n",
       "      <td>0</td>\n",
       "      <td>2</td>\n",
       "      <td>0</td>\n",
       "      <td>0</td>\n",
       "      <td>Alta</td>\n",
       "    </tr>\n",
       "    <tr>\n",
       "      <th>HeatingQC</th>\n",
       "      <td>5</td>\n",
       "      <td>0</td>\n",
       "      <td>5</td>\n",
       "      <td>0</td>\n",
       "      <td>0</td>\n",
       "      <td>Alta</td>\n",
       "    </tr>\n",
       "    <tr>\n",
       "      <th>Heating</th>\n",
       "      <td>6</td>\n",
       "      <td>0</td>\n",
       "      <td>4</td>\n",
       "      <td>0</td>\n",
       "      <td>2</td>\n",
       "      <td>Alta</td>\n",
       "    </tr>\n",
       "    <tr>\n",
       "      <th>PavedDrive</th>\n",
       "      <td>3</td>\n",
       "      <td>0</td>\n",
       "      <td>3</td>\n",
       "      <td>0</td>\n",
       "      <td>0</td>\n",
       "      <td>Baixa</td>\n",
       "    </tr>\n",
       "    <tr>\n",
       "      <th>SaleType</th>\n",
       "      <td>9</td>\n",
       "      <td>0</td>\n",
       "      <td>9</td>\n",
       "      <td>1</td>\n",
       "      <td>0</td>\n",
       "      <td>Baixa</td>\n",
       "    </tr>\n",
       "    <tr>\n",
       "      <th>MSZoning</th>\n",
       "      <td>5</td>\n",
       "      <td>0</td>\n",
       "      <td>5</td>\n",
       "      <td>4</td>\n",
       "      <td>0</td>\n",
       "      <td>Alta</td>\n",
       "    </tr>\n",
       "    <tr>\n",
       "      <th>Street</th>\n",
       "      <td>2</td>\n",
       "      <td>0</td>\n",
       "      <td>2</td>\n",
       "      <td>0</td>\n",
       "      <td>0</td>\n",
       "      <td>Média</td>\n",
       "    </tr>\n",
       "    <tr>\n",
       "      <th>Condition2</th>\n",
       "      <td>8</td>\n",
       "      <td>0</td>\n",
       "      <td>5</td>\n",
       "      <td>0</td>\n",
       "      <td>3</td>\n",
       "      <td>Baixa</td>\n",
       "    </tr>\n",
       "    <tr>\n",
       "      <th>LotShape</th>\n",
       "      <td>4</td>\n",
       "      <td>0</td>\n",
       "      <td>4</td>\n",
       "      <td>0</td>\n",
       "      <td>0</td>\n",
       "      <td>Média</td>\n",
       "    </tr>\n",
       "    <tr>\n",
       "      <th>LandContour</th>\n",
       "      <td>4</td>\n",
       "      <td>0</td>\n",
       "      <td>4</td>\n",
       "      <td>0</td>\n",
       "      <td>0</td>\n",
       "      <td>Baixa</td>\n",
       "    </tr>\n",
       "    <tr>\n",
       "      <th>Utilities</th>\n",
       "      <td>2</td>\n",
       "      <td>0</td>\n",
       "      <td>1</td>\n",
       "      <td>2</td>\n",
       "      <td>1</td>\n",
       "      <td>Alta</td>\n",
       "    </tr>\n",
       "    <tr>\n",
       "      <th>LotConfig</th>\n",
       "      <td>5</td>\n",
       "      <td>0</td>\n",
       "      <td>5</td>\n",
       "      <td>0</td>\n",
       "      <td>0</td>\n",
       "      <td>Baixa</td>\n",
       "    </tr>\n",
       "    <tr>\n",
       "      <th>LandSlope</th>\n",
       "      <td>3</td>\n",
       "      <td>0</td>\n",
       "      <td>3</td>\n",
       "      <td>0</td>\n",
       "      <td>0</td>\n",
       "      <td>Baixa</td>\n",
       "    </tr>\n",
       "    <tr>\n",
       "      <th>Neighborhood</th>\n",
       "      <td>25</td>\n",
       "      <td>0</td>\n",
       "      <td>25</td>\n",
       "      <td>0</td>\n",
       "      <td>0</td>\n",
       "      <td>Baixa</td>\n",
       "    </tr>\n",
       "    <tr>\n",
       "      <th>Condition1</th>\n",
       "      <td>9</td>\n",
       "      <td>0</td>\n",
       "      <td>9</td>\n",
       "      <td>0</td>\n",
       "      <td>0</td>\n",
       "      <td>Média</td>\n",
       "    </tr>\n",
       "    <tr>\n",
       "      <th>BldgType</th>\n",
       "      <td>5</td>\n",
       "      <td>0</td>\n",
       "      <td>5</td>\n",
       "      <td>0</td>\n",
       "      <td>0</td>\n",
       "      <td>Média</td>\n",
       "    </tr>\n",
       "    <tr>\n",
       "      <th>Foundation</th>\n",
       "      <td>6</td>\n",
       "      <td>0</td>\n",
       "      <td>6</td>\n",
       "      <td>0</td>\n",
       "      <td>0</td>\n",
       "      <td>Alta</td>\n",
       "    </tr>\n",
       "    <tr>\n",
       "      <th>HouseStyle</th>\n",
       "      <td>8</td>\n",
       "      <td>0</td>\n",
       "      <td>7</td>\n",
       "      <td>0</td>\n",
       "      <td>1</td>\n",
       "      <td>Média</td>\n",
       "    </tr>\n",
       "    <tr>\n",
       "      <th>RoofStyle</th>\n",
       "      <td>6</td>\n",
       "      <td>0</td>\n",
       "      <td>6</td>\n",
       "      <td>0</td>\n",
       "      <td>0</td>\n",
       "      <td>Média</td>\n",
       "    </tr>\n",
       "    <tr>\n",
       "      <th>RoofMatl</th>\n",
       "      <td>8</td>\n",
       "      <td>0</td>\n",
       "      <td>4</td>\n",
       "      <td>0</td>\n",
       "      <td>4</td>\n",
       "      <td>NaN</td>\n",
       "    </tr>\n",
       "    <tr>\n",
       "      <th>Exterior1st</th>\n",
       "      <td>15</td>\n",
       "      <td>0</td>\n",
       "      <td>13</td>\n",
       "      <td>1</td>\n",
       "      <td>2</td>\n",
       "      <td>Baixa</td>\n",
       "    </tr>\n",
       "    <tr>\n",
       "      <th>Exterior2nd</th>\n",
       "      <td>16</td>\n",
       "      <td>0</td>\n",
       "      <td>15</td>\n",
       "      <td>1</td>\n",
       "      <td>1</td>\n",
       "      <td>Baixa</td>\n",
       "    </tr>\n",
       "    <tr>\n",
       "      <th>ExterQual</th>\n",
       "      <td>4</td>\n",
       "      <td>0</td>\n",
       "      <td>4</td>\n",
       "      <td>0</td>\n",
       "      <td>0</td>\n",
       "      <td>Alta</td>\n",
       "    </tr>\n",
       "    <tr>\n",
       "      <th>ExterCond</th>\n",
       "      <td>5</td>\n",
       "      <td>0</td>\n",
       "      <td>5</td>\n",
       "      <td>0</td>\n",
       "      <td>0</td>\n",
       "      <td>Alta</td>\n",
       "    </tr>\n",
       "    <tr>\n",
       "      <th>SaleCondition</th>\n",
       "      <td>6</td>\n",
       "      <td>0</td>\n",
       "      <td>6</td>\n",
       "      <td>0</td>\n",
       "      <td>0</td>\n",
       "      <td>Baixa</td>\n",
       "    </tr>\n",
       "  </tbody>\n",
       "</table>\n",
       "</div>"
      ],
      "text/plain": [
       "               qtd_train_entries  qtd_null_train  qtd_test_entries  \\\n",
       "PoolQC                         3            1453                 2   \n",
       "MiscFeature                    4            1406                 3   \n",
       "Alley                          2            1369                 2   \n",
       "Fence                          4            1179                 4   \n",
       "FireplaceQu                    5             690                 5   \n",
       "GarageType                     6              81                 6   \n",
       "GarageCond                     5              81                 5   \n",
       "GarageQual                     5              81                 4   \n",
       "GarageFinish                   3              81                 3   \n",
       "BsmtFinType2                   6              38                 6   \n",
       "BsmtExposure                   4              38                 4   \n",
       "BsmtFinType1                   6              37                 6   \n",
       "BsmtQual                       4              37                 4   \n",
       "BsmtCond                       4              37                 4   \n",
       "MasVnrType                     4               8                 4   \n",
       "Electrical                     5               1                 4   \n",
       "Functional                     7               0                 7   \n",
       "KitchenQual                    4               0                 4   \n",
       "CentralAir                     2               0                 2   \n",
       "HeatingQC                      5               0                 5   \n",
       "Heating                        6               0                 4   \n",
       "PavedDrive                     3               0                 3   \n",
       "SaleType                       9               0                 9   \n",
       "MSZoning                       5               0                 5   \n",
       "Street                         2               0                 2   \n",
       "Condition2                     8               0                 5   \n",
       "LotShape                       4               0                 4   \n",
       "LandContour                    4               0                 4   \n",
       "Utilities                      2               0                 1   \n",
       "LotConfig                      5               0                 5   \n",
       "LandSlope                      3               0                 3   \n",
       "Neighborhood                  25               0                25   \n",
       "Condition1                     9               0                 9   \n",
       "BldgType                       5               0                 5   \n",
       "Foundation                     6               0                 6   \n",
       "HouseStyle                     8               0                 7   \n",
       "RoofStyle                      6               0                 6   \n",
       "RoofMatl                       8               0                 4   \n",
       "Exterior1st                   15               0                13   \n",
       "Exterior2nd                   16               0                15   \n",
       "ExterQual                      4               0                 4   \n",
       "ExterCond                      5               0                 5   \n",
       "SaleCondition                  6               0                 6   \n",
       "\n",
       "               qtd_null_test  diff expect  \n",
       "PoolQC                  1456     1  Média  \n",
       "MiscFeature             1408     1  Baixa  \n",
       "Alley                   1352     0  Baixa  \n",
       "Fence                   1169     0  Baixa  \n",
       "FireplaceQu              730     0  Baixa  \n",
       "GarageType                76     0   Alta  \n",
       "GarageCond                78     0  Baixa  \n",
       "GarageQual                78     1  Baixa  \n",
       "GarageFinish              78     0  Baixa  \n",
       "BsmtFinType2              42     0  Baixa  \n",
       "BsmtExposure              44     0  Baixa  \n",
       "BsmtFinType1              42     0  Média  \n",
       "BsmtQual                  44     0  Baixa  \n",
       "BsmtCond                  45     0  Média  \n",
       "MasVnrType                16     0  Baixa  \n",
       "Electrical                 0     1  Média  \n",
       "Functional                 2     0  Média  \n",
       "KitchenQual                1     0   Alta  \n",
       "CentralAir                 0     0   Alta  \n",
       "HeatingQC                  0     0   Alta  \n",
       "Heating                    0     2   Alta  \n",
       "PavedDrive                 0     0  Baixa  \n",
       "SaleType                   1     0  Baixa  \n",
       "MSZoning                   4     0   Alta  \n",
       "Street                     0     0  Média  \n",
       "Condition2                 0     3  Baixa  \n",
       "LotShape                   0     0  Média  \n",
       "LandContour                0     0  Baixa  \n",
       "Utilities                  2     1   Alta  \n",
       "LotConfig                  0     0  Baixa  \n",
       "LandSlope                  0     0  Baixa  \n",
       "Neighborhood               0     0  Baixa  \n",
       "Condition1                 0     0  Média  \n",
       "BldgType                   0     0  Média  \n",
       "Foundation                 0     0   Alta  \n",
       "HouseStyle                 0     1  Média  \n",
       "RoofStyle                  0     0  Média  \n",
       "RoofMatl                   0     4    NaN  \n",
       "Exterior1st                1     2  Baixa  \n",
       "Exterior2nd                1     1  Baixa  \n",
       "ExterQual                  0     0   Alta  \n",
       "ExterCond                  0     0   Alta  \n",
       "SaleCondition              0     0  Baixa  "
      ]
     },
     "execution_count": 14,
     "metadata": {},
     "output_type": "execute_result"
    }
   ],
   "source": [
    "# Adicionando influência da pré análise\n",
    "expect_cat = pre_analise.loc[cat_entries_info.index, ['expect']].values\n",
    "cat_entries_info['expect'] = expect_cat\n",
    "\n",
    "# Visualizando\n",
    "cat_entries_info.sort_values(by='qtd_null_train', ascending=False, inplace=True)\n",
    "cat_entries_info"
   ]
  },
  {
   "cell_type": "markdown",
   "metadata": {},
   "source": [
    "Temos alguns problemas:\n",
    "\n",
    "* Atributos com grandes quantidades de dados nulos;\n",
    "* Atributos com diferenças na quantidade de entradas entre os conjuntos de treino e teste (diff > 0);\n",
    "\n",
    "**Solução 1:** Deletar todos os atributos categóricos que não tenham _alta_ influência no target e com diferença de entradas entre os dados de treino e teste, evitando problemas com o _one hot encoder_. O preenchimento dos dados nulos dos atributos restantes (se existirem) será dado pelas entradas mais comuns.;\n",
    "\n",
    "**Solução 2:** Deletar atributos categóricos com presença de dados nulos em uma quantidade acima de um threshold a ser determinado, independente da influência no target. O preenchimento dos dados nulos seria dado pela entrada mais comum;"
   ]
  },
  {
   "cell_type": "markdown",
   "metadata": {},
   "source": [
    "Seguindo a primeira solução, ficaríamos apenas com os atributos _ExterQual_, _ExterCond_, _MSZoning_, _KitchenQual_, _CentralAir_, _HeatingQC_ e _GarageType_."
   ]
  },
  {
   "cell_type": "markdown",
   "metadata": {},
   "source": [
    "##### Filtrando Atributos"
   ]
  },
  {
   "cell_type": "code",
   "execution_count": 15,
   "metadata": {
    "ExecuteTime": {
     "end_time": "2019-06-17T01:53:12.916755Z",
     "start_time": "2019-06-17T01:53:12.898680Z"
    }
   },
   "outputs": [
    {
     "data": {
      "text/html": [
       "<div>\n",
       "<style scoped>\n",
       "    .dataframe tbody tr th:only-of-type {\n",
       "        vertical-align: middle;\n",
       "    }\n",
       "\n",
       "    .dataframe tbody tr th {\n",
       "        vertical-align: top;\n",
       "    }\n",
       "\n",
       "    .dataframe thead th {\n",
       "        text-align: right;\n",
       "    }\n",
       "</style>\n",
       "<table border=\"1\" class=\"dataframe\">\n",
       "  <thead>\n",
       "    <tr style=\"text-align: right;\">\n",
       "      <th></th>\n",
       "      <th>qtd_train_entries</th>\n",
       "      <th>qtd_null_train</th>\n",
       "      <th>qtd_test_entries</th>\n",
       "      <th>qtd_null_test</th>\n",
       "      <th>diff</th>\n",
       "      <th>expect</th>\n",
       "    </tr>\n",
       "  </thead>\n",
       "  <tbody>\n",
       "    <tr>\n",
       "      <th>GarageType</th>\n",
       "      <td>6</td>\n",
       "      <td>81</td>\n",
       "      <td>6</td>\n",
       "      <td>76</td>\n",
       "      <td>0</td>\n",
       "      <td>Alta</td>\n",
       "    </tr>\n",
       "    <tr>\n",
       "      <th>KitchenQual</th>\n",
       "      <td>4</td>\n",
       "      <td>0</td>\n",
       "      <td>4</td>\n",
       "      <td>1</td>\n",
       "      <td>0</td>\n",
       "      <td>Alta</td>\n",
       "    </tr>\n",
       "    <tr>\n",
       "      <th>CentralAir</th>\n",
       "      <td>2</td>\n",
       "      <td>0</td>\n",
       "      <td>2</td>\n",
       "      <td>0</td>\n",
       "      <td>0</td>\n",
       "      <td>Alta</td>\n",
       "    </tr>\n",
       "    <tr>\n",
       "      <th>HeatingQC</th>\n",
       "      <td>5</td>\n",
       "      <td>0</td>\n",
       "      <td>5</td>\n",
       "      <td>0</td>\n",
       "      <td>0</td>\n",
       "      <td>Alta</td>\n",
       "    </tr>\n",
       "    <tr>\n",
       "      <th>MSZoning</th>\n",
       "      <td>5</td>\n",
       "      <td>0</td>\n",
       "      <td>5</td>\n",
       "      <td>4</td>\n",
       "      <td>0</td>\n",
       "      <td>Alta</td>\n",
       "    </tr>\n",
       "    <tr>\n",
       "      <th>Foundation</th>\n",
       "      <td>6</td>\n",
       "      <td>0</td>\n",
       "      <td>6</td>\n",
       "      <td>0</td>\n",
       "      <td>0</td>\n",
       "      <td>Alta</td>\n",
       "    </tr>\n",
       "    <tr>\n",
       "      <th>ExterQual</th>\n",
       "      <td>4</td>\n",
       "      <td>0</td>\n",
       "      <td>4</td>\n",
       "      <td>0</td>\n",
       "      <td>0</td>\n",
       "      <td>Alta</td>\n",
       "    </tr>\n",
       "    <tr>\n",
       "      <th>ExterCond</th>\n",
       "      <td>5</td>\n",
       "      <td>0</td>\n",
       "      <td>5</td>\n",
       "      <td>0</td>\n",
       "      <td>0</td>\n",
       "      <td>Alta</td>\n",
       "    </tr>\n",
       "  </tbody>\n",
       "</table>\n",
       "</div>"
      ],
      "text/plain": [
       "             qtd_train_entries  qtd_null_train  qtd_test_entries  \\\n",
       "GarageType                   6              81                 6   \n",
       "KitchenQual                  4               0                 4   \n",
       "CentralAir                   2               0                 2   \n",
       "HeatingQC                    5               0                 5   \n",
       "MSZoning                     5               0                 5   \n",
       "Foundation                   6               0                 6   \n",
       "ExterQual                    4               0                 4   \n",
       "ExterCond                    5               0                 5   \n",
       "\n",
       "             qtd_null_test  diff expect  \n",
       "GarageType              76     0   Alta  \n",
       "KitchenQual              1     0   Alta  \n",
       "CentralAir               0     0   Alta  \n",
       "HeatingQC                0     0   Alta  \n",
       "MSZoning                 4     0   Alta  \n",
       "Foundation               0     0   Alta  \n",
       "ExterQual                0     0   Alta  \n",
       "ExterCond                0     0   Alta  "
      ]
     },
     "execution_count": 15,
     "metadata": {},
     "output_type": "execute_result"
    }
   ],
   "source": [
    "# Atributos categóricos mantidos\n",
    "keep_cat_df = cat_entries_info.query('expect == \"Alta\" & diff == 0')\n",
    "drop_cat_df = cat_entries_info.query('expect != \"Alta\"')\n",
    "keep_cat_df"
   ]
  },
  {
   "cell_type": "markdown",
   "metadata": {},
   "source": [
    "**Solução 1.1:** Preencher os dados nulos com as entradas mais comuns.\n",
    "\n",
    "**Solução 1.2:** Deletar instâncias com dados nulos."
   ]
  },
  {
   "cell_type": "code",
   "execution_count": 16,
   "metadata": {
    "ExecuteTime": {
     "end_time": "2019-06-17T01:53:12.927821Z",
     "start_time": "2019-06-17T01:53:12.919255Z"
    }
   },
   "outputs": [
    {
     "name": "stdout",
     "output_type": "stream",
     "text": [
      "Dataset original: (1460, 81)\n",
      "Dataset filtrado: (1460, 48)\n",
      "Total de atributos categóricos excluídos: 33\n",
      "Valores batem? True\n"
     ]
    }
   ],
   "source": [
    "# Filtrando colunas\n",
    "drop_cat = drop_cat_df.index\n",
    "train_cat_attr_filtered = train.drop(drop_cat, axis=1)\n",
    "\n",
    "# Levantando atributos categóricos\n",
    "definitive_cat_attr = [attr for attr, dtype in train_cat_attr_filtered.dtypes.items() if dtype == 'object']\n",
    "\n",
    "# Verificando dimensões\n",
    "print(f'Dataset original: {train.shape}')\n",
    "print(f'Dataset filtrado: {train_cat_attr_filtered.shape}')\n",
    "print(f'Total de atributos categóricos excluídos: {len(drop_cat)}')\n",
    "\n",
    "print(f'Valores batem? {len(drop_cat) == train.shape[1] - train_cat_attr_filtered.shape[1]}')"
   ]
  },
  {
   "cell_type": "code",
   "execution_count": 17,
   "metadata": {
    "ExecuteTime": {
     "end_time": "2019-06-17T01:53:12.934902Z",
     "start_time": "2019-06-17T01:53:12.929721Z"
    }
   },
   "outputs": [],
   "source": [
    "# Criando função para selecionar atributos numéricos e categóricos (facilitando implementação)\n",
    "def filter_attribs(X, cat=True):\n",
    "    \"\"\"\n",
    "    seleciona os atributos de acordo com seu tipo primitivo e retorna uma lista como resultado\n",
    "    \"\"\"\n",
    "    if cat:\n",
    "        attribs = [attr for attr, dtype in X.dtypes.items() if dtype == 'object']\n",
    "    else:\n",
    "        attribs = [attr for attr, dtype in X.dtypes.items() if dtype != 'object']\n",
    "    \n",
    "    return attribs"
   ]
  },
  {
   "cell_type": "code",
   "execution_count": 18,
   "metadata": {
    "ExecuteTime": {
     "end_time": "2019-06-17T01:53:12.945500Z",
     "start_time": "2019-06-17T01:53:12.937234Z"
    }
   },
   "outputs": [
    {
     "name": "stdout",
     "output_type": "stream",
     "text": [
      "Colunas categóricas (sem função): 10\n",
      "Colunas categóricas (após função): 10\n",
      "Números batem? True\n"
     ]
    }
   ],
   "source": [
    "# Testando função\n",
    "new_cat_attribs = filter_attribs(train_cat_attr_filtered)\n",
    "\n",
    "# Verificando se batem\n",
    "print(f'Colunas categóricas (sem função): {len(definitive_cat_attr)}')\n",
    "print(f'Colunas categóricas (após função): {len(new_cat_attribs)}')\n",
    "print(f'Números batem? {len(definitive_cat_attr) == len(new_cat_attribs)}')"
   ]
  },
  {
   "cell_type": "markdown",
   "metadata": {},
   "source": [
    "##### Preenchendo Dados Nulos"
   ]
  },
  {
   "cell_type": "markdown",
   "metadata": {},
   "source": [
    "Como informado anteriormente, o preenchimento dos dados nulos será dado pelas entradas mais comuns dentro dos atributos categóricos."
   ]
  },
  {
   "cell_type": "code",
   "execution_count": 19,
   "metadata": {
    "ExecuteTime": {
     "end_time": "2019-06-17T01:53:12.968587Z",
     "start_time": "2019-06-17T01:53:12.948410Z"
    }
   },
   "outputs": [
    {
     "data": {
      "text/plain": [
       "Index(['GarageType'], dtype='object')"
      ]
     },
     "execution_count": 19,
     "metadata": {},
     "output_type": "execute_result"
    }
   ],
   "source": [
    "# Filtrando atributos que possuem dados nulos\n",
    "X = train_cat_attr_filtered.copy()\n",
    "X_cat = X.loc[:, definitive_cat_attr]\n",
    "X_cat.isnull().any()[X_cat.isnull().any().values].index"
   ]
  },
  {
   "cell_type": "markdown",
   "metadata": {},
   "source": [
    "De fato, depois da filtragem dos atributos categóricos, temos apenas `GarageType` contendo dados nulos. Vamos analisa-lo melhor."
   ]
  },
  {
   "cell_type": "code",
   "execution_count": 20,
   "metadata": {
    "ExecuteTime": {
     "end_time": "2019-06-17T01:53:12.980178Z",
     "start_time": "2019-06-17T01:53:12.971546Z"
    }
   },
   "outputs": [
    {
     "data": {
      "text/plain": [
       "Attchd     870\n",
       "Detchd     387\n",
       "BuiltIn     88\n",
       "Basment     19\n",
       "CarPort      9\n",
       "2Types       6\n",
       "Name: GarageType, dtype: int64"
      ]
     },
     "execution_count": 20,
     "metadata": {},
     "output_type": "execute_result"
    }
   ],
   "source": [
    "# Vamos analisar se é viável manter GarageType dados a quantidade de nulos\n",
    "X['GarageType'].value_counts()"
   ]
  },
  {
   "cell_type": "code",
   "execution_count": 21,
   "metadata": {
    "ExecuteTime": {
     "end_time": "2019-06-17T01:53:12.996968Z",
     "start_time": "2019-06-17T01:53:12.983853Z"
    }
   },
   "outputs": [
    {
     "data": {
      "text/plain": [
       "'Attchd'"
      ]
     },
     "execution_count": 21,
     "metadata": {},
     "output_type": "execute_result"
    }
   ],
   "source": [
    "# Retornando a entrada mais comum\n",
    "most_common = X['GarageType'].value_counts().index[0]\n",
    "most_common"
   ]
  },
  {
   "cell_type": "code",
   "execution_count": 22,
   "metadata": {
    "ExecuteTime": {
     "end_time": "2019-06-17T01:53:13.007028Z",
     "start_time": "2019-06-17T01:53:12.999472Z"
    }
   },
   "outputs": [],
   "source": [
    "# Preenchendo\n",
    "X['GarageType'] = X[['GarageType']].fillna(value=most_common)"
   ]
  },
  {
   "cell_type": "code",
   "execution_count": 23,
   "metadata": {
    "ExecuteTime": {
     "end_time": "2019-06-17T01:53:13.024951Z",
     "start_time": "2019-06-17T01:53:13.009342Z"
    }
   },
   "outputs": [
    {
     "data": {
      "text/plain": [
       "Index([], dtype='object')"
      ]
     },
     "execution_count": 23,
     "metadata": {},
     "output_type": "execute_result"
    }
   ],
   "source": [
    "# Verificando se ainda existem dados nulos\n",
    "X_cat = X.loc[:, definitive_cat_attr]\n",
    "X_cat.isnull().any()[X_cat.isnull().any().values].index"
   ]
  },
  {
   "cell_type": "code",
   "execution_count": 24,
   "metadata": {
    "ExecuteTime": {
     "end_time": "2019-06-17T01:53:13.144467Z",
     "start_time": "2019-06-17T01:53:13.028818Z"
    }
   },
   "outputs": [],
   "source": [
    "# Criando classe para ser implementada futuramente em um pipeline\n",
    "from sklearn.base import BaseEstimator, TransformerMixin\n",
    "\n",
    "class fillCategoricalNullValues(BaseEstimator, TransformerMixin):\n",
    "    \n",
    "    def fit(self, X, y=None):\n",
    "        return self\n",
    "    \n",
    "    def transform(self, X, y=None):\n",
    "        # Retornando colunas com dados nulos\n",
    "        null_cat_attr = list(X.isnull().any()[X.isnull().any().values].index)\n",
    "        \n",
    "        # Retornando entradas mais comuns de cada um deles\n",
    "        fill_data = {}\n",
    "        for attr in null_cat_attr:\n",
    "            most_common = X[attr].value_counts().index[0]\n",
    "            fill_data[attr] = most_common\n",
    "        \n",
    "        # Preenchendo dados nulos\n",
    "        new_X = X.fillna(value=fill_data)\n",
    "            \n",
    "        return new_X"
   ]
  },
  {
   "cell_type": "code",
   "execution_count": 25,
   "metadata": {
    "ExecuteTime": {
     "end_time": "2019-06-17T01:53:13.170529Z",
     "start_time": "2019-06-17T01:53:13.148024Z"
    }
   },
   "outputs": [
    {
     "data": {
      "text/plain": [
       "False"
      ]
     },
     "execution_count": 25,
     "metadata": {},
     "output_type": "execute_result"
    }
   ],
   "source": [
    "# Testando\n",
    "filler = fillCategoricalNullValues()\n",
    "X_cat = train_cat_attr_filtered.loc[:, definitive_cat_attr]\n",
    "X_filled = filler.transform(X_cat)\n",
    "\n",
    "# Verificando\n",
    "X_filled['GarageType'].isnull().any()"
   ]
  },
  {
   "cell_type": "code",
   "execution_count": 26,
   "metadata": {
    "ExecuteTime": {
     "end_time": "2019-06-17T01:53:13.182989Z",
     "start_time": "2019-06-17T01:53:13.173445Z"
    }
   },
   "outputs": [
    {
     "data": {
      "text/plain": [
       "Attchd     870\n",
       "Detchd     387\n",
       "BuiltIn     88\n",
       "Basment     19\n",
       "CarPort      9\n",
       "2Types       6\n",
       "Name: GarageType, dtype: int64"
      ]
     },
     "execution_count": 26,
     "metadata": {},
     "output_type": "execute_result"
    }
   ],
   "source": [
    "# Analisando como foi feito o preenchimento\n",
    "X_cat['GarageType'].value_counts()"
   ]
  },
  {
   "cell_type": "code",
   "execution_count": 27,
   "metadata": {
    "ExecuteTime": {
     "end_time": "2019-06-17T01:53:13.198057Z",
     "start_time": "2019-06-17T01:53:13.186678Z"
    }
   },
   "outputs": [
    {
     "name": "stdout",
     "output_type": "stream",
     "text": [
      "Quantidade de nulos em GarageType: 81\n",
      "Quantidade inicial da entrada mais comum: 870\n",
      "Quantidade esperada final no atributo mais comum: 951\n"
     ]
    }
   ],
   "source": [
    "# Quantidade que deveria ser preenchida na entrada \"Attchd\"\n",
    "garage_null = X_cat[\"GarageType\"].isnull().sum()\n",
    "garage_most_common = X_cat[\"GarageType\"].value_counts().values[0]\n",
    "print(f'Quantidade de nulos em GarageType: {garage_null}')\n",
    "print(f'Quantidade inicial da entrada mais comum: {garage_most_common}')\n",
    "print(f'Quantidade esperada final no atributo mais comum: {garage_most_common + garage_null}')"
   ]
  },
  {
   "cell_type": "code",
   "execution_count": 28,
   "metadata": {
    "ExecuteTime": {
     "end_time": "2019-06-17T01:53:13.211332Z",
     "start_time": "2019-06-17T01:53:13.201084Z"
    }
   },
   "outputs": [
    {
     "data": {
      "text/plain": [
       "Attchd     951\n",
       "Detchd     387\n",
       "BuiltIn     88\n",
       "Basment     19\n",
       "CarPort      9\n",
       "2Types       6\n",
       "Name: GarageType, dtype: int64"
      ]
     },
     "execution_count": 28,
     "metadata": {},
     "output_type": "execute_result"
    }
   ],
   "source": [
    "# Tirando prova\n",
    "X_filled['GarageType'].value_counts()"
   ]
  },
  {
   "cell_type": "markdown",
   "metadata": {},
   "source": [
    "Perfeito! Definimos nosso pipeline para filtrar e tratar dados nulos em atributos categóricos. Vejamos agora os procedimentos que serão realizados para os atributos numéricos."
   ]
  },
  {
   "cell_type": "markdown",
   "metadata": {},
   "source": [
    "#### Atributos Numéricos"
   ]
  },
  {
   "cell_type": "code",
   "execution_count": 29,
   "metadata": {
    "ExecuteTime": {
     "end_time": "2019-06-17T01:53:13.222398Z",
     "start_time": "2019-06-17T01:53:13.215107Z"
    }
   },
   "outputs": [
    {
     "name": "stdout",
     "output_type": "stream",
     "text": [
      "Quantidade de atributos numéricos (original): 38\n",
      "Quantidade de atributos categóricos (original): 43\n",
      "Total sem alterações já realizadas: 81\n"
     ]
    }
   ],
   "source": [
    "# Filtrando atributos numéricos com a nova função criada\n",
    "num_attribs = filter_attribs(train, cat=False)\n",
    "cat_attribs = filter_attribs(train)\n",
    "print(f'Quantidade de atributos numéricos (original): {len(num_attribs)}')\n",
    "print(f'Quantidade de atributos categóricos (original): {len(cat_attribs)}')\n",
    "print(f'Total sem alterações já realizadas: {train.shape[1]}')"
   ]
  },
  {
   "cell_type": "code",
   "execution_count": 30,
   "metadata": {
    "ExecuteTime": {
     "end_time": "2019-06-17T01:53:13.228649Z",
     "start_time": "2019-06-17T01:53:13.224502Z"
    }
   },
   "outputs": [
    {
     "data": {
      "text/plain": [
       "['Id', 'MSSubClass', 'LotFrontage', 'LotArea', 'OverallQual']"
      ]
     },
     "execution_count": 30,
     "metadata": {},
     "output_type": "execute_result"
    }
   ],
   "source": [
    "# Verificando alguns\n",
    "num_attribs[:5]"
   ]
  },
  {
   "cell_type": "markdown",
   "metadata": {},
   "source": [
    "Com os atributos numéricos devidamente indexados, vamos agora visualizar a correlação com o target `SalesPrice`. Para isso, vamos avaliar o índice de correlação por código e compará-lo a nossa análise inicial."
   ]
  },
  {
   "cell_type": "code",
   "execution_count": 31,
   "metadata": {
    "ExecuteTime": {
     "end_time": "2019-06-17T01:53:13.238773Z",
     "start_time": "2019-06-17T01:53:13.230450Z"
    }
   },
   "outputs": [],
   "source": [
    "# Indexando dataframe\n",
    "target = train['SalePrice']\n",
    "X_num = train.loc[:, num_attribs]"
   ]
  },
  {
   "cell_type": "code",
   "execution_count": 43,
   "metadata": {
    "ExecuteTime": {
     "end_time": "2019-06-17T01:53:37.037280Z",
     "start_time": "2019-06-17T01:53:37.026920Z"
    }
   },
   "outputs": [
    {
     "data": {
      "text/plain": [
       "Id                 0\n",
       "MSSubClass         0\n",
       "LotFrontage      259\n",
       "LotArea            0\n",
       "OverallQual        0\n",
       "OverallCond        0\n",
       "YearBuilt          0\n",
       "YearRemodAdd       0\n",
       "MasVnrArea         8\n",
       "BsmtFinSF1         0\n",
       "BsmtFinSF2         0\n",
       "BsmtUnfSF          0\n",
       "TotalBsmtSF        0\n",
       "1stFlrSF           0\n",
       "2ndFlrSF           0\n",
       "LowQualFinSF       0\n",
       "GrLivArea          0\n",
       "BsmtFullBath       0\n",
       "BsmtHalfBath       0\n",
       "FullBath           0\n",
       "HalfBath           0\n",
       "BedroomAbvGr       0\n",
       "KitchenAbvGr       0\n",
       "TotRmsAbvGrd       0\n",
       "Fireplaces         0\n",
       "GarageYrBlt       81\n",
       "GarageCars         0\n",
       "GarageArea         0\n",
       "WoodDeckSF         0\n",
       "OpenPorchSF        0\n",
       "EnclosedPorch      0\n",
       "3SsnPorch          0\n",
       "ScreenPorch        0\n",
       "PoolArea           0\n",
       "MiscVal            0\n",
       "MoSold             0\n",
       "YrSold             0\n",
       "SalePrice          0\n",
       "dtype: int64"
      ]
     },
     "execution_count": 43,
     "metadata": {},
     "output_type": "execute_result"
    }
   ],
   "source": [
    "# Verificando dados nulos\n",
    "X_num.isnull().sum()"
   ]
  },
  {
   "cell_type": "code",
   "execution_count": 45,
   "metadata": {
    "ExecuteTime": {
     "end_time": "2019-06-17T01:55:12.895506Z",
     "start_time": "2019-06-17T01:55:12.879361Z"
    }
   },
   "outputs": [
    {
     "data": {
      "text/plain": [
       "Index(['LotFrontage', 'MasVnrArea', 'GarageYrBlt'], dtype='object')"
      ]
     },
     "execution_count": 45,
     "metadata": {},
     "output_type": "execute_result"
    }
   ],
   "source": [
    "# Indexando dados nulos\n",
    "null_num_attribs = X_num.isnull().any()[X_num.isnull().any().values].index\n",
    "null_num_attribs"
   ]
  },
  {
   "cell_type": "code",
   "execution_count": 46,
   "metadata": {
    "ExecuteTime": {
     "end_time": "2019-06-17T01:55:55.375417Z",
     "start_time": "2019-06-17T01:55:55.346258Z"
    }
   },
   "outputs": [
    {
     "name": "stdout",
     "output_type": "stream",
     "text": [
      "Àtributo: LotFrontage\n",
      "count    1201.000000\n",
      "mean       70.049958\n",
      "std        24.284752\n",
      "min        21.000000\n",
      "25%        59.000000\n",
      "50%        69.000000\n",
      "75%        80.000000\n",
      "max       313.000000\n",
      "Name: LotFrontage, dtype: float64\n",
      "\n",
      "Àtributo: MasVnrArea\n",
      "count    1452.000000\n",
      "mean      103.685262\n",
      "std       181.066207\n",
      "min         0.000000\n",
      "25%         0.000000\n",
      "50%         0.000000\n",
      "75%       166.000000\n",
      "max      1600.000000\n",
      "Name: MasVnrArea, dtype: float64\n",
      "\n",
      "Àtributo: GarageYrBlt\n",
      "count    1379.000000\n",
      "mean     1978.506164\n",
      "std        24.689725\n",
      "min      1900.000000\n",
      "25%      1961.000000\n",
      "50%      1980.000000\n",
      "75%      2002.000000\n",
      "max      2010.000000\n",
      "Name: GarageYrBlt, dtype: float64\n",
      "\n"
     ]
    }
   ],
   "source": [
    "# Verificando estatísticas\n",
    "for null_attrib in null_num_attribs:\n",
    "    print(f'Àtributo: {null_attrib}')\n",
    "    print(X_num[null_attrib].describe())\n",
    "    print()"
   ]
  },
  {
   "cell_type": "markdown",
   "metadata": {},
   "source": [
    "##### Preenchendo Dados Nulos"
   ]
  },
  {
   "cell_type": "markdown",
   "metadata": {},
   "source": [
    "Temos apenas 3 atributos numéricos com dados nulos em suas entradas. É papel do cientista de dados definir a melhor forma de tratar estes dados nulos. Em uma primeira abordagem, vamos definir um pipeline de preenchimento de dados nulos (atributos numéricos) com a mediana do conjunto."
   ]
  },
  {
   "cell_type": "code",
   "execution_count": 47,
   "metadata": {
    "ExecuteTime": {
     "end_time": "2019-06-17T02:01:17.462712Z",
     "start_time": "2019-06-17T02:01:17.451759Z"
    }
   },
   "outputs": [],
   "source": [
    "# Criando imputer\n",
    "from sklearn.impute import SimpleImputer\n",
    "\n",
    "imputer = SimpleImputer(strategy='median')\n",
    "imputer.fit(X_num)\n",
    "X_num_imputed = pd.DataFrame(imputer.transform(X_num), columns=X_num.columns)"
   ]
  },
  {
   "cell_type": "code",
   "execution_count": 48,
   "metadata": {
    "ExecuteTime": {
     "end_time": "2019-06-17T02:01:24.556904Z",
     "start_time": "2019-06-17T02:01:24.546028Z"
    }
   },
   "outputs": [
    {
     "data": {
      "text/plain": [
       "Id               0\n",
       "MSSubClass       0\n",
       "LotFrontage      0\n",
       "LotArea          0\n",
       "OverallQual      0\n",
       "OverallCond      0\n",
       "YearBuilt        0\n",
       "YearRemodAdd     0\n",
       "MasVnrArea       0\n",
       "BsmtFinSF1       0\n",
       "BsmtFinSF2       0\n",
       "BsmtUnfSF        0\n",
       "TotalBsmtSF      0\n",
       "1stFlrSF         0\n",
       "2ndFlrSF         0\n",
       "LowQualFinSF     0\n",
       "GrLivArea        0\n",
       "BsmtFullBath     0\n",
       "BsmtHalfBath     0\n",
       "FullBath         0\n",
       "HalfBath         0\n",
       "BedroomAbvGr     0\n",
       "KitchenAbvGr     0\n",
       "TotRmsAbvGrd     0\n",
       "Fireplaces       0\n",
       "GarageYrBlt      0\n",
       "GarageCars       0\n",
       "GarageArea       0\n",
       "WoodDeckSF       0\n",
       "OpenPorchSF      0\n",
       "EnclosedPorch    0\n",
       "3SsnPorch        0\n",
       "ScreenPorch      0\n",
       "PoolArea         0\n",
       "MiscVal          0\n",
       "MoSold           0\n",
       "YrSold           0\n",
       "SalePrice        0\n",
       "dtype: int64"
      ]
     },
     "execution_count": 48,
     "metadata": {},
     "output_type": "execute_result"
    }
   ],
   "source": [
    "# Verificando\n",
    "X_num_imputed.isnull().sum()"
   ]
  },
  {
   "cell_type": "markdown",
   "metadata": {},
   "source": [
    "### Correlações"
   ]
  },
  {
   "cell_type": "markdown",
   "metadata": {},
   "source": [
    "Vamos realizar algumas análises relacionadas ao target do modelo (`SalePrice`)"
   ]
  },
  {
   "cell_type": "code",
   "execution_count": 49,
   "metadata": {
    "ExecuteTime": {
     "end_time": "2019-06-17T02:01:45.591059Z",
     "start_time": "2019-06-17T02:01:45.576983Z"
    }
   },
   "outputs": [
    {
     "data": {
      "text/plain": [
       "count      1460.000000\n",
       "mean     180921.195890\n",
       "std       79442.502883\n",
       "min       34900.000000\n",
       "25%      129975.000000\n",
       "50%      163000.000000\n",
       "75%      214000.000000\n",
       "max      755000.000000\n",
       "Name: SalePrice, dtype: float64"
      ]
     },
     "execution_count": 49,
     "metadata": {},
     "output_type": "execute_result"
    }
   ],
   "source": [
    "# Estatística\n",
    "target.describe()"
   ]
  },
  {
   "cell_type": "markdown",
   "metadata": {},
   "source": [
    "**Análise:**\n",
    "\n",
    "* O valor mínimo é maior que 0, ou seja, não é necessário de preocupar com particularidades durante a construção do modelo;"
   ]
  },
  {
   "cell_type": "code",
   "execution_count": 50,
   "metadata": {
    "ExecuteTime": {
     "end_time": "2019-06-17T02:01:52.833271Z",
     "start_time": "2019-06-17T02:01:52.628426Z"
    }
   },
   "outputs": [
    {
     "data": {
      "image/png": "[encoded data removed]",
      "text/plain": [
       "<Figure size 720x288 with 1 Axes>"
      ]
     },
     "metadata": {
      "needs_background": "light"
     },
     "output_type": "display_data"
    }
   ],
   "source": [
    "# Distribuição\n",
    "import matplotlib.pyplot as plt\n",
    "%matplotlib inline\n",
    "import seaborn as sns\n",
    "import warnings\n",
    "warnings.filterwarnings('ignore')\n",
    "\n",
    "fig, ax = plt.subplots(figsize=(10, 4))\n",
    "ax = sns.distplot(target, bins=40)\n",
    "format_spines(ax)\n",
    "ax.set_title('Distribuição SalePrice', size=14)\n",
    "plt.show()"
   ]
  },
  {
   "cell_type": "code",
   "execution_count": 51,
   "metadata": {
    "ExecuteTime": {
     "end_time": "2019-06-17T02:01:54.399558Z",
     "start_time": "2019-06-17T02:01:54.394063Z"
    }
   },
   "outputs": [
    {
     "name": "stdout",
     "output_type": "stream",
     "text": [
      "Skewness: 1.8829\n",
      "Kurtosis: 6.5363\n"
     ]
    }
   ],
   "source": [
    "# Métricas de similaridade\n",
    "skewness = target.skew()\n",
    "kurtosis = target.kurt()\n",
    "print(f'Skewness: {skewness:.4f}')\n",
    "print(f'Kurtosis: {kurtosis:.4f}')"
   ]
  },
  {
   "cell_type": "markdown",
   "metadata": {},
   "source": [
    "**Análise:**\n",
    "\n",
    "* A variável target difere da distribuição normal\n",
    "* Temos as medidas de Skewness ([Assimetria](https://pt.wikipedia.org/wiki/Assimetria_(estat%C3%ADstica)) ou Obliquidade) e Kurtosis ([Curtose](https://pt.wikipedia.org/wiki/Curtose) ou Achatamento) que indicam:\n",
    "    * [Skewness](https://en.wikipedia.org/wiki/Skewness)\n",
    "        * positivo: long tail à direita;\n",
    "        * negativo: long tail à esquerda;\n",
    "        * igual a 0: distribuição aproximadamente simétrica.\n",
    "    * [Kurtosis](https://en.wikipedia.org/wiki/Kurtosis)\n",
    "        * igual a 3: achatamento de uma distribuição normal;\n",
    "        * maior que 3: distribuição mais alta (afunilada);\n",
    "        * menor que 3: distribuição mais achatada que a normal."
   ]
  },
  {
   "cell_type": "markdown",
   "metadata": {
    "ExecuteTime": {
     "end_time": "2019-06-16T21:58:28.107746Z",
     "start_time": "2019-06-16T21:58:28.097393Z"
    }
   },
   "source": [
    "Segundo o usuário _deja vu_ em seu kernel [House Prices: EDA to ML (Beginner)](https://www.kaggle.com/dejavu23/house-prices-eda-to-ml-beginner), a falta de simetria na distribuição do target `SalePrice` pode reduzir a performance do modelo de Machine Learning, dado que os modelos de regressão assumem uma distribuição normal. Utilizando funcionalidades do `numpy`, é possível aplicar uma transformação logarítimica nos dados. Vejamos:"
   ]
  },
  {
   "cell_type": "code",
   "execution_count": 52,
   "metadata": {
    "ExecuteTime": {
     "end_time": "2019-06-17T02:01:57.101812Z",
     "start_time": "2019-06-17T02:01:56.900884Z"
    }
   },
   "outputs": [
    {
     "data": {
      "image/png": "[encoded data removed]",
      "text/plain": [
       "<Figure size 720x288 with 1 Axes>"
      ]
     },
     "metadata": {
      "needs_background": "light"
     },
     "output_type": "display_data"
    },
    {
     "name": "stdout",
     "output_type": "stream",
     "text": [
      "Skewness: 0.1213\n",
      "Kurtosis: 0.8095\n"
     ]
    }
   ],
   "source": [
    "# Transformando\n",
    "import numpy as np\n",
    "\n",
    "target_log = np.log(target)\n",
    "fig, ax = plt.subplots(figsize=(10, 4))\n",
    "ax = sns.distplot(target_log, bins=40)\n",
    "format_spines(ax)\n",
    "ax.set_title('Distribuição SalePrice (Log)', size=14)\n",
    "plt.show()\n",
    "\n",
    "# Comunicando métricas skewness e kurtosis\n",
    "print(f'Skewness: {target_log.skew():.4f}')\n",
    "print(f'Kurtosis: {target_log.kurt():.4f}')"
   ]
  },
  {
   "cell_type": "markdown",
   "metadata": {},
   "source": [
    "Experiência: se aplicássemos uma técnica de normalização (`StandardScaler`), teríamos resultado semelhante?"
   ]
  },
  {
   "cell_type": "code",
   "execution_count": 53,
   "metadata": {
    "ExecuteTime": {
     "end_time": "2019-06-17T02:01:59.880739Z",
     "start_time": "2019-06-17T02:01:59.627688Z"
    }
   },
   "outputs": [
    {
     "data": {
      "image/png": "[encoded data removed]",
      "text/plain": [
       "<Figure size 720x288 with 1 Axes>"
      ]
     },
     "metadata": {
      "needs_background": "light"
     },
     "output_type": "display_data"
    },
    {
     "name": "stdout",
     "output_type": "stream",
     "text": [
      "Skewness: 1.8829\n",
      "Kurtosis: 6.5363\n"
     ]
    }
   ],
   "source": [
    "# Testando\n",
    "from sklearn.preprocessing import StandardScaler\n",
    "\n",
    "scaler = StandardScaler()\n",
    "target_scaled = target.copy()\n",
    "target_scaled = scaler.fit_transform(pd.DataFrame(target_scaled))\n",
    "\n",
    "# Plotando\n",
    "fig, ax = plt.subplots(figsize=(10, 4))\n",
    "ax = sns.distplot(target_scaled, bins=40)\n",
    "format_spines(ax)\n",
    "ax.set_title('Distribuição SalePrice (Scaled)', size=14)\n",
    "plt.show()\n",
    "\n",
    "# Comunicando métricas skewness e kurtosis\n",
    "print(f'Skewness: {pd.Series(list(target_scaled)).skew():.4f}')\n",
    "print(f'Kurtosis: {pd.Series(list(target_scaled)).kurt():.4f}')"
   ]
  },
  {
   "cell_type": "markdown",
   "metadata": {
    "ExecuteTime": {
     "end_time": "2019-06-16T22:54:23.451623Z",
     "start_time": "2019-06-16T22:54:23.444540Z"
    }
   },
   "source": [
    "Com a análise a partir dos dados padronizados, obtivemos a mesma curva e as mesmas métricas obtidas com os dados sem nenhum tratamento."
   ]
  },
  {
   "cell_type": "markdown",
   "metadata": {},
   "source": [
    "Vamos agora retornar os atributos numéricos e analisar a influência estabelecida na pré-análise"
   ]
  },
  {
   "cell_type": "code",
   "execution_count": 54,
   "metadata": {
    "ExecuteTime": {
     "end_time": "2019-06-17T02:02:03.936652Z",
     "start_time": "2019-06-17T02:02:03.911435Z"
    }
   },
   "outputs": [
    {
     "data": {
      "text/html": [
       "<div>\n",
       "<style scoped>\n",
       "    .dataframe tbody tr th:only-of-type {\n",
       "        vertical-align: middle;\n",
       "    }\n",
       "\n",
       "    .dataframe tbody tr th {\n",
       "        vertical-align: top;\n",
       "    }\n",
       "\n",
       "    .dataframe thead th {\n",
       "        text-align: right;\n",
       "    }\n",
       "</style>\n",
       "<table border=\"1\" class=\"dataframe\">\n",
       "  <thead>\n",
       "    <tr style=\"text-align: right;\">\n",
       "      <th></th>\n",
       "      <th>descricao</th>\n",
       "      <th>tipo</th>\n",
       "      <th>segmento</th>\n",
       "      <th>expect</th>\n",
       "    </tr>\n",
       "    <tr>\n",
       "      <th>nome_variavel</th>\n",
       "      <th></th>\n",
       "      <th></th>\n",
       "      <th></th>\n",
       "      <th></th>\n",
       "    </tr>\n",
       "  </thead>\n",
       "  <tbody>\n",
       "    <tr>\n",
       "      <th>MSSubClass</th>\n",
       "      <td>Identifica o tipo de moradia da residência</td>\n",
       "      <td>Categórico</td>\n",
       "      <td>Building (Construção)</td>\n",
       "      <td>Média</td>\n",
       "    </tr>\n",
       "    <tr>\n",
       "      <th>LotFrontage</th>\n",
       "      <td>Dimensão do perímetro frontal da casa</td>\n",
       "      <td>Numérico</td>\n",
       "      <td>Space (Espaço)</td>\n",
       "      <td>Alta</td>\n",
       "    </tr>\n",
       "    <tr>\n",
       "      <th>LotArea</th>\n",
       "      <td>Área do loteamento</td>\n",
       "      <td>Numérico</td>\n",
       "      <td>Space (Espaço)</td>\n",
       "      <td>Alta</td>\n",
       "    </tr>\n",
       "    <tr>\n",
       "      <th>OverallQual</th>\n",
       "      <td>Score do material e acabamento da moradia</td>\n",
       "      <td>Categórico</td>\n",
       "      <td>Building (Construção)</td>\n",
       "      <td>Alta</td>\n",
       "    </tr>\n",
       "    <tr>\n",
       "      <th>OverallCond</th>\n",
       "      <td>Score da condição geral da moradia</td>\n",
       "      <td>Categórico</td>\n",
       "      <td>Building (Construção)</td>\n",
       "      <td>Alta</td>\n",
       "    </tr>\n",
       "    <tr>\n",
       "      <th>YearBuilt</th>\n",
       "      <td>Ano de construção da casa</td>\n",
       "      <td>Numérico</td>\n",
       "      <td>Building (Construção)</td>\n",
       "      <td>Alta</td>\n",
       "    </tr>\n",
       "    <tr>\n",
       "      <th>YearRemodAdd</th>\n",
       "      <td>Ano de remodelação da casa (mesmo que YearBuil...</td>\n",
       "      <td>Numérico</td>\n",
       "      <td>Building (Construção)</td>\n",
       "      <td>Média</td>\n",
       "    </tr>\n",
       "    <tr>\n",
       "      <th>MasVnrArea</th>\n",
       "      <td>Área coberta pela alvenaria</td>\n",
       "      <td>Categórico</td>\n",
       "      <td>Building (Construção)</td>\n",
       "      <td>Baixa</td>\n",
       "    </tr>\n",
       "    <tr>\n",
       "      <th>BsmtFinSF1</th>\n",
       "      <td>Área coberta pelo acabamento do tipo 1 (atribu...</td>\n",
       "      <td>Numérico</td>\n",
       "      <td>Building (Construção)</td>\n",
       "      <td>Baixa</td>\n",
       "    </tr>\n",
       "    <tr>\n",
       "      <th>BsmtFinSF2</th>\n",
       "      <td>Área coberta pelo acabamento do tipo 2 (atribu...</td>\n",
       "      <td>Numérico</td>\n",
       "      <td>Building (Construção)</td>\n",
       "      <td>Baixa</td>\n",
       "    </tr>\n",
       "    <tr>\n",
       "      <th>BsmtUnfSF</th>\n",
       "      <td>Área do porão sem acabamento</td>\n",
       "      <td>Numérico</td>\n",
       "      <td>Building (Construção)</td>\n",
       "      <td>Baixa</td>\n",
       "    </tr>\n",
       "    <tr>\n",
       "      <th>TotalBsmtSF</th>\n",
       "      <td>Área total do porão</td>\n",
       "      <td>Numérico</td>\n",
       "      <td>Space (Espaço)</td>\n",
       "      <td>Média</td>\n",
       "    </tr>\n",
       "    <tr>\n",
       "      <th>1stFlrSF</th>\n",
       "      <td>Área total do primeiro andar da moradia</td>\n",
       "      <td>Numérico</td>\n",
       "      <td>Space (Espaço)</td>\n",
       "      <td>Alta</td>\n",
       "    </tr>\n",
       "    <tr>\n",
       "      <th>2ndFlrSF</th>\n",
       "      <td>Área total do segundo andar da moradia</td>\n",
       "      <td>Numérico</td>\n",
       "      <td>Space (Espaço)</td>\n",
       "      <td>Alta</td>\n",
       "    </tr>\n",
       "    <tr>\n",
       "      <th>LowQualFinSF</th>\n",
       "      <td>Área total de acabamentos de baixa qualidade e...</td>\n",
       "      <td>Numérico</td>\n",
       "      <td>Space (Espaço)</td>\n",
       "      <td>Baixa</td>\n",
       "    </tr>\n",
       "    <tr>\n",
       "      <th>GrLivArea</th>\n",
       "      <td>Área total da sala de estar</td>\n",
       "      <td>Numérico</td>\n",
       "      <td>Space (Espaço)</td>\n",
       "      <td>Média</td>\n",
       "    </tr>\n",
       "    <tr>\n",
       "      <th>BsmtFullBath</th>\n",
       "      <td>Banheiros completos (full) da área relacionada...</td>\n",
       "      <td>Numérico</td>\n",
       "      <td>Space (Espaço)</td>\n",
       "      <td>Baixa</td>\n",
       "    </tr>\n",
       "    <tr>\n",
       "      <th>BsmtHalfBath</th>\n",
       "      <td>Banheiros incompletos (half) da área relaciona...</td>\n",
       "      <td>Numérico</td>\n",
       "      <td>Space (Espaço)</td>\n",
       "      <td>Baixa</td>\n",
       "    </tr>\n",
       "    <tr>\n",
       "      <th>FullBath</th>\n",
       "      <td>Quantidade de banheiros completos na casa (aci...</td>\n",
       "      <td>Numérico</td>\n",
       "      <td>Space (Espaço)</td>\n",
       "      <td>Média</td>\n",
       "    </tr>\n",
       "    <tr>\n",
       "      <th>HalfBath</th>\n",
       "      <td>Quantidade de banheiros incompletos (half) na ...</td>\n",
       "      <td>Numérico</td>\n",
       "      <td>Space (Espaço)</td>\n",
       "      <td>Baixa</td>\n",
       "    </tr>\n",
       "    <tr>\n",
       "      <th>BedroomAbvGr</th>\n",
       "      <td>Quantidade de camas na moradia (acima do porão)</td>\n",
       "      <td>Numérico</td>\n",
       "      <td>Space (Espaço)</td>\n",
       "      <td>Alta</td>\n",
       "    </tr>\n",
       "    <tr>\n",
       "      <th>KitchenAbvGr</th>\n",
       "      <td>Quantidade de cozinhas na moradia (acima do po...</td>\n",
       "      <td>Numérico</td>\n",
       "      <td>Space (Espaço)</td>\n",
       "      <td>Alta</td>\n",
       "    </tr>\n",
       "    <tr>\n",
       "      <th>TotRmsAbvGrd</th>\n",
       "      <td>Quantidade total de quartos na moradia (acima ...</td>\n",
       "      <td>Numérico</td>\n",
       "      <td>Space (Espaço)</td>\n",
       "      <td>Alta</td>\n",
       "    </tr>\n",
       "    <tr>\n",
       "      <th>Fireplaces</th>\n",
       "      <td>Quantidade de lareiras da moradia</td>\n",
       "      <td>Numérico</td>\n",
       "      <td>Space (Espaço)</td>\n",
       "      <td>Média</td>\n",
       "    </tr>\n",
       "    <tr>\n",
       "      <th>GarageYrBlt</th>\n",
       "      <td>Ano de construção da garagem</td>\n",
       "      <td>Numérico</td>\n",
       "      <td>Building (Construção)</td>\n",
       "      <td>Baixa</td>\n",
       "    </tr>\n",
       "    <tr>\n",
       "      <th>GarageCars</th>\n",
       "      <td>Tamanho da garagem relacionado a quantidade de...</td>\n",
       "      <td>Numérico</td>\n",
       "      <td>Space (Espaço)</td>\n",
       "      <td>Média</td>\n",
       "    </tr>\n",
       "    <tr>\n",
       "      <th>GarageArea</th>\n",
       "      <td>Área da garagem em metros quadrados</td>\n",
       "      <td>Numérico</td>\n",
       "      <td>Space (Espaço)</td>\n",
       "      <td>Média</td>\n",
       "    </tr>\n",
       "    <tr>\n",
       "      <th>WoodDeckSF</th>\n",
       "      <td>Área do deck de madeira presente na moradia</td>\n",
       "      <td>Numérico</td>\n",
       "      <td>Space (Espaço)</td>\n",
       "      <td>Média</td>\n",
       "    </tr>\n",
       "    <tr>\n",
       "      <th>OpenPorchSF</th>\n",
       "      <td>Área de varanda aberta na moradia</td>\n",
       "      <td>Numérico</td>\n",
       "      <td>Space (Espaço)</td>\n",
       "      <td>Média</td>\n",
       "    </tr>\n",
       "    <tr>\n",
       "      <th>EnclosedPorch</th>\n",
       "      <td>Área de varanda fechada na moradia</td>\n",
       "      <td>Numérico</td>\n",
       "      <td>Space (Espaço)</td>\n",
       "      <td>Média</td>\n",
       "    </tr>\n",
       "    <tr>\n",
       "      <th>3SsnPorch</th>\n",
       "      <td>Área de varande de três temporadas (?)</td>\n",
       "      <td>Numérico</td>\n",
       "      <td>Space (Espaço)</td>\n",
       "      <td>Baixa</td>\n",
       "    </tr>\n",
       "    <tr>\n",
       "      <th>ScreenPorch</th>\n",
       "      <td>Área de tela na varanda da moradia</td>\n",
       "      <td>Numérico</td>\n",
       "      <td>Space (Espaço)</td>\n",
       "      <td>Média</td>\n",
       "    </tr>\n",
       "    <tr>\n",
       "      <th>PoolArea</th>\n",
       "      <td>Área de piscina presente na moradia</td>\n",
       "      <td>Numérico</td>\n",
       "      <td>Space (Espaço)</td>\n",
       "      <td>Média</td>\n",
       "    </tr>\n",
       "    <tr>\n",
       "      <th>MiscVal</th>\n",
       "      <td>Valor das features não inclusas em critérios d...</td>\n",
       "      <td>Numérico</td>\n",
       "      <td>Building (Construção)</td>\n",
       "      <td>Baixa</td>\n",
       "    </tr>\n",
       "    <tr>\n",
       "      <th>MoSold</th>\n",
       "      <td>Mês no qual a venda da moradia foi efetivada</td>\n",
       "      <td>Numérico</td>\n",
       "      <td>Space (Espaço)</td>\n",
       "      <td>Baixa</td>\n",
       "    </tr>\n",
       "    <tr>\n",
       "      <th>YrSold</th>\n",
       "      <td>Ano no qual a venda da moradia foi efetivada</td>\n",
       "      <td>Numérico</td>\n",
       "      <td>Space (Espaço)</td>\n",
       "      <td>Baixa</td>\n",
       "    </tr>\n",
       "  </tbody>\n",
       "</table>\n",
       "</div>"
      ],
      "text/plain": [
       "                                                       descricao        tipo  \\\n",
       "nome_variavel                                                                  \n",
       "MSSubClass            Identifica o tipo de moradia da residência  Categórico   \n",
       "LotFrontage                Dimensão do perímetro frontal da casa    Numérico   \n",
       "LotArea                                       Área do loteamento    Numérico   \n",
       "OverallQual            Score do material e acabamento da moradia  Categórico   \n",
       "OverallCond                   Score da condição geral da moradia  Categórico   \n",
       "YearBuilt                              Ano de construção da casa    Numérico   \n",
       "YearRemodAdd   Ano de remodelação da casa (mesmo que YearBuil...    Numérico   \n",
       "MasVnrArea                           Área coberta pela alvenaria  Categórico   \n",
       "BsmtFinSF1     Área coberta pelo acabamento do tipo 1 (atribu...    Numérico   \n",
       "BsmtFinSF2     Área coberta pelo acabamento do tipo 2 (atribu...    Numérico   \n",
       "BsmtUnfSF                           Área do porão sem acabamento    Numérico   \n",
       "TotalBsmtSF                                  Área total do porão    Numérico   \n",
       "1stFlrSF                 Área total do primeiro andar da moradia    Numérico   \n",
       "2ndFlrSF                  Área total do segundo andar da moradia    Numérico   \n",
       "LowQualFinSF   Área total de acabamentos de baixa qualidade e...    Numérico   \n",
       "GrLivArea                            Área total da sala de estar    Numérico   \n",
       "BsmtFullBath   Banheiros completos (full) da área relacionada...    Numérico   \n",
       "BsmtHalfBath   Banheiros incompletos (half) da área relaciona...    Numérico   \n",
       "FullBath       Quantidade de banheiros completos na casa (aci...    Numérico   \n",
       "HalfBath       Quantidade de banheiros incompletos (half) na ...    Numérico   \n",
       "BedroomAbvGr     Quantidade de camas na moradia (acima do porão)    Numérico   \n",
       "KitchenAbvGr   Quantidade de cozinhas na moradia (acima do po...    Numérico   \n",
       "TotRmsAbvGrd   Quantidade total de quartos na moradia (acima ...    Numérico   \n",
       "Fireplaces                     Quantidade de lareiras da moradia    Numérico   \n",
       "GarageYrBlt                         Ano de construção da garagem    Numérico   \n",
       "GarageCars     Tamanho da garagem relacionado a quantidade de...    Numérico   \n",
       "GarageArea                   Área da garagem em metros quadrados    Numérico   \n",
       "WoodDeckSF           Área do deck de madeira presente na moradia    Numérico   \n",
       "OpenPorchSF                    Área de varanda aberta na moradia    Numérico   \n",
       "EnclosedPorch                 Área de varanda fechada na moradia    Numérico   \n",
       "3SsnPorch                 Área de varande de três temporadas (?)    Numérico   \n",
       "ScreenPorch                   Área de tela na varanda da moradia    Numérico   \n",
       "PoolArea                     Área de piscina presente na moradia    Numérico   \n",
       "MiscVal        Valor das features não inclusas em critérios d...    Numérico   \n",
       "MoSold              Mês no qual a venda da moradia foi efetivada    Numérico   \n",
       "YrSold              Ano no qual a venda da moradia foi efetivada    Numérico   \n",
       "\n",
       "                            segmento expect  \n",
       "nome_variavel                                \n",
       "MSSubClass     Building (Construção)  Média  \n",
       "LotFrontage           Space (Espaço)   Alta  \n",
       "LotArea               Space (Espaço)   Alta  \n",
       "OverallQual    Building (Construção)   Alta  \n",
       "OverallCond    Building (Construção)   Alta  \n",
       "YearBuilt      Building (Construção)   Alta  \n",
       "YearRemodAdd   Building (Construção)  Média  \n",
       "MasVnrArea     Building (Construção)  Baixa  \n",
       "BsmtFinSF1     Building (Construção)  Baixa  \n",
       "BsmtFinSF2     Building (Construção)  Baixa  \n",
       "BsmtUnfSF      Building (Construção)  Baixa  \n",
       "TotalBsmtSF           Space (Espaço)  Média  \n",
       "1stFlrSF              Space (Espaço)   Alta  \n",
       "2ndFlrSF              Space (Espaço)   Alta  \n",
       "LowQualFinSF          Space (Espaço)  Baixa  \n",
       "GrLivArea             Space (Espaço)  Média  \n",
       "BsmtFullBath          Space (Espaço)  Baixa  \n",
       "BsmtHalfBath          Space (Espaço)  Baixa  \n",
       "FullBath              Space (Espaço)  Média  \n",
       "HalfBath              Space (Espaço)  Baixa  \n",
       "BedroomAbvGr          Space (Espaço)   Alta  \n",
       "KitchenAbvGr          Space (Espaço)   Alta  \n",
       "TotRmsAbvGrd          Space (Espaço)   Alta  \n",
       "Fireplaces            Space (Espaço)  Média  \n",
       "GarageYrBlt    Building (Construção)  Baixa  \n",
       "GarageCars            Space (Espaço)  Média  \n",
       "GarageArea            Space (Espaço)  Média  \n",
       "WoodDeckSF            Space (Espaço)  Média  \n",
       "OpenPorchSF           Space (Espaço)  Média  \n",
       "EnclosedPorch         Space (Espaço)  Média  \n",
       "3SsnPorch             Space (Espaço)  Baixa  \n",
       "ScreenPorch           Space (Espaço)  Média  \n",
       "PoolArea              Space (Espaço)  Média  \n",
       "MiscVal        Building (Construção)  Baixa  \n",
       "MoSold                Space (Espaço)  Baixa  \n",
       "YrSold                Space (Espaço)  Baixa  "
      ]
     },
     "execution_count": 54,
     "metadata": {},
     "output_type": "execute_result"
    }
   ],
   "source": [
    "# Pré-Análise\n",
    "num_pre_analise = pre_analise.loc[num_attribs]\n",
    "num_pre_analise.drop(['Id', 'SalePrice'], inplace=True)\n",
    "num_pre_analise"
   ]
  },
  {
   "cell_type": "code",
   "execution_count": 55,
   "metadata": {
    "ExecuteTime": {
     "end_time": "2019-06-17T02:02:13.431706Z",
     "start_time": "2019-06-17T02:02:13.408276Z"
    }
   },
   "outputs": [
    {
     "data": {
      "text/html": [
       "<div>\n",
       "<style scoped>\n",
       "    .dataframe tbody tr th:only-of-type {\n",
       "        vertical-align: middle;\n",
       "    }\n",
       "\n",
       "    .dataframe tbody tr th {\n",
       "        vertical-align: top;\n",
       "    }\n",
       "\n",
       "    .dataframe thead th {\n",
       "        text-align: right;\n",
       "    }\n",
       "</style>\n",
       "<table border=\"1\" class=\"dataframe\">\n",
       "  <thead>\n",
       "    <tr style=\"text-align: right;\">\n",
       "      <th></th>\n",
       "      <th>descricao</th>\n",
       "      <th>tipo</th>\n",
       "      <th>segmento</th>\n",
       "      <th>expect</th>\n",
       "    </tr>\n",
       "    <tr>\n",
       "      <th>nome_variavel</th>\n",
       "      <th></th>\n",
       "      <th></th>\n",
       "      <th></th>\n",
       "      <th></th>\n",
       "    </tr>\n",
       "  </thead>\n",
       "  <tbody>\n",
       "    <tr>\n",
       "      <th>LotFrontage</th>\n",
       "      <td>Dimensão do perímetro frontal da casa</td>\n",
       "      <td>Numérico</td>\n",
       "      <td>Space (Espaço)</td>\n",
       "      <td>Alta</td>\n",
       "    </tr>\n",
       "    <tr>\n",
       "      <th>LotArea</th>\n",
       "      <td>Área do loteamento</td>\n",
       "      <td>Numérico</td>\n",
       "      <td>Space (Espaço)</td>\n",
       "      <td>Alta</td>\n",
       "    </tr>\n",
       "    <tr>\n",
       "      <th>OverallQual</th>\n",
       "      <td>Score do material e acabamento da moradia</td>\n",
       "      <td>Categórico</td>\n",
       "      <td>Building (Construção)</td>\n",
       "      <td>Alta</td>\n",
       "    </tr>\n",
       "    <tr>\n",
       "      <th>OverallCond</th>\n",
       "      <td>Score da condição geral da moradia</td>\n",
       "      <td>Categórico</td>\n",
       "      <td>Building (Construção)</td>\n",
       "      <td>Alta</td>\n",
       "    </tr>\n",
       "    <tr>\n",
       "      <th>YearBuilt</th>\n",
       "      <td>Ano de construção da casa</td>\n",
       "      <td>Numérico</td>\n",
       "      <td>Building (Construção)</td>\n",
       "      <td>Alta</td>\n",
       "    </tr>\n",
       "    <tr>\n",
       "      <th>1stFlrSF</th>\n",
       "      <td>Área total do primeiro andar da moradia</td>\n",
       "      <td>Numérico</td>\n",
       "      <td>Space (Espaço)</td>\n",
       "      <td>Alta</td>\n",
       "    </tr>\n",
       "    <tr>\n",
       "      <th>2ndFlrSF</th>\n",
       "      <td>Área total do segundo andar da moradia</td>\n",
       "      <td>Numérico</td>\n",
       "      <td>Space (Espaço)</td>\n",
       "      <td>Alta</td>\n",
       "    </tr>\n",
       "    <tr>\n",
       "      <th>BedroomAbvGr</th>\n",
       "      <td>Quantidade de camas na moradia (acima do porão)</td>\n",
       "      <td>Numérico</td>\n",
       "      <td>Space (Espaço)</td>\n",
       "      <td>Alta</td>\n",
       "    </tr>\n",
       "    <tr>\n",
       "      <th>KitchenAbvGr</th>\n",
       "      <td>Quantidade de cozinhas na moradia (acima do po...</td>\n",
       "      <td>Numérico</td>\n",
       "      <td>Space (Espaço)</td>\n",
       "      <td>Alta</td>\n",
       "    </tr>\n",
       "    <tr>\n",
       "      <th>TotRmsAbvGrd</th>\n",
       "      <td>Quantidade total de quartos na moradia (acima ...</td>\n",
       "      <td>Numérico</td>\n",
       "      <td>Space (Espaço)</td>\n",
       "      <td>Alta</td>\n",
       "    </tr>\n",
       "  </tbody>\n",
       "</table>\n",
       "</div>"
      ],
      "text/plain": [
       "                                                       descricao        tipo  \\\n",
       "nome_variavel                                                                  \n",
       "LotFrontage                Dimensão do perímetro frontal da casa    Numérico   \n",
       "LotArea                                       Área do loteamento    Numérico   \n",
       "OverallQual            Score do material e acabamento da moradia  Categórico   \n",
       "OverallCond                   Score da condição geral da moradia  Categórico   \n",
       "YearBuilt                              Ano de construção da casa    Numérico   \n",
       "1stFlrSF                 Área total do primeiro andar da moradia    Numérico   \n",
       "2ndFlrSF                  Área total do segundo andar da moradia    Numérico   \n",
       "BedroomAbvGr     Quantidade de camas na moradia (acima do porão)    Numérico   \n",
       "KitchenAbvGr   Quantidade de cozinhas na moradia (acima do po...    Numérico   \n",
       "TotRmsAbvGrd   Quantidade total de quartos na moradia (acima ...    Numérico   \n",
       "\n",
       "                            segmento expect  \n",
       "nome_variavel                                \n",
       "LotFrontage           Space (Espaço)   Alta  \n",
       "LotArea               Space (Espaço)   Alta  \n",
       "OverallQual    Building (Construção)   Alta  \n",
       "OverallCond    Building (Construção)   Alta  \n",
       "YearBuilt      Building (Construção)   Alta  \n",
       "1stFlrSF              Space (Espaço)   Alta  \n",
       "2ndFlrSF              Space (Espaço)   Alta  \n",
       "BedroomAbvGr          Space (Espaço)   Alta  \n",
       "KitchenAbvGr          Space (Espaço)   Alta  \n",
       "TotRmsAbvGrd          Space (Espaço)   Alta  "
      ]
     },
     "execution_count": 55,
     "metadata": {},
     "output_type": "execute_result"
    }
   ],
   "source": [
    "# Indexando somente atributos com alta influência\n",
    "high_corr_pre_analise = num_pre_analise.query('expect == \"Alta\"')\n",
    "high_corr_pre_analise"
   ]
  },
  {
   "cell_type": "markdown",
   "metadata": {
    "ExecuteTime": {
     "end_time": "2019-06-16T23:15:30.210406Z",
     "start_time": "2019-06-16T23:15:28.636Z"
    }
   },
   "source": [
    "É notável que alguns atributos, na pré-análise, foram classificados como Categóricos quando, na verdade, foram designados via código ao grupo dos atributos numéricos. Um dos fatores que podem ter levado a essa conclusão diz respeito ao significado real do atributo, dado que, em alguns casos, temos números inteiros indicando categorias (1 = 'A', 2 = 'B'), fazendo com que, por linha de código, esses atributos tenham sido caracterizados como Numérico quando, na verdade, traduzem informações categóricas."
   ]
  },
  {
   "cell_type": "markdown",
   "metadata": {
    "ExecuteTime": {
     "end_time": "2019-06-16T23:15:30.211170Z",
     "start_time": "2019-06-16T23:15:28.640Z"
    }
   },
   "source": [
    "Vejamos uma matriz de correlação para entender melhor a situação dos atributos numéricos."
   ]
  },
  {
   "cell_type": "code",
   "execution_count": 56,
   "metadata": {
    "ExecuteTime": {
     "end_time": "2019-06-17T02:02:17.656678Z",
     "start_time": "2019-06-17T02:02:17.020675Z"
    }
   },
   "outputs": [
    {
     "data": {
      "text/plain": [
       "<matplotlib.axes._subplots.AxesSubplot at 0x7f27d19336a0>"
      ]
     },
     "execution_count": 56,
     "metadata": {},
     "output_type": "execute_result"
    },
    {
     "data": {
      "image/png": "[encoded data removed]",
      "text/plain": [
       "<Figure size 864x576 with 2 Axes>"
      ]
     },
     "metadata": {
      "needs_background": "light"
     },
     "output_type": "display_data"
    }
   ],
   "source": [
    "# Matriz de correlação\n",
    "corrmat = train.corr()\n",
    "fig, ax = plt.subplots(figsize=(12, 8))\n",
    "sns.heatmap(corrmat, vmax=.8, square=True)"
   ]
  },
  {
   "cell_type": "markdown",
   "metadata": {},
   "source": [
    "Antes de comentar sobre o resultado obtido com a matriz acima, é necessário entender que:\n",
    "* Quadrados claros indicam uma forte correlação positiva;\n",
    "* Quadrados escuros indicam uma forte correlação negativa."
   ]
  },
  {
   "cell_type": "markdown",
   "metadata": {},
   "source": [
    "**1º ponto:** forte correlação positiva entre os atributos `TotalBsmtSF` e `1stFlrSF`"
   ]
  },
  {
   "cell_type": "code",
   "execution_count": 57,
   "metadata": {
    "ExecuteTime": {
     "end_time": "2019-06-17T02:04:59.422689Z",
     "start_time": "2019-06-17T02:04:59.403842Z"
    }
   },
   "outputs": [
    {
     "data": {
      "text/html": [
       "<div>\n",
       "<style scoped>\n",
       "    .dataframe tbody tr th:only-of-type {\n",
       "        vertical-align: middle;\n",
       "    }\n",
       "\n",
       "    .dataframe tbody tr th {\n",
       "        vertical-align: top;\n",
       "    }\n",
       "\n",
       "    .dataframe thead th {\n",
       "        text-align: right;\n",
       "    }\n",
       "</style>\n",
       "<table border=\"1\" class=\"dataframe\">\n",
       "  <thead>\n",
       "    <tr style=\"text-align: right;\">\n",
       "      <th></th>\n",
       "      <th>descricao</th>\n",
       "      <th>tipo</th>\n",
       "      <th>segmento</th>\n",
       "      <th>expect</th>\n",
       "    </tr>\n",
       "    <tr>\n",
       "      <th>nome_variavel</th>\n",
       "      <th></th>\n",
       "      <th></th>\n",
       "      <th></th>\n",
       "      <th></th>\n",
       "    </tr>\n",
       "  </thead>\n",
       "  <tbody>\n",
       "    <tr>\n",
       "      <th>TotalBsmtSF</th>\n",
       "      <td>Área total do porão</td>\n",
       "      <td>Numérico</td>\n",
       "      <td>Space (Espaço)</td>\n",
       "      <td>Média</td>\n",
       "    </tr>\n",
       "    <tr>\n",
       "      <th>1stFlrSF</th>\n",
       "      <td>Área total do primeiro andar da moradia</td>\n",
       "      <td>Numérico</td>\n",
       "      <td>Space (Espaço)</td>\n",
       "      <td>Alta</td>\n",
       "    </tr>\n",
       "  </tbody>\n",
       "</table>\n",
       "</div>"
      ],
      "text/plain": [
       "                                             descricao      tipo  \\\n",
       "nome_variavel                                                      \n",
       "TotalBsmtSF                        Área total do porão  Numérico   \n",
       "1stFlrSF       Área total do primeiro andar da moradia  Numérico   \n",
       "\n",
       "                     segmento expect  \n",
       "nome_variavel                         \n",
       "TotalBsmtSF    Space (Espaço)  Média  \n",
       "1stFlrSF       Space (Espaço)   Alta  "
      ]
     },
     "execution_count": 57,
     "metadata": {},
     "output_type": "execute_result"
    }
   ],
   "source": [
    "# Vejamos do que se trata esses atributos\n",
    "pre_analise.loc[['TotalBsmtSF', '1stFlrSF']]"
   ]
  },
  {
   "cell_type": "markdown",
   "metadata": {},
   "source": [
    "**2º ponto:** forte correlação positiva entre os atributos `GarageCars` e `GarageArea`"
   ]
  },
  {
   "cell_type": "code",
   "execution_count": 58,
   "metadata": {
    "ExecuteTime": {
     "end_time": "2019-06-17T02:06:15.863931Z",
     "start_time": "2019-06-17T02:06:15.846245Z"
    }
   },
   "outputs": [
    {
     "data": {
      "text/html": [
       "<div>\n",
       "<style scoped>\n",
       "    .dataframe tbody tr th:only-of-type {\n",
       "        vertical-align: middle;\n",
       "    }\n",
       "\n",
       "    .dataframe tbody tr th {\n",
       "        vertical-align: top;\n",
       "    }\n",
       "\n",
       "    .dataframe thead th {\n",
       "        text-align: right;\n",
       "    }\n",
       "</style>\n",
       "<table border=\"1\" class=\"dataframe\">\n",
       "  <thead>\n",
       "    <tr style=\"text-align: right;\">\n",
       "      <th></th>\n",
       "      <th>descricao</th>\n",
       "      <th>tipo</th>\n",
       "      <th>segmento</th>\n",
       "      <th>expect</th>\n",
       "    </tr>\n",
       "    <tr>\n",
       "      <th>nome_variavel</th>\n",
       "      <th></th>\n",
       "      <th></th>\n",
       "      <th></th>\n",
       "      <th></th>\n",
       "    </tr>\n",
       "  </thead>\n",
       "  <tbody>\n",
       "    <tr>\n",
       "      <th>GarageCars</th>\n",
       "      <td>Tamanho da garagem relacionado a quantidade de...</td>\n",
       "      <td>Numérico</td>\n",
       "      <td>Space (Espaço)</td>\n",
       "      <td>Média</td>\n",
       "    </tr>\n",
       "    <tr>\n",
       "      <th>GarageArea</th>\n",
       "      <td>Área da garagem em metros quadrados</td>\n",
       "      <td>Numérico</td>\n",
       "      <td>Space (Espaço)</td>\n",
       "      <td>Média</td>\n",
       "    </tr>\n",
       "  </tbody>\n",
       "</table>\n",
       "</div>"
      ],
      "text/plain": [
       "                                                       descricao      tipo  \\\n",
       "nome_variavel                                                                \n",
       "GarageCars     Tamanho da garagem relacionado a quantidade de...  Numérico   \n",
       "GarageArea                   Área da garagem em metros quadrados  Numérico   \n",
       "\n",
       "                     segmento expect  \n",
       "nome_variavel                         \n",
       "GarageCars     Space (Espaço)  Média  \n",
       "GarageArea     Space (Espaço)  Média  "
      ]
     },
     "execution_count": 58,
     "metadata": {},
     "output_type": "execute_result"
    }
   ],
   "source": [
    "# Vejamos em mais detalhes\n",
    "pre_analise.loc[['GarageCars', 'GarageArea']]"
   ]
  },
  {
   "cell_type": "markdown",
   "metadata": {},
   "source": [
    "**Análise:**\n",
    "\n",
    "* Essa forte correlação positiva entre atributos indica uma situação de _multicolinearidade_. Isso indica que, possivelmente, tais atributos podem estar representando a mesma informação, o que indesejável para o modelo.\n",
    "\n",
    "* Um outro ponto extremamente importante diz respeito às variáveis que possuem alta correlação com nosso target `SalePrice`, sendo estas: `OverallQual`, `GrLivarea`, `GarageCars`, `GarageArea` e mais algumas."
   ]
  },
  {
   "cell_type": "code",
   "execution_count": 61,
   "metadata": {
    "ExecuteTime": {
     "end_time": "2019-06-17T02:10:44.631618Z",
     "start_time": "2019-06-17T02:10:44.623655Z"
    }
   },
   "outputs": [
    {
     "data": {
      "text/plain": [
       "Index(['SalePrice', 'OverallQual', 'GrLivArea', 'GarageCars', 'GarageArea',\n",
       "       'TotalBsmtSF', '1stFlrSF', 'FullBath', 'TotRmsAbvGrd', 'YearBuilt'],\n",
       "      dtype='object')"
      ]
     },
     "execution_count": 61,
     "metadata": {},
     "output_type": "execute_result"
    }
   ],
   "source": [
    "corrmat.nlargest(10, 'SalePrice')['SalePrice'].index"
   ]
  },
  {
   "cell_type": "code",
   "execution_count": 62,
   "metadata": {
    "ExecuteTime": {
     "end_time": "2019-06-17T02:12:21.613184Z",
     "start_time": "2019-06-17T02:12:21.204752Z"
    }
   },
   "outputs": [
    {
     "data": {
      "image/png": "[encoded data removed]",
      "text/plain": [
       "<Figure size 432x288 with 2 Axes>"
      ]
     },
     "metadata": {},
     "output_type": "display_data"
    }
   ],
   "source": [
    "# Top 10 atributos com maior correlação com o target\n",
    "k = 10\n",
    "cols = corrmat.nlargest(k, 'SalePrice')['SalePrice'].index\n",
    "cm = np.corrcoef(train[cols].values.T)\n",
    "sns.set(font_scale=1.25)\n",
    "hm = sns.heatmap(cm, cbar=True, annot=True, square=True, fmt='.2f', annot_kws={'size': 10}, \n",
    "                 yticklabels=cols.values, xticklabels=cols.values)\n",
    "plt.show()"
   ]
  },
  {
   "cell_type": "markdown",
   "metadata": {},
   "source": [
    "Vejamos se, na pré-análise realizada, conseguimos captar o que os dados acabaram de nos informar"
   ]
  },
  {
   "cell_type": "code",
   "execution_count": 65,
   "metadata": {
    "ExecuteTime": {
     "end_time": "2019-06-17T02:13:37.926701Z",
     "start_time": "2019-06-17T02:13:37.911962Z"
    }
   },
   "outputs": [
    {
     "data": {
      "text/html": [
       "<div>\n",
       "<style scoped>\n",
       "    .dataframe tbody tr th:only-of-type {\n",
       "        vertical-align: middle;\n",
       "    }\n",
       "\n",
       "    .dataframe tbody tr th {\n",
       "        vertical-align: top;\n",
       "    }\n",
       "\n",
       "    .dataframe thead th {\n",
       "        text-align: right;\n",
       "    }\n",
       "</style>\n",
       "<table border=\"1\" class=\"dataframe\">\n",
       "  <thead>\n",
       "    <tr style=\"text-align: right;\">\n",
       "      <th></th>\n",
       "      <th>descricao</th>\n",
       "      <th>tipo</th>\n",
       "      <th>segmento</th>\n",
       "      <th>expect</th>\n",
       "    </tr>\n",
       "  </thead>\n",
       "  <tbody>\n",
       "    <tr>\n",
       "      <th>OverallQual</th>\n",
       "      <td>Score do material e acabamento da moradia</td>\n",
       "      <td>Categórico</td>\n",
       "      <td>Building (Construção)</td>\n",
       "      <td>Alta</td>\n",
       "    </tr>\n",
       "    <tr>\n",
       "      <th>GrLivArea</th>\n",
       "      <td>Área total da sala de estar</td>\n",
       "      <td>Numérico</td>\n",
       "      <td>Space (Espaço)</td>\n",
       "      <td>Média</td>\n",
       "    </tr>\n",
       "    <tr>\n",
       "      <th>GarageCars</th>\n",
       "      <td>Tamanho da garagem relacionado a quantidade de...</td>\n",
       "      <td>Numérico</td>\n",
       "      <td>Space (Espaço)</td>\n",
       "      <td>Média</td>\n",
       "    </tr>\n",
       "    <tr>\n",
       "      <th>GarageArea</th>\n",
       "      <td>Área da garagem em metros quadrados</td>\n",
       "      <td>Numérico</td>\n",
       "      <td>Space (Espaço)</td>\n",
       "      <td>Média</td>\n",
       "    </tr>\n",
       "    <tr>\n",
       "      <th>TotalBsmtSF</th>\n",
       "      <td>Área total do porão</td>\n",
       "      <td>Numérico</td>\n",
       "      <td>Space (Espaço)</td>\n",
       "      <td>Média</td>\n",
       "    </tr>\n",
       "    <tr>\n",
       "      <th>1stFlrSF</th>\n",
       "      <td>Área total do primeiro andar da moradia</td>\n",
       "      <td>Numérico</td>\n",
       "      <td>Space (Espaço)</td>\n",
       "      <td>Alta</td>\n",
       "    </tr>\n",
       "    <tr>\n",
       "      <th>FullBath</th>\n",
       "      <td>Quantidade de banheiros completos na casa (aci...</td>\n",
       "      <td>Numérico</td>\n",
       "      <td>Space (Espaço)</td>\n",
       "      <td>Média</td>\n",
       "    </tr>\n",
       "    <tr>\n",
       "      <th>TotRmsAbvGrd</th>\n",
       "      <td>Quantidade total de quartos na moradia (acima ...</td>\n",
       "      <td>Numérico</td>\n",
       "      <td>Space (Espaço)</td>\n",
       "      <td>Alta</td>\n",
       "    </tr>\n",
       "    <tr>\n",
       "      <th>YearBuilt</th>\n",
       "      <td>Ano de construção da casa</td>\n",
       "      <td>Numérico</td>\n",
       "      <td>Building (Construção)</td>\n",
       "      <td>Alta</td>\n",
       "    </tr>\n",
       "  </tbody>\n",
       "</table>\n",
       "</div>"
      ],
      "text/plain": [
       "                                                      descricao        tipo  \\\n",
       "OverallQual           Score do material e acabamento da moradia  Categórico   \n",
       "GrLivArea                           Área total da sala de estar    Numérico   \n",
       "GarageCars    Tamanho da garagem relacionado a quantidade de...    Numérico   \n",
       "GarageArea                  Área da garagem em metros quadrados    Numérico   \n",
       "TotalBsmtSF                                 Área total do porão    Numérico   \n",
       "1stFlrSF                Área total do primeiro andar da moradia    Numérico   \n",
       "FullBath      Quantidade de banheiros completos na casa (aci...    Numérico   \n",
       "TotRmsAbvGrd  Quantidade total de quartos na moradia (acima ...    Numérico   \n",
       "YearBuilt                             Ano de construção da casa    Numérico   \n",
       "\n",
       "                           segmento expect  \n",
       "OverallQual   Building (Construção)   Alta  \n",
       "GrLivArea            Space (Espaço)  Média  \n",
       "GarageCars           Space (Espaço)  Média  \n",
       "GarageArea           Space (Espaço)  Média  \n",
       "TotalBsmtSF          Space (Espaço)  Média  \n",
       "1stFlrSF             Space (Espaço)   Alta  \n",
       "FullBath             Space (Espaço)  Média  \n",
       "TotRmsAbvGrd         Space (Espaço)   Alta  \n",
       "YearBuilt     Building (Construção)   Alta  "
      ]
     },
     "execution_count": 65,
     "metadata": {},
     "output_type": "execute_result"
    }
   ],
   "source": [
    "# Resultado da pré análise\n",
    "pre_analise.loc[cols[1:]]"
   ]
  },
  {
   "cell_type": "markdown",
   "metadata": {},
   "source": [
    "Bom, não podemos dizer que tivemos um aproveitamento de 100%, entretando ao menos tivemos o bom senso de indicar influência `Média` a alguns atributos com influência `Alta`. Analisando individualmente estes atributos, temos:\n",
    "\n",
    "* **OverallQual:** Ok. Mencionamos, em tópicos anteriores, que este atributo poderia ser muito importante para a análise;\n",
    "* **GrLivArea:** A sala de estar realmente importa para a construção do preço da casa e sua respectiva venda. Faz sentido.\n",
    "* **GarageCars** e **GarageArea**: Aparentemente o espaço proporcionado pela garagem causa bastante influência no preço de venda da casa. Porém, como discutido acima, ambos são atributos com alta correlação entre si, dado que a área calculada da garagem é baseada na quantidade de carros que esta comporta. Podemos simplesmente manter o atributo GarageCars, uma vez que sua correlação com o target SalePrice é maior.\n",
    "* **TotalBsmtSF** e **1stFlrSF**: Assim como no caso acima, ambos são atributos com alta correlação entre si. Iremos manter TotalBsmtSF com a mesma justificativa do tópico logo acima.\n",
    "* **FullBath:** Ok, de certa forma isso era esperado. A quantidade de banheiros em uma casa realmente possui influência em seu preço de venda;\n",
    "* **TotRmsAbvGrd:** Também trazendo total sentido, a quantidade de quartos é importante para o cálculo do preço da casa.\n",
    "* **YearBuilt:** Também concordo que o ano de construção da casa pode influenciar em seu preço."
   ]
  },
  {
   "cell_type": "markdown",
   "metadata": {},
   "source": [
    "TODO\n",
    "\n",
    "    - Plotar pairplot com correlações de todas as variáveis;\n",
    "    - Analisar resultados (https://www.kaggle.com/pmarcelino/comprehensive-data-exploration-with-python);\n",
    "    - Verificar necessidade de tratar outliers nessa primeira abordagem;\n",
    "    - Analisar transformações logaritmicas nos dados;\n",
    "    - Entender plotagem probabilística (Theoretical Quantiles x Ordered Values);\n",
    "    - Criar pipeline de transformação;\n",
    "    - Treinar modelo;\n",
    "    - Analisar resultados."
   ]
  },
  {
   "cell_type": "code",
   "execution_count": null,
   "metadata": {},
   "outputs": [],
   "source": []
  }
 ],
 "metadata": {
  "kernelspec": {
   "display_name": "Python 3",
   "language": "python",
   "name": "python3"
  },
  "language_info": {
   "codemirror_mode": {
    "name": "ipython",
    "version": 3
   },
   "file_extension": ".py",
   "mimetype": "text/x-python",
   "name": "python",
   "nbconvert_exporter": "python",
   "pygments_lexer": "ipython3",
   "version": "3.7.3"
  },
  "toc": {
   "base_numbering": 1,
   "nav_menu": {},
   "number_sections": true,
   "sideBar": true,
   "skip_h1_title": true,
   "title_cell": "Table of Contents",
   "title_sidebar": "Contents",
   "toc_cell": true,
   "toc_position": {},
   "toc_section_display": true,
   "toc_window_display": true
  }
 },
 "nbformat": 4,
 "nbformat_minor": 2
}
