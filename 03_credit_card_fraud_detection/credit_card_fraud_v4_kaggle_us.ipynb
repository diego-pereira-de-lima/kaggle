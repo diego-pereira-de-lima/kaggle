{
 "cells": [
  {
   "cell_type": "markdown",
   "metadata": {
    "toc": true
   },
   "source": [
    "<h1>Table of Contents<span class=\"tocSkip\"></span></h1>\n",
    "<div class=\"toc\"><ul class=\"toc-item\"><li><span><a href=\"#Objective\" data-toc-modified-id=\"Objective-1\"><span class=\"toc-item-num\">1&nbsp;&nbsp;</span>Objective</a></span></li><li><span><a href=\"#Libraries\" data-toc-modified-id=\"Libraries-2\"><span class=\"toc-item-num\">2&nbsp;&nbsp;</span>Libraries</a></span></li><li><span><a href=\"#Function-Definition\" data-toc-modified-id=\"Function-Definition-3\"><span class=\"toc-item-num\">3&nbsp;&nbsp;</span>Function Definition</a></span></li><li><span><a href=\"#EDA\" data-toc-modified-id=\"EDA-4\"><span class=\"toc-item-num\">4&nbsp;&nbsp;</span>EDA</a></span><ul class=\"toc-item\"><li><span><a href=\"#Amount-per-Transaction\" data-toc-modified-id=\"Amount-per-Transaction-4.1\"><span class=\"toc-item-num\">4.1&nbsp;&nbsp;</span>Amount per Transaction</a></span></li><li><span><a href=\"#Time-Between-Transactions\" data-toc-modified-id=\"Time-Between-Transactions-4.2\"><span class=\"toc-item-num\">4.2&nbsp;&nbsp;</span>Time Between Transactions</a></span></li><li><span><a href=\"#Same-Amount-Transactions\" data-toc-modified-id=\"Same-Amount-Transactions-4.3\"><span class=\"toc-item-num\">4.3&nbsp;&nbsp;</span>Same Amount Transactions</a></span></li></ul></li><li><span><a href=\"#Scaling\" data-toc-modified-id=\"Scaling-5\"><span class=\"toc-item-num\">5&nbsp;&nbsp;</span>Scaling</a></span></li><li><span><a href=\"#Splitting-Data\" data-toc-modified-id=\"Splitting-Data-6\"><span class=\"toc-item-num\">6&nbsp;&nbsp;</span>Splitting Data</a></span></li><li><span><a href=\"#Under-Sampling\" data-toc-modified-id=\"Under-Sampling-7\"><span class=\"toc-item-num\">7&nbsp;&nbsp;</span>Under Sampling</a></span><ul class=\"toc-item\"><li><span><a href=\"#Splitting-Undersampled-Data\" data-toc-modified-id=\"Splitting-Undersampled-Data-7.1\"><span class=\"toc-item-num\">7.1&nbsp;&nbsp;</span>Splitting Undersampled Data</a></span></li><li><span><a href=\"#Training-Models\" data-toc-modified-id=\"Training-Models-7.2\"><span class=\"toc-item-num\">7.2&nbsp;&nbsp;</span>Training Models</a></span></li><li><span><a href=\"#Evaluation\" data-toc-modified-id=\"Evaluation-7.3\"><span class=\"toc-item-num\">7.3&nbsp;&nbsp;</span>Evaluation</a></span><ul class=\"toc-item\"><li><span><a href=\"#Undersampled-Training-Set\" data-toc-modified-id=\"Undersampled-Training-Set-7.3.1\"><span class=\"toc-item-num\">7.3.1&nbsp;&nbsp;</span>Undersampled Training Set</a></span></li><li><span><a href=\"#Undersampled-Test-Set\" data-toc-modified-id=\"Undersampled-Test-Set-7.3.2\"><span class=\"toc-item-num\">7.3.2&nbsp;&nbsp;</span>Undersampled Test Set</a></span></li><li><span><a href=\"#Original-Test-Set\" data-toc-modified-id=\"Original-Test-Set-7.3.3\"><span class=\"toc-item-num\">7.3.3&nbsp;&nbsp;</span>Original Test Set</a></span></li><li><span><a href=\"#ROC-Curve\" data-toc-modified-id=\"ROC-Curve-7.3.4\"><span class=\"toc-item-num\">7.3.4&nbsp;&nbsp;</span>ROC Curve</a></span></li></ul></li><li><span><a href=\"#Logistic-Regression\" data-toc-modified-id=\"Logistic-Regression-7.4\"><span class=\"toc-item-num\">7.4&nbsp;&nbsp;</span>Logistic Regression</a></span><ul class=\"toc-item\"><li><span><a href=\"#Original-x-Undersampled\" data-toc-modified-id=\"Original-x-Undersampled-7.4.1\"><span class=\"toc-item-num\">7.4.1&nbsp;&nbsp;</span>Original x Undersampled</a></span></li><li><span><a href=\"#Threshold\" data-toc-modified-id=\"Threshold-7.4.2\"><span class=\"toc-item-num\">7.4.2&nbsp;&nbsp;</span>Threshold</a></span></li></ul></li></ul></li></ul></div>"
   ]
  },
  {
   "cell_type": "markdown",
   "metadata": {},
   "source": [
    "# Credit Card Fraud Transactions"
   ]
  },
  {
   "cell_type": "markdown",
   "metadata": {},
   "source": [
    "In this kernel we will explore a dataset of credit card transactions in wich we have some fraudulent ones. The goal is to understand and gain insights from data and build solutions for a skewed dataset with high percentage of negative class and very low percentagem for positive class.\n",
    "\n",
    "**Considerations:**\n",
    "\n",
    "* This dataset has 31 columns and 28 of them are result of a PCA process, and so we have little information about them;\n",
    "* The other features we can understand are `Time` and `Amount` that explain, in order, the seconds between the transaction and the first transaction in dataset and the amount of transaction.\n",
    "* Finally we have a `Class` label for this Supervised Learning problem.\n",
    "* Fraud detection is a very usefull case because in general, it sets up unbalanced datasets (real life problems) and it demands specific analysis with metrics like `precision`, `recall`, `ROC Curve`, and others that we certainlty will handle during work."
   ]
  },
  {
   "cell_type": "markdown",
   "metadata": {},
   "source": [
    "## Objective"
   ]
  },
  {
   "cell_type": "markdown",
   "metadata": {},
   "source": [
    "The main reason I choose this Kaggle project is to learn how to work on unbalanced datasets. The objective here is to come up with concepts for handle this kind of problem. The kernel pipeline:\n",
    "\n",
    "* Simple **EDA** to look for fraud patterns;\n",
    "* Unbalanced approach: **Under Sampling**;\n",
    "* Selecting a **classifier**;\n",
    "* **Logistic Regression** for unbalanaced and balanced dataset;\n",
    "* Selecting a **Threshold**."
   ]
  },
  {
   "cell_type": "markdown",
   "metadata": {},
   "source": [
    "## Libraries"
   ]
  },
  {
   "cell_type": "code",
   "execution_count": 1,
   "metadata": {
    "ExecuteTime": {
     "end_time": "2019-05-24T03:14:00.246119Z",
     "start_time": "2019-05-24T03:13:58.171222Z"
    }
   },
   "outputs": [],
   "source": [
    "import pandas as pd\n",
    "import numpy as np\n",
    "import matplotlib.pyplot as plt\n",
    "%matplotlib inline\n",
    "import seaborn as sns\n",
    "import itertools\n",
    "from sklearn.preprocessing import StandardScaler\n",
    "from sklearn.linear_model import LogisticRegression\n",
    "from sklearn.tree import DecisionTreeClassifier\n",
    "from sklearn.ensemble import RandomForestClassifier\n",
    "from sklearn.svm import SVC\n",
    "from sklearn.neighbors import KNeighborsClassifier\n",
    "from sklearn.neural_network import MLPClassifier\n",
    "from sklearn.model_selection import train_test_split, cross_val_predict, cross_val_score\n",
    "from sklearn.metrics import accuracy_score, precision_score, recall_score, \\\n",
    "                            precision_recall_curve, f1_score, confusion_matrix, roc_curve, \\\n",
    "                            roc_auc_score\n",
    "import time\n",
    "import warnings\n",
    "warnings.filterwarnings('ignore')"
   ]
  },
  {
   "cell_type": "markdown",
   "metadata": {},
   "source": [
    "## Function Definition"
   ]
  },
  {
   "cell_type": "code",
   "execution_count": 2,
   "metadata": {
    "ExecuteTime": {
     "end_time": "2019-05-24T03:14:01.914919Z",
     "start_time": "2019-05-24T03:14:00.250327Z"
    }
   },
   "outputs": [],
   "source": [
    "def format_spines(ax, right_border=True):\n",
    "    \"\"\"\n",
    "    This function sets up custom borders and colors in axis\n",
    "    \"\"\"    \n",
    "    ax.spines['bottom'].set_color('#CCCCCC')\n",
    "    ax.spines['left'].set_color('#CCCCCC')\n",
    "    ax.spines['top'].set_color('#FFFFFF')\n",
    "    if right_border:\n",
    "        ax.spines['right'].set_color('#CCCCCC')\n",
    "    else:\n",
    "        ax.spines['right'].set_color('#FFFFFF')\n",
    "    ax.patch.set_facecolor('#FFFFFF')\n",
    "\n",
    "def count_class(df, title, colors=[\"#3498db\", \"#C8391A\"]):\n",
    "    \"\"\"\n",
    "    This function plots the percentagem of positive and negative class in the dataset\n",
    "    \"\"\"\n",
    "    fig, ax = plt.subplots()\n",
    "    ax = sns.countplot(x='Class', data=df, palette=colors)\n",
    "    format_spines(ax, right_border=False)\n",
    "    ax.set_title(title, size=14)\n",
    "\n",
    "    ncount = len(df)\n",
    "    for p in ax.patches:\n",
    "        x=p.get_bbox().get_points()[:,0]\n",
    "        y=p.get_bbox().get_points()[1,1]\n",
    "        ax.annotate('{:.2f}%'.format(100.*y/ncount), (x.mean(), y), \n",
    "                ha='center', va='bottom') # set the alignment of the text\n",
    "    plt.tight_layout()\n",
    "    plt.subplots_adjust(top=1.1)\n",
    "    ax.set_xticklabels(['Non-Fraud', 'Fraud'])\n",
    "    plt.show()\n",
    "    \n",
    "def fit_models(classifiers, X, y):\n",
    "    \"\"\"\n",
    "    This function receive a dictionary of classifiers and a traning set/label\n",
    "    as input and return another dictionary with models after training\n",
    "    \"\"\"\n",
    "    fitted_models = {}\n",
    "    for key, model in classifiers.items():\n",
    "        model.fit(X, y)\n",
    "        fitted_models[key] = model\n",
    "        \n",
    "    return fitted_models\n",
    "\n",
    "def plot_confusion_matrix(cm, classes,\n",
    "                          normalize=False,\n",
    "                          title='Confusion matrix',\n",
    "                          cmap=plt.cm.Blues):\n",
    "    \"\"\"\n",
    "    This function set up and plot a Confusion Matrix\n",
    "    \"\"\"\n",
    "    plt.imshow(cm, interpolation='nearest', cmap=cmap)\n",
    "    plt.title(title, fontsize=14)\n",
    "    plt.colorbar()\n",
    "    tick_marks = np.arange(len(classes))\n",
    "    plt.xticks(tick_marks, classes, rotation=45)\n",
    "    plt.yticks(tick_marks, classes)\n",
    "    \n",
    "    # Format plot\n",
    "    fmt = '.2f' if normalize else 'd'\n",
    "    thresh = cm.max() / 2.\n",
    "    for i, j in itertools.product(range(cm.shape[0]), range(cm.shape[1])):\n",
    "        plt.text(j, i, format(cm[i, j]),\n",
    "                 horizontalalignment=\"center\",\n",
    "                 color=\"white\" if cm[i, j] > thresh else \"black\")\n",
    "\n",
    "    plt.ylabel('True label')\n",
    "    plt.xlabel('Predicted label')\n",
    "    \n",
    "def create_dataset():\n",
    "    \"\"\"\n",
    "    This functions creates a dataframe to keep performance analysis\n",
    "    \"\"\"\n",
    "    attributes = ['acc', 'prec', 'rec', 'f1', 'auc', 'total_time']\n",
    "    model_performance = pd.DataFrame({})\n",
    "    for col in attributes:\n",
    "        model_performance[col] = []\n",
    "    return model_performance\n",
    "\n",
    "def model_analysis(classifiers, X, y, df_performance, cv=5, train=True):\n",
    "    \"\"\"\n",
    "    This function brings up a full model evaluation and saves it in a DataFrame object.\n",
    "    \"\"\"\n",
    "    for key, model in classifiers.items():\n",
    "        t0 = time.time()\n",
    "        \n",
    "        # Accuracy, precision, recall and f1_score on training set using cv\n",
    "        if train:\n",
    "            acc = cross_val_score(model, X, y, cv=cv, scoring='accuracy').mean()\n",
    "            prec = cross_val_score(model, X, y, cv=cv, scoring='precision').mean()\n",
    "            rec = cross_val_score(model, X, y, cv=cv, scoring='recall').mean()\n",
    "            f1 = cross_val_score(model, X, y, cv=cv, scoring='f1').mean()\n",
    "        else:\n",
    "            y_pred = model.predict(X)\n",
    "            acc = accuracy_score(y, y_pred)\n",
    "            prec = precision_score(y, y_pred)\n",
    "            rec = recall_score(y, y_pred)\n",
    "            f1 = f1_score(y, y_pred)\n",
    "        \n",
    "        # AUC score\n",
    "        try:\n",
    "            y_scores = cross_val_predict(model, X, y, cv=5, \n",
    "                                     method='decision_function')\n",
    "        except:\n",
    "            # Trees don't have decision_function but predict_proba\n",
    "            y_probas = cross_val_predict(model, X, y, cv=5, \n",
    "                                         method='predict_proba')\n",
    "            y_scores_tree = y_probas[:, 1]\n",
    "            y_scores = y_scores_tree\n",
    "        auc = roc_auc_score(y, y_scores)\n",
    "        \n",
    "        t1 = time.time()\n",
    "        delta_time = t1-t0\n",
    "        model_name = model.__class__.__name__\n",
    "        \n",
    "        # Saving on dataframe\n",
    "        performances = {}\n",
    "        performances['acc'] = round(acc, 4)\n",
    "        performances['prec'] = round(prec, 4)\n",
    "        performances['rec'] = round(rec, 4)\n",
    "        performances['f1'] = round(f1, 4)\n",
    "        performances['auc'] = round(auc, 4)\n",
    "        performances['total_time'] = round(delta_time, 3)\n",
    "        \n",
    "        df_performance = df_performance.append(performances, ignore_index=True)\n",
    "    df_performance.index = classifiers.keys()\n",
    "    \n",
    "    return df_performance\n",
    "\n",
    "def model_confusion_matrix(classifiers, X, y):\n",
    "    \"\"\"\n",
    "    This function computes predictions for all model and plots a confusion matrix\n",
    "    for each one.\n",
    "    \"\"\"\n",
    "    i = 1\n",
    "    plt.figure(figsize=(11, 11))\n",
    "    sns.set(style='white', palette='muted', color_codes=True)\n",
    "    labels = ['No Fraud', 'Fraud']\n",
    "    \n",
    "    # Ploting confusion matrix\n",
    "    for key, model in classifiers.items(): \n",
    "        y_pred = model.predict(X)\n",
    "        model_cf_mx = confusion_matrix(y, y_pred)\n",
    "\n",
    "        # Plotando matriz\n",
    "        model_name = model.__class__.__name__\n",
    "        plt.subplot(3, 3, i)\n",
    "        plot_confusion_matrix(model_cf_mx, labels, title=model_name + '\\nConfusion Matrix')\n",
    "        i += 1\n",
    "\n",
    "    plt.tight_layout()\n",
    "    plt.show()\n",
    "    \n",
    "def plot_roc_curve(fpr, tpr, y, y_scores, auc, label=None):\n",
    "    \"\"\"\n",
    "    This function plots the ROC curve of a model\n",
    "    \"\"\"   \n",
    "    # Showing data\n",
    "    sns.set(style='white', palette='muted', color_codes=True)\n",
    "    plt.plot(fpr, tpr, linewidth=2, label=f'{label}, auc={auc:.3f}')\n",
    "    plt.plot([0, 1], [0, 1], 'k--')\n",
    "    plt.axis([-0.02, 1.02, -0.02, 1.02])\n",
    "    plt.xlabel('False Positive Rate')\n",
    "    plt.ylabel('True Positive Rate')\n",
    "    plt.title(f'ROC Curve', size=14)\n",
    "    plt.annotate('Minimum ROC Score of 50% \\n (This is the minimum score to get)', \n",
    "                 xy=(0.5, 0.5), xytext=(0.6, 0.4),\n",
    "                 arrowprops=dict(facecolor='#6E726D', shrink=0.05),\n",
    "                )\n",
    "    plt.legend()\n",
    "    \n",
    "def plot_precision_vs_recall(precisions, recalls, label=None, color='b'):\n",
    "    \"\"\"\n",
    "    This function plots precision versus recall curve.\n",
    "    \"\"\"\n",
    "    sns.set(style='white', palette='muted', color_codes=True)\n",
    "    if label=='LogisticRegression':\n",
    "        plt.plot(recalls, precisions, 'r-', linewidth=2, label=label)\n",
    "    else:\n",
    "        plt.plot(recalls, precisions, color=color, linewidth=2, label=label)\n",
    "    plt.title('Precision versus Recall', fontsize=14)\n",
    "    plt.xlabel('Recall')\n",
    "    plt.ylabel('Precision')\n",
    "    plt.axis([0, 1, 0, 1])\n",
    "    plt.legend()\n",
    "    \n",
    "def plot_precision_recall_vs_threshold(precisions, recalls, thresholds):\n",
    "    \"\"\"\n",
    "    This function plots precision x recall among different thresholds\n",
    "    \"\"\"\n",
    "    plt.plot(thresholds, precisions[:-1], 'b--', label='Precision')\n",
    "    plt.plot(thresholds, recalls[:-1], 'g-', label='Recall')\n",
    "    plt.xlabel('Threshold')\n",
    "    plt.title('Precision versus Recall - Thresholds', size=14)\n",
    "    plt.legend(loc='best')\n",
    "    plt.ylim([0, 1])"
   ]
  },
  {
   "cell_type": "markdown",
   "metadata": {},
   "source": [
    "## EDA"
   ]
  },
  {
   "cell_type": "markdown",
   "metadata": {},
   "source": [
    "As said before, I have just two measurable features: `Time` and `Amount`. Obviously, the unbalanced dataset will lead to non-clear conclusions by the way. Meanwhile, the main reason of this simple EDA is to get familiar with data answearing the following questions:\n",
    "\n",
    "* **Amount per Transaction:**\n",
    "    - Is there any relationship between zero amount and fraud transactions?\n",
    "    - What is the mean amount for fraud and non-fraud transactions?\n",
    "    - What is the amount distribution by transaction class?\n",
    "    \n",
    "\n",
    "* **Time Between Transactions:**\n",
    "    - Is it possible to occur more than one transaction at the same time?\n",
    "    - Is this relevant for fraud detections?\n",
    "    - What is the time distribution by transaction class?\n",
    " \n",
    "\n",
    "* **Same Amount per Transaction:**\n",
    "    - Is there any relationship between transactions with identical amount and fraud?\n",
    "    "
   ]
  },
  {
   "cell_type": "code",
   "execution_count": 3,
   "metadata": {
    "ExecuteTime": {
     "end_time": "2019-05-24T03:14:07.570596Z",
     "start_time": "2019-05-24T03:14:01.915915Z"
    }
   },
   "outputs": [
    {
     "data": {
      "text/html": [
       "<div>\n",
       "<style scoped>\n",
       "    .dataframe tbody tr th:only-of-type {\n",
       "        vertical-align: middle;\n",
       "    }\n",
       "\n",
       "    .dataframe tbody tr th {\n",
       "        vertical-align: top;\n",
       "    }\n",
       "\n",
       "    .dataframe thead th {\n",
       "        text-align: right;\n",
       "    }\n",
       "</style>\n",
       "<table border=\"1\" class=\"dataframe\">\n",
       "  <thead>\n",
       "    <tr style=\"text-align: right;\">\n",
       "      <th></th>\n",
       "      <th>Time</th>\n",
       "      <th>V1</th>\n",
       "      <th>V2</th>\n",
       "      <th>V3</th>\n",
       "      <th>V4</th>\n",
       "      <th>V5</th>\n",
       "      <th>V6</th>\n",
       "      <th>V7</th>\n",
       "      <th>V8</th>\n",
       "      <th>V9</th>\n",
       "      <th>...</th>\n",
       "      <th>V21</th>\n",
       "      <th>V22</th>\n",
       "      <th>V23</th>\n",
       "      <th>V24</th>\n",
       "      <th>V25</th>\n",
       "      <th>V26</th>\n",
       "      <th>V27</th>\n",
       "      <th>V28</th>\n",
       "      <th>Amount</th>\n",
       "      <th>Class</th>\n",
       "    </tr>\n",
       "  </thead>\n",
       "  <tbody>\n",
       "    <tr>\n",
       "      <th>0</th>\n",
       "      <td>0.0</td>\n",
       "      <td>-1.359807</td>\n",
       "      <td>-0.072781</td>\n",
       "      <td>2.536347</td>\n",
       "      <td>1.378155</td>\n",
       "      <td>-0.338321</td>\n",
       "      <td>0.462388</td>\n",
       "      <td>0.239599</td>\n",
       "      <td>0.098698</td>\n",
       "      <td>0.363787</td>\n",
       "      <td>...</td>\n",
       "      <td>-0.018307</td>\n",
       "      <td>0.277838</td>\n",
       "      <td>-0.110474</td>\n",
       "      <td>0.066928</td>\n",
       "      <td>0.128539</td>\n",
       "      <td>-0.189115</td>\n",
       "      <td>0.133558</td>\n",
       "      <td>-0.021053</td>\n",
       "      <td>149.62</td>\n",
       "      <td>0</td>\n",
       "    </tr>\n",
       "    <tr>\n",
       "      <th>1</th>\n",
       "      <td>0.0</td>\n",
       "      <td>1.191857</td>\n",
       "      <td>0.266151</td>\n",
       "      <td>0.166480</td>\n",
       "      <td>0.448154</td>\n",
       "      <td>0.060018</td>\n",
       "      <td>-0.082361</td>\n",
       "      <td>-0.078803</td>\n",
       "      <td>0.085102</td>\n",
       "      <td>-0.255425</td>\n",
       "      <td>...</td>\n",
       "      <td>-0.225775</td>\n",
       "      <td>-0.638672</td>\n",
       "      <td>0.101288</td>\n",
       "      <td>-0.339846</td>\n",
       "      <td>0.167170</td>\n",
       "      <td>0.125895</td>\n",
       "      <td>-0.008983</td>\n",
       "      <td>0.014724</td>\n",
       "      <td>2.69</td>\n",
       "      <td>0</td>\n",
       "    </tr>\n",
       "    <tr>\n",
       "      <th>2</th>\n",
       "      <td>1.0</td>\n",
       "      <td>-1.358354</td>\n",
       "      <td>-1.340163</td>\n",
       "      <td>1.773209</td>\n",
       "      <td>0.379780</td>\n",
       "      <td>-0.503198</td>\n",
       "      <td>1.800499</td>\n",
       "      <td>0.791461</td>\n",
       "      <td>0.247676</td>\n",
       "      <td>-1.514654</td>\n",
       "      <td>...</td>\n",
       "      <td>0.247998</td>\n",
       "      <td>0.771679</td>\n",
       "      <td>0.909412</td>\n",
       "      <td>-0.689281</td>\n",
       "      <td>-0.327642</td>\n",
       "      <td>-0.139097</td>\n",
       "      <td>-0.055353</td>\n",
       "      <td>-0.059752</td>\n",
       "      <td>378.66</td>\n",
       "      <td>0</td>\n",
       "    </tr>\n",
       "    <tr>\n",
       "      <th>3</th>\n",
       "      <td>1.0</td>\n",
       "      <td>-0.966272</td>\n",
       "      <td>-0.185226</td>\n",
       "      <td>1.792993</td>\n",
       "      <td>-0.863291</td>\n",
       "      <td>-0.010309</td>\n",
       "      <td>1.247203</td>\n",
       "      <td>0.237609</td>\n",
       "      <td>0.377436</td>\n",
       "      <td>-1.387024</td>\n",
       "      <td>...</td>\n",
       "      <td>-0.108300</td>\n",
       "      <td>0.005274</td>\n",
       "      <td>-0.190321</td>\n",
       "      <td>-1.175575</td>\n",
       "      <td>0.647376</td>\n",
       "      <td>-0.221929</td>\n",
       "      <td>0.062723</td>\n",
       "      <td>0.061458</td>\n",
       "      <td>123.50</td>\n",
       "      <td>0</td>\n",
       "    </tr>\n",
       "    <tr>\n",
       "      <th>4</th>\n",
       "      <td>2.0</td>\n",
       "      <td>-1.158233</td>\n",
       "      <td>0.877737</td>\n",
       "      <td>1.548718</td>\n",
       "      <td>0.403034</td>\n",
       "      <td>-0.407193</td>\n",
       "      <td>0.095921</td>\n",
       "      <td>0.592941</td>\n",
       "      <td>-0.270533</td>\n",
       "      <td>0.817739</td>\n",
       "      <td>...</td>\n",
       "      <td>-0.009431</td>\n",
       "      <td>0.798278</td>\n",
       "      <td>-0.137458</td>\n",
       "      <td>0.141267</td>\n",
       "      <td>-0.206010</td>\n",
       "      <td>0.502292</td>\n",
       "      <td>0.219422</td>\n",
       "      <td>0.215153</td>\n",
       "      <td>69.99</td>\n",
       "      <td>0</td>\n",
       "    </tr>\n",
       "  </tbody>\n",
       "</table>\n",
       "<p>5 rows × 31 columns</p>\n",
       "</div>"
      ],
      "text/plain": [
       "   Time        V1        V2        V3        V4        V5        V6        V7  \\\n",
       "0   0.0 -1.359807 -0.072781  2.536347  1.378155 -0.338321  0.462388  0.239599   \n",
       "1   0.0  1.191857  0.266151  0.166480  0.448154  0.060018 -0.082361 -0.078803   \n",
       "2   1.0 -1.358354 -1.340163  1.773209  0.379780 -0.503198  1.800499  0.791461   \n",
       "3   1.0 -0.966272 -0.185226  1.792993 -0.863291 -0.010309  1.247203  0.237609   \n",
       "4   2.0 -1.158233  0.877737  1.548718  0.403034 -0.407193  0.095921  0.592941   \n",
       "\n",
       "         V8        V9  ...         V21       V22       V23       V24  \\\n",
       "0  0.098698  0.363787  ...   -0.018307  0.277838 -0.110474  0.066928   \n",
       "1  0.085102 -0.255425  ...   -0.225775 -0.638672  0.101288 -0.339846   \n",
       "2  0.247676 -1.514654  ...    0.247998  0.771679  0.909412 -0.689281   \n",
       "3  0.377436 -1.387024  ...   -0.108300  0.005274 -0.190321 -1.175575   \n",
       "4 -0.270533  0.817739  ...   -0.009431  0.798278 -0.137458  0.141267   \n",
       "\n",
       "        V25       V26       V27       V28  Amount  Class  \n",
       "0  0.128539 -0.189115  0.133558 -0.021053  149.62      0  \n",
       "1  0.167170  0.125895 -0.008983  0.014724    2.69      0  \n",
       "2 -0.327642 -0.139097 -0.055353 -0.059752  378.66      0  \n",
       "3  0.647376 -0.221929  0.062723  0.061458  123.50      0  \n",
       "4 -0.206010  0.502292  0.219422  0.215153   69.99      0  \n",
       "\n",
       "[5 rows x 31 columns]"
      ]
     },
     "execution_count": 3,
     "metadata": {},
     "output_type": "execute_result"
    }
   ],
   "source": [
    "# Reading the data\n",
    "df = pd.read_csv(r'C:\\Users\\thiagoPanini\\Downloads\\datasets\\creditcard.csv')\n",
    "df.head()"
   ]
  },
  {
   "cell_type": "code",
   "execution_count": 4,
   "metadata": {
    "ExecuteTime": {
     "end_time": "2019-05-24T03:14:07.586511Z",
     "start_time": "2019-05-24T03:14:07.574822Z"
    }
   },
   "outputs": [
    {
     "name": "stdout",
     "output_type": "stream",
     "text": [
      "This dataset has 284807 rows and 31 columns.\n"
     ]
    }
   ],
   "source": [
    "# Dimension\n",
    "print(f'This dataset has {df.shape[0]} rows and {df.shape[1]} columns.')"
   ]
  },
  {
   "cell_type": "code",
   "execution_count": 5,
   "metadata": {
    "ExecuteTime": {
     "end_time": "2019-05-24T03:14:08.318440Z",
     "start_time": "2019-05-24T03:14:07.588659Z"
    }
   },
   "outputs": [
    {
     "data": {
      "text/plain": [
       "False"
      ]
     },
     "execution_count": 5,
     "metadata": {},
     "output_type": "execute_result"
    }
   ],
   "source": [
    "# Is there any null data?\n",
    "df.isnull().sum().any() if not df.isnull().sum().any() else df.isnull().sum()"
   ]
  },
  {
   "cell_type": "code",
   "execution_count": 6,
   "metadata": {
    "ExecuteTime": {
     "end_time": "2019-05-24T03:14:10.182314Z",
     "start_time": "2019-05-24T03:14:08.319921Z"
    }
   },
   "outputs": [
    {
     "data": {
      "image/png": "[encoded data removed]",
      "text/plain": [
       "<Figure size 432x288 with 1 Axes>"
      ]
     },
     "metadata": {
      "needs_background": "light"
     },
     "output_type": "display_data"
    }
   ],
   "source": [
    "# Let's see the balance of classes\n",
    "count_class(df, 'Balance of Original Dataset')"
   ]
  },
  {
   "cell_type": "markdown",
   "metadata": {},
   "source": [
    "### Amount per Transaction"
   ]
  },
  {
   "cell_type": "code",
   "execution_count": 7,
   "metadata": {
    "ExecuteTime": {
     "end_time": "2019-05-24T03:14:10.391280Z",
     "start_time": "2019-05-24T03:14:10.184075Z"
    }
   },
   "outputs": [
    {
     "data": {
      "text/plain": [
       "count    284807.000000\n",
       "mean         88.349619\n",
       "std         250.120109\n",
       "min           0.000000\n",
       "25%           5.600000\n",
       "50%          22.000000\n",
       "75%          77.165000\n",
       "max       25691.160000\n",
       "Name: Amount, dtype: float64"
      ]
     },
     "execution_count": 7,
     "metadata": {},
     "output_type": "execute_result"
    }
   ],
   "source": [
    "# Some statistics\n",
    "df['Amount'].describe()"
   ]
  },
  {
   "cell_type": "markdown",
   "metadata": {},
   "source": [
    "Here I have transactions with $\\$0,00$ until transactions with $\\$25.691,16$. The mean value is $\\$88,34$. Just for curiosity, is there anything related with zero amount transactions? Any insight I can gather on this?"
   ]
  },
  {
   "cell_type": "code",
   "execution_count": 8,
   "metadata": {
    "ExecuteTime": {
     "end_time": "2019-05-24T03:14:10.712040Z",
     "start_time": "2019-05-24T03:14:10.397681Z"
    }
   },
   "outputs": [
    {
     "name": "stdout",
     "output_type": "stream",
     "text": [
      "We have 1825 transactions with zero amount.\n",
      "In wich 27 of them are fraud.\n"
     ]
    },
    {
     "data": {
      "image/png": "[encoded data removed]",
      "text/plain": [
       "<Figure size 432x288 with 1 Axes>"
      ]
     },
     "metadata": {
      "needs_background": "light"
     },
     "output_type": "display_data"
    }
   ],
   "source": [
    "# Zero amount analysis\n",
    "zero_amount = df[df['Amount']==0]\n",
    "print(f'We have {len(zero_amount)} transactions with zero amount.')\n",
    "zero_amount_fraud = zero_amount[zero_amount['Class']==1]\n",
    "print(f'In wich {len(zero_amount_fraud)} of them are fraud.')\n",
    "\n",
    "# Let's see the percentage\n",
    "count_class(zero_amount, 'Balance of Zero Transaction DataFrame')"
   ]
  },
  {
   "cell_type": "markdown",
   "metadata": {},
   "source": [
    "Besides the balance increase, there is no conclusion of zero amount transactions at all."
   ]
  },
  {
   "cell_type": "code",
   "execution_count": 9,
   "metadata": {
    "ExecuteTime": {
     "end_time": "2019-05-24T03:14:11.340585Z",
     "start_time": "2019-05-24T03:14:10.714673Z"
    }
   },
   "outputs": [
    {
     "name": "stdout",
     "output_type": "stream",
     "text": [
      "Fraud: 492\n",
      "Non-fraud: 284315\n"
     ]
    }
   ],
   "source": [
    "# Let's create two more datasets for non-fraud and fraud\n",
    "fraud_transactions = df.query('Class == 1')\n",
    "non_fraud_transactions = df.query('Class == 0')\n",
    "print(f'Fraud: {fraud_transactions.shape[0]}')\n",
    "print(f'Non-fraud: {non_fraud_transactions.shape[0]}')"
   ]
  },
  {
   "cell_type": "code",
   "execution_count": 10,
   "metadata": {
    "ExecuteTime": {
     "end_time": "2019-05-24T03:14:11.362491Z",
     "start_time": "2019-05-24T03:14:11.344067Z"
    }
   },
   "outputs": [
    {
     "data": {
      "text/plain": [
       "count     492.000000\n",
       "mean      122.211321\n",
       "std       256.683288\n",
       "min         0.000000\n",
       "25%         1.000000\n",
       "50%         9.250000\n",
       "75%       105.890000\n",
       "max      2125.870000\n",
       "Name: Amount, dtype: float64"
      ]
     },
     "execution_count": 10,
     "metadata": {},
     "output_type": "execute_result"
    }
   ],
   "source": [
    "# Amount statistic for fraudulent transactions\n",
    "fraud_transactions['Amount'].describe()"
   ]
  },
  {
   "cell_type": "code",
   "execution_count": 11,
   "metadata": {
    "ExecuteTime": {
     "end_time": "2019-05-24T03:14:11.471035Z",
     "start_time": "2019-05-24T03:14:11.364487Z"
    }
   },
   "outputs": [
    {
     "data": {
      "text/plain": [
       "count    284315.000000\n",
       "mean         88.291022\n",
       "std         250.105092\n",
       "min           0.000000\n",
       "25%           5.650000\n",
       "50%          22.000000\n",
       "75%          77.050000\n",
       "max       25691.160000\n",
       "Name: Amount, dtype: float64"
      ]
     },
     "execution_count": 11,
     "metadata": {},
     "output_type": "execute_result"
    }
   ],
   "source": [
    "# Amount statistic for non-fraud transactions\n",
    "non_fraud_transactions['Amount'].describe()"
   ]
  },
  {
   "cell_type": "markdown",
   "metadata": {},
   "source": [
    "Numerically, it is possible to say that the mean mount of non fraudulent transactions in this dataset is $\\$88.29$, while the mean amount for fraudulent is $\\$122.21$. As I said before, this isn't a clear conclusion as long as I have a high unbalanced dataset, but anyway, people expect to link fraud with high amount, so..."
   ]
  },
  {
   "cell_type": "code",
   "execution_count": 12,
   "metadata": {
    "ExecuteTime": {
     "end_time": "2019-05-24T03:14:11.789716Z",
     "start_time": "2019-05-24T03:14:11.475688Z"
    }
   },
   "outputs": [
    {
     "data": {
      "image/png": "[encoded data removed]",
      "text/plain": [
       "<Figure size 432x288 with 1 Axes>"
      ]
     },
     "metadata": {
      "needs_background": "light"
     },
     "output_type": "display_data"
    }
   ],
   "source": [
    "custom_colors = [\"#3498db\", \"#C8391A\"]\n",
    "fig, ax = plt.subplots()\n",
    "ax = sns.barplot(x='Class', y='Amount', data=df,\n",
    "                 palette=custom_colors, ci=None)\n",
    "format_spines(ax, right_border=False)\n",
    "ax.set_title('Mean Amount by Class', size=14)\n",
    "\n",
    "ncount = len(df)\n",
    "for p in ax.patches:\n",
    "    x=p.get_bbox().get_points()[:,0]\n",
    "    y=p.get_bbox().get_points()[1,1]\n",
    "    ax.annotate('${:.2f}'.format(y), (x.mean(), y), \n",
    "            ha='center', va='bottom') # set the alignment of the text\n",
    "plt.tight_layout()\n",
    "plt.subplots_adjust(top=1.1)\n",
    "ax.set_xticklabels(['Non-Fraud', 'Fraud'])\n",
    "plt.show()"
   ]
  },
  {
   "cell_type": "code",
   "execution_count": 13,
   "metadata": {
    "ExecuteTime": {
     "end_time": "2019-05-24T03:14:12.315893Z",
     "start_time": "2019-05-24T03:14:11.792269Z"
    }
   },
   "outputs": [
    {
     "data": {
      "image/png": "[encoded data removed]",
      "text/plain": [
       "<Figure size 432x288 with 1 Axes>"
      ]
     },
     "metadata": {
      "needs_background": "light"
     },
     "output_type": "display_data"
    }
   ],
   "source": [
    "# Preparando gráfico\n",
    "fig, ax = plt.subplots()\n",
    "sns.set(style='darkgrid', palette='muted')\n",
    "ax = sns.violinplot(x='Amount', data=fraud_transactions)\n",
    "ax.set_title('Amount Distribution in Fraudulent Transactions', size=14)\n",
    "plt.show()"
   ]
  },
  {
   "cell_type": "markdown",
   "metadata": {},
   "source": [
    "Let's plot a boxplot to get more intuition. I expect to find many outliers."
   ]
  },
  {
   "cell_type": "code",
   "execution_count": 14,
   "metadata": {
    "ExecuteTime": {
     "end_time": "2019-05-24T03:14:12.495078Z",
     "start_time": "2019-05-24T03:14:12.319882Z"
    }
   },
   "outputs": [
    {
     "data": {
      "image/png": "[encoded data removed]",
      "text/plain": [
       "<Figure size 432x288 with 1 Axes>"
      ]
     },
     "metadata": {},
     "output_type": "display_data"
    }
   ],
   "source": [
    "# Boxplot\n",
    "fig, ax = plt.subplots()\n",
    "ax = sns.boxplot(fraud_transactions['Amount'])\n",
    "ax.set_title('Distribuição de Valores em Fraudes', size=14)\n",
    "plt.show()"
   ]
  },
  {
   "cell_type": "markdown",
   "metadata": {},
   "source": [
    "### Time Between Transactions"
   ]
  },
  {
   "cell_type": "markdown",
   "metadata": {},
   "source": [
    "Is there any time pattern in fraudulent transactions?"
   ]
  },
  {
   "cell_type": "code",
   "execution_count": 15,
   "metadata": {
    "ExecuteTime": {
     "end_time": "2019-05-24T03:14:12.951927Z",
     "start_time": "2019-05-24T03:14:12.497121Z"
    }
   },
   "outputs": [
    {
     "data": {
      "image/png": "[encoded data removed]",
      "text/plain": [
       "<Figure size 432x288 with 1 Axes>"
      ]
     },
     "metadata": {},
     "output_type": "display_data"
    }
   ],
   "source": [
    "# Computing fraud interval\n",
    "fraud_idx = list(fraud_transactions.index)\n",
    "time_fraud = []\n",
    "for idx in range(len(fraud_idx)):\n",
    "    if fraud_idx.index(fraud_idx[idx]) == 0:\n",
    "        pass\n",
    "    else:\n",
    "        time_fraud.append(fraud_idx[idx] - fraud_idx[idx-1])\n",
    "\n",
    "# Time distribution\n",
    "time_fraud_series = pd.Series(time_fraud)\n",
    "fig, ax = plt.subplots()\n",
    "ax = sns.distplot(time_fraud_series)\n",
    "ax.set_title('Time Between Fraudulent Transactions', size=14)\n",
    "ax.set_xlabel('Time (s)')\n",
    "plt.show()"
   ]
  },
  {
   "cell_type": "code",
   "execution_count": 16,
   "metadata": {
    "ExecuteTime": {
     "end_time": "2019-05-24T03:14:12.972673Z",
     "start_time": "2019-05-24T03:14:12.956741Z"
    }
   },
   "outputs": [
    {
     "data": {
      "text/plain": [
       "count     491.000000\n",
       "mean      572.572301\n",
       "std       940.142245\n",
       "min         1.000000\n",
       "25%        34.000000\n",
       "50%       174.000000\n",
       "75%       711.000000\n",
       "max      5907.000000\n",
       "dtype: float64"
      ]
     },
     "execution_count": 16,
     "metadata": {},
     "output_type": "execute_result"
    }
   ],
   "source": [
    "# Statistics\n",
    "time_fraud_series.describe()"
   ]
  },
  {
   "cell_type": "code",
   "execution_count": 17,
   "metadata": {
    "ExecuteTime": {
     "end_time": "2019-05-24T03:14:13.042518Z",
     "start_time": "2019-05-24T03:14:12.974668Z"
    }
   },
   "outputs": [
    {
     "name": "stdout",
     "output_type": "stream",
     "text": [
      "Most common interval for fraudulent transactions: \n",
      "1 second(s)\n"
     ]
    }
   ],
   "source": [
    "# Most common interval\n",
    "print(f'Most common interval for fraudulent transactions: \\n\\\n",
    "{time_fraud_series.mode()[0]} second(s)')"
   ]
  },
  {
   "cell_type": "markdown",
   "metadata": {},
   "source": [
    "The plot shows the distribution of time between fraudulent transactions. If I take a look in index of `time_fraud` I can see that many frauds occured in a short amount of time (1 , 2 or 3 seconds). Meanwhile, the time statistics above shows there is no pattern between time and fraudulent transactions. It can be proved using the high standard deviation."
   ]
  },
  {
   "cell_type": "markdown",
   "metadata": {},
   "source": [
    "_Is there any possibility that transactions registered at exactly the same time are related with fraud? Maybe people who make fraud have knowledge about time transaction and take advantage os this to confuse I.T credit card security._"
   ]
  },
  {
   "cell_type": "code",
   "execution_count": 18,
   "metadata": {
    "ExecuteTime": {
     "end_time": "2019-05-24T03:14:26.102894Z",
     "start_time": "2019-05-24T03:14:13.044715Z"
    }
   },
   "outputs": [
    {
     "data": {
      "text/html": [
       "<div>\n",
       "<style scoped>\n",
       "    .dataframe tbody tr th:only-of-type {\n",
       "        vertical-align: middle;\n",
       "    }\n",
       "\n",
       "    .dataframe tbody tr th {\n",
       "        vertical-align: top;\n",
       "    }\n",
       "\n",
       "    .dataframe thead th {\n",
       "        text-align: right;\n",
       "    }\n",
       "</style>\n",
       "<table border=\"1\" class=\"dataframe\">\n",
       "  <thead>\n",
       "    <tr style=\"text-align: right;\">\n",
       "      <th></th>\n",
       "      <th>Time</th>\n",
       "      <th>Amount</th>\n",
       "      <th>Class</th>\n",
       "    </tr>\n",
       "  </thead>\n",
       "  <tbody>\n",
       "    <tr>\n",
       "      <th>0</th>\n",
       "      <td>0.0</td>\n",
       "      <td>149.62</td>\n",
       "      <td>0</td>\n",
       "    </tr>\n",
       "    <tr>\n",
       "      <th>1</th>\n",
       "      <td>0.0</td>\n",
       "      <td>2.69</td>\n",
       "      <td>0</td>\n",
       "    </tr>\n",
       "    <tr>\n",
       "      <th>2</th>\n",
       "      <td>1.0</td>\n",
       "      <td>378.66</td>\n",
       "      <td>0</td>\n",
       "    </tr>\n",
       "    <tr>\n",
       "      <th>3</th>\n",
       "      <td>1.0</td>\n",
       "      <td>123.50</td>\n",
       "      <td>0</td>\n",
       "    </tr>\n",
       "    <tr>\n",
       "      <th>4</th>\n",
       "      <td>2.0</td>\n",
       "      <td>69.99</td>\n",
       "      <td>0</td>\n",
       "    </tr>\n",
       "    <tr>\n",
       "      <th>5</th>\n",
       "      <td>2.0</td>\n",
       "      <td>3.67</td>\n",
       "      <td>0</td>\n",
       "    </tr>\n",
       "    <tr>\n",
       "      <th>7</th>\n",
       "      <td>7.0</td>\n",
       "      <td>40.80</td>\n",
       "      <td>0</td>\n",
       "    </tr>\n",
       "    <tr>\n",
       "      <th>8</th>\n",
       "      <td>7.0</td>\n",
       "      <td>93.20</td>\n",
       "      <td>0</td>\n",
       "    </tr>\n",
       "    <tr>\n",
       "      <th>10</th>\n",
       "      <td>10.0</td>\n",
       "      <td>7.80</td>\n",
       "      <td>0</td>\n",
       "    </tr>\n",
       "    <tr>\n",
       "      <th>11</th>\n",
       "      <td>10.0</td>\n",
       "      <td>9.99</td>\n",
       "      <td>0</td>\n",
       "    </tr>\n",
       "    <tr>\n",
       "      <th>12</th>\n",
       "      <td>10.0</td>\n",
       "      <td>121.50</td>\n",
       "      <td>0</td>\n",
       "    </tr>\n",
       "  </tbody>\n",
       "</table>\n",
       "</div>"
      ],
      "text/plain": [
       "    Time  Amount  Class\n",
       "0    0.0  149.62      0\n",
       "1    0.0    2.69      0\n",
       "2    1.0  378.66      0\n",
       "3    1.0  123.50      0\n",
       "4    2.0   69.99      0\n",
       "5    2.0    3.67      0\n",
       "7    7.0   40.80      0\n",
       "8    7.0   93.20      0\n",
       "10  10.0    7.80      0\n",
       "11  10.0    9.99      0\n",
       "12  10.0  121.50      0"
      ]
     },
     "execution_count": 18,
     "metadata": {},
     "output_type": "execute_result"
    }
   ],
   "source": [
    "# Transactions occured at the same time\n",
    "equal_time = [idx for idx in range(1, len(df)) if df['Time'][idx] == df['Time'][idx-1]]\n",
    "\n",
    "# Visualizing\n",
    "idx_equal_test = equal_time[:6]\n",
    "idx_equal_prev = [x-1 for x in idx_equal_test]\n",
    "idx_equal = np.unique(np.r_[idx_equal_prev + idx_equal_test])\n",
    "\n",
    "df.iloc[idx_equal, np.r_[(0, -2, -1)]]"
   ]
  },
  {
   "cell_type": "markdown",
   "metadata": {},
   "source": [
    "It worked! Let's see the fraud percentage in transactions occured at the same time."
   ]
  },
  {
   "cell_type": "code",
   "execution_count": 19,
   "metadata": {
    "ExecuteTime": {
     "end_time": "2019-05-24T03:14:26.410888Z",
     "start_time": "2019-05-24T03:14:26.105648Z"
    }
   },
   "outputs": [
    {
     "data": {
      "text/html": [
       "<div>\n",
       "<style scoped>\n",
       "    .dataframe tbody tr th:only-of-type {\n",
       "        vertical-align: middle;\n",
       "    }\n",
       "\n",
       "    .dataframe tbody tr th {\n",
       "        vertical-align: top;\n",
       "    }\n",
       "\n",
       "    .dataframe thead th {\n",
       "        text-align: right;\n",
       "    }\n",
       "</style>\n",
       "<table border=\"1\" class=\"dataframe\">\n",
       "  <thead>\n",
       "    <tr style=\"text-align: right;\">\n",
       "      <th></th>\n",
       "      <th>Time</th>\n",
       "      <th>V1</th>\n",
       "      <th>V2</th>\n",
       "      <th>V3</th>\n",
       "      <th>V4</th>\n",
       "      <th>V5</th>\n",
       "      <th>V6</th>\n",
       "      <th>V7</th>\n",
       "      <th>V8</th>\n",
       "      <th>V9</th>\n",
       "      <th>...</th>\n",
       "      <th>V21</th>\n",
       "      <th>V22</th>\n",
       "      <th>V23</th>\n",
       "      <th>V24</th>\n",
       "      <th>V25</th>\n",
       "      <th>V26</th>\n",
       "      <th>V27</th>\n",
       "      <th>V28</th>\n",
       "      <th>Amount</th>\n",
       "      <th>Class</th>\n",
       "    </tr>\n",
       "  </thead>\n",
       "  <tbody>\n",
       "    <tr>\n",
       "      <th>0</th>\n",
       "      <td>0.0</td>\n",
       "      <td>-1.359807</td>\n",
       "      <td>-0.072781</td>\n",
       "      <td>2.536347</td>\n",
       "      <td>1.378155</td>\n",
       "      <td>-0.338321</td>\n",
       "      <td>0.462388</td>\n",
       "      <td>0.239599</td>\n",
       "      <td>0.098698</td>\n",
       "      <td>0.363787</td>\n",
       "      <td>...</td>\n",
       "      <td>-0.018307</td>\n",
       "      <td>0.277838</td>\n",
       "      <td>-0.110474</td>\n",
       "      <td>0.066928</td>\n",
       "      <td>0.128539</td>\n",
       "      <td>-0.189115</td>\n",
       "      <td>0.133558</td>\n",
       "      <td>-0.021053</td>\n",
       "      <td>149.62</td>\n",
       "      <td>0</td>\n",
       "    </tr>\n",
       "    <tr>\n",
       "      <th>1</th>\n",
       "      <td>0.0</td>\n",
       "      <td>1.191857</td>\n",
       "      <td>0.266151</td>\n",
       "      <td>0.166480</td>\n",
       "      <td>0.448154</td>\n",
       "      <td>0.060018</td>\n",
       "      <td>-0.082361</td>\n",
       "      <td>-0.078803</td>\n",
       "      <td>0.085102</td>\n",
       "      <td>-0.255425</td>\n",
       "      <td>...</td>\n",
       "      <td>-0.225775</td>\n",
       "      <td>-0.638672</td>\n",
       "      <td>0.101288</td>\n",
       "      <td>-0.339846</td>\n",
       "      <td>0.167170</td>\n",
       "      <td>0.125895</td>\n",
       "      <td>-0.008983</td>\n",
       "      <td>0.014724</td>\n",
       "      <td>2.69</td>\n",
       "      <td>0</td>\n",
       "    </tr>\n",
       "    <tr>\n",
       "      <th>2</th>\n",
       "      <td>1.0</td>\n",
       "      <td>-1.358354</td>\n",
       "      <td>-1.340163</td>\n",
       "      <td>1.773209</td>\n",
       "      <td>0.379780</td>\n",
       "      <td>-0.503198</td>\n",
       "      <td>1.800499</td>\n",
       "      <td>0.791461</td>\n",
       "      <td>0.247676</td>\n",
       "      <td>-1.514654</td>\n",
       "      <td>...</td>\n",
       "      <td>0.247998</td>\n",
       "      <td>0.771679</td>\n",
       "      <td>0.909412</td>\n",
       "      <td>-0.689281</td>\n",
       "      <td>-0.327642</td>\n",
       "      <td>-0.139097</td>\n",
       "      <td>-0.055353</td>\n",
       "      <td>-0.059752</td>\n",
       "      <td>378.66</td>\n",
       "      <td>0</td>\n",
       "    </tr>\n",
       "    <tr>\n",
       "      <th>3</th>\n",
       "      <td>1.0</td>\n",
       "      <td>-0.966272</td>\n",
       "      <td>-0.185226</td>\n",
       "      <td>1.792993</td>\n",
       "      <td>-0.863291</td>\n",
       "      <td>-0.010309</td>\n",
       "      <td>1.247203</td>\n",
       "      <td>0.237609</td>\n",
       "      <td>0.377436</td>\n",
       "      <td>-1.387024</td>\n",
       "      <td>...</td>\n",
       "      <td>-0.108300</td>\n",
       "      <td>0.005274</td>\n",
       "      <td>-0.190321</td>\n",
       "      <td>-1.175575</td>\n",
       "      <td>0.647376</td>\n",
       "      <td>-0.221929</td>\n",
       "      <td>0.062723</td>\n",
       "      <td>0.061458</td>\n",
       "      <td>123.50</td>\n",
       "      <td>0</td>\n",
       "    </tr>\n",
       "    <tr>\n",
       "      <th>4</th>\n",
       "      <td>2.0</td>\n",
       "      <td>-1.158233</td>\n",
       "      <td>0.877737</td>\n",
       "      <td>1.548718</td>\n",
       "      <td>0.403034</td>\n",
       "      <td>-0.407193</td>\n",
       "      <td>0.095921</td>\n",
       "      <td>0.592941</td>\n",
       "      <td>-0.270533</td>\n",
       "      <td>0.817739</td>\n",
       "      <td>...</td>\n",
       "      <td>-0.009431</td>\n",
       "      <td>0.798278</td>\n",
       "      <td>-0.137458</td>\n",
       "      <td>0.141267</td>\n",
       "      <td>-0.206010</td>\n",
       "      <td>0.502292</td>\n",
       "      <td>0.219422</td>\n",
       "      <td>0.215153</td>\n",
       "      <td>69.99</td>\n",
       "      <td>0</td>\n",
       "    </tr>\n",
       "    <tr>\n",
       "      <th>5</th>\n",
       "      <td>2.0</td>\n",
       "      <td>-0.425966</td>\n",
       "      <td>0.960523</td>\n",
       "      <td>1.141109</td>\n",
       "      <td>-0.168252</td>\n",
       "      <td>0.420987</td>\n",
       "      <td>-0.029728</td>\n",
       "      <td>0.476201</td>\n",
       "      <td>0.260314</td>\n",
       "      <td>-0.568671</td>\n",
       "      <td>...</td>\n",
       "      <td>-0.208254</td>\n",
       "      <td>-0.559825</td>\n",
       "      <td>-0.026398</td>\n",
       "      <td>-0.371427</td>\n",
       "      <td>-0.232794</td>\n",
       "      <td>0.105915</td>\n",
       "      <td>0.253844</td>\n",
       "      <td>0.081080</td>\n",
       "      <td>3.67</td>\n",
       "      <td>0</td>\n",
       "    </tr>\n",
       "  </tbody>\n",
       "</table>\n",
       "<p>6 rows × 31 columns</p>\n",
       "</div>"
      ],
      "text/plain": [
       "   Time        V1        V2        V3        V4        V5        V6        V7  \\\n",
       "0   0.0 -1.359807 -0.072781  2.536347  1.378155 -0.338321  0.462388  0.239599   \n",
       "1   0.0  1.191857  0.266151  0.166480  0.448154  0.060018 -0.082361 -0.078803   \n",
       "2   1.0 -1.358354 -1.340163  1.773209  0.379780 -0.503198  1.800499  0.791461   \n",
       "3   1.0 -0.966272 -0.185226  1.792993 -0.863291 -0.010309  1.247203  0.237609   \n",
       "4   2.0 -1.158233  0.877737  1.548718  0.403034 -0.407193  0.095921  0.592941   \n",
       "5   2.0 -0.425966  0.960523  1.141109 -0.168252  0.420987 -0.029728  0.476201   \n",
       "\n",
       "         V8        V9  ...         V21       V22       V23       V24  \\\n",
       "0  0.098698  0.363787  ...   -0.018307  0.277838 -0.110474  0.066928   \n",
       "1  0.085102 -0.255425  ...   -0.225775 -0.638672  0.101288 -0.339846   \n",
       "2  0.247676 -1.514654  ...    0.247998  0.771679  0.909412 -0.689281   \n",
       "3  0.377436 -1.387024  ...   -0.108300  0.005274 -0.190321 -1.175575   \n",
       "4 -0.270533  0.817739  ...   -0.009431  0.798278 -0.137458  0.141267   \n",
       "5  0.260314 -0.568671  ...   -0.208254 -0.559825 -0.026398 -0.371427   \n",
       "\n",
       "        V25       V26       V27       V28  Amount  Class  \n",
       "0  0.128539 -0.189115  0.133558 -0.021053  149.62      0  \n",
       "1  0.167170  0.125895 -0.008983  0.014724    2.69      0  \n",
       "2 -0.327642 -0.139097 -0.055353 -0.059752  378.66      0  \n",
       "3  0.647376 -0.221929  0.062723  0.061458  123.50      0  \n",
       "4 -0.206010  0.502292  0.219422  0.215153   69.99      0  \n",
       "5 -0.232794  0.105915  0.253844  0.081080    3.67      0  \n",
       "\n",
       "[6 rows x 31 columns]"
      ]
     },
     "execution_count": 19,
     "metadata": {},
     "output_type": "execute_result"
    }
   ],
   "source": [
    "# Dataframe with same time transactions\n",
    "equal_time_prev = [x-1 for x in equal_time]\n",
    "idx_equal = np.unique(np.r_[equal_time_prev + equal_time])\n",
    "\n",
    "equal_time_transactions = df.iloc[idx_equal, :]\n",
    "equal_time_transactions.head(6)"
   ]
  },
  {
   "cell_type": "code",
   "execution_count": 20,
   "metadata": {
    "ExecuteTime": {
     "end_time": "2019-05-24T03:14:26.424410Z",
     "start_time": "2019-05-24T03:14:26.415061Z"
    }
   },
   "outputs": [
    {
     "name": "stdout",
     "output_type": "stream",
     "text": [
      "We have 239644 occured at the same time.\n",
      "The original dataset has 284807 samples.\n"
     ]
    }
   ],
   "source": [
    "# Comparison\n",
    "print(f'We have {len(equal_time_transactions)} occured at the same time.')\n",
    "print(f'The original dataset has {len(df)} samples.')"
   ]
  },
  {
   "cell_type": "markdown",
   "metadata": {},
   "source": [
    "The only thing to say is that many transactions occured at the same time, what is perfectly normal in this context. If I take a look only at the second duplicated-time transaction, maybe I can find a pattern."
   ]
  },
  {
   "cell_type": "code",
   "execution_count": 21,
   "metadata": {
    "ExecuteTime": {
     "end_time": "2019-05-24T03:14:26.872074Z",
     "start_time": "2019-05-24T03:14:26.425408Z"
    }
   },
   "outputs": [
    {
     "name": "stdout",
     "output_type": "stream",
     "text": [
      "Second duplicated time transactions: 160215\n",
      "In wich 248 are fraud.\n"
     ]
    },
    {
     "data": {
      "image/png": "[encoded data removed]",
      "text/plain": [
       "<Figure size 432x288 with 1 Axes>"
      ]
     },
     "metadata": {},
     "output_type": "display_data"
    }
   ],
   "source": [
    "# Second duplicated transacion\n",
    "equal_time_second_transactions = df.iloc[equal_time, :]\n",
    "print(f'Second duplicated time transactions: {len(equal_time_second_transactions)}')\n",
    "second_time_fraud = equal_time_second_transactions.query('Class==1')\n",
    "print(f'In wich {len(second_time_fraud)} are fraud.')\n",
    "\n",
    "# Let's see the percentage\n",
    "count_class(equal_time_second_transactions, 'Balance of Same-time Transactions DataFrame')"
   ]
  },
  {
   "cell_type": "markdown",
   "metadata": {
    "ExecuteTime": {
     "end_time": "2019-05-22T20:53:41.018966Z",
     "start_time": "2019-05-22T20:53:41.012731Z"
    }
   },
   "source": [
    "The same proportion of the original dataset. No conclusion at all."
   ]
  },
  {
   "cell_type": "code",
   "execution_count": 22,
   "metadata": {
    "ExecuteTime": {
     "end_time": "2019-05-24T03:14:37.043260Z",
     "start_time": "2019-05-24T03:14:26.874337Z"
    }
   },
   "outputs": [
    {
     "data": {
      "image/png": "[encoded data removed]",
      "text/plain": [
       "<Figure size 720x360 with 1 Axes>"
      ]
     },
     "metadata": {},
     "output_type": "display_data"
    }
   ],
   "source": [
    "fig, ax = plt.subplots(figsize=(10, 5))\n",
    "ax = sns.scatterplot(x='Time', y='Amount', data=df, alpha=.3, label='Non-Fraud')\n",
    "ax = sns.scatterplot(x='Time', y='Amount', data=fraud_transactions, label='Fraud')\n",
    "plt.title('Time Distribution per Amount Transaction', size=14)\n",
    "plt.legend()\n",
    "plt.show()"
   ]
  },
  {
   "cell_type": "markdown",
   "metadata": {},
   "source": [
    "### Same Amount Transactions"
   ]
  },
  {
   "cell_type": "code",
   "execution_count": 23,
   "metadata": {
    "ExecuteTime": {
     "end_time": "2019-05-24T03:14:37.746419Z",
     "start_time": "2019-05-24T03:14:37.051347Z"
    }
   },
   "outputs": [
    {
     "name": "stdout",
     "output_type": "stream",
     "text": [
      "Transactions with duplicated amount: 268843\n",
      "In wich 431 are fraud.\n"
     ]
    },
    {
     "data": {
      "image/png": "[encoded data removed]",
      "text/plain": [
       "<Figure size 432x288 with 1 Axes>"
      ]
     },
     "metadata": {},
     "output_type": "display_data"
    }
   ],
   "source": [
    "# Sorting amount in dataset\n",
    "sorted_amount = df.sort_values('Amount')\n",
    "\n",
    "# Returning only duplicated amount\n",
    "bool_mask = sorted_amount['Amount'].duplicated(keep=False)\n",
    "duplicated_amount = sorted_amount[bool_mask]\n",
    "fraud_duplicated_amount = duplicated_amount.query('Class==1')\n",
    "\n",
    "print(f'Transactions with duplicated amount: {len(duplicated_amount)}')\n",
    "print(f'In wich {len(fraud_duplicated_amount)} are fraud.')\n",
    "\n",
    "# Let's see the percentage\n",
    "count_class(duplicated_amount, 'Balance of Duplicted Amount Transactions')"
   ]
  },
  {
   "cell_type": "markdown",
   "metadata": {},
   "source": [
    "The same proportion of the original dataset. No conclusion at all. This is perfectly normal as long as I expect huge duplicated amount in transactions, specially in low values. Maybe if I find a duplicated amount in high fraction of amount, it could be a fraud signal."
   ]
  },
  {
   "cell_type": "markdown",
   "metadata": {},
   "source": [
    "**Conclusions:**\n",
    "I couldn't find any pattern in data related with questions I've made. There is no intuition about amount and time in this dataset that I can go deeper to gather fraud relationship. Meanwhile, this process was great because now I have clear understanding about the data I have in our hands. Let's keep moving forward."
   ]
  },
  {
   "cell_type": "markdown",
   "metadata": {},
   "source": [
    "## Scaling"
   ]
  },
  {
   "cell_type": "markdown",
   "metadata": {},
   "source": [
    "The only two features that aren't scaled yet are `Time` and `Amount`. The others are products of a PCA component. After data exploration, I think `Time` columns won't be necessary for traning models, so it will be dropped."
   ]
  },
  {
   "cell_type": "code",
   "execution_count": null,
   "metadata": {
    "ExecuteTime": {
     "start_time": "2019-05-24T03:13:58.339Z"
    }
   },
   "outputs": [
    {
     "data": {
      "text/html": [
       "<div>\n",
       "<style scoped>\n",
       "    .dataframe tbody tr th:only-of-type {\n",
       "        vertical-align: middle;\n",
       "    }\n",
       "\n",
       "    .dataframe tbody tr th {\n",
       "        vertical-align: top;\n",
       "    }\n",
       "\n",
       "    .dataframe thead th {\n",
       "        text-align: right;\n",
       "    }\n",
       "</style>\n",
       "<table border=\"1\" class=\"dataframe\">\n",
       "  <thead>\n",
       "    <tr style=\"text-align: right;\">\n",
       "      <th></th>\n",
       "      <th>V1</th>\n",
       "      <th>V2</th>\n",
       "      <th>V3</th>\n",
       "      <th>V4</th>\n",
       "      <th>V5</th>\n",
       "      <th>V6</th>\n",
       "      <th>V7</th>\n",
       "      <th>V8</th>\n",
       "      <th>V9</th>\n",
       "      <th>V10</th>\n",
       "      <th>...</th>\n",
       "      <th>V21</th>\n",
       "      <th>V22</th>\n",
       "      <th>V23</th>\n",
       "      <th>V24</th>\n",
       "      <th>V25</th>\n",
       "      <th>V26</th>\n",
       "      <th>V27</th>\n",
       "      <th>V28</th>\n",
       "      <th>Amount</th>\n",
       "      <th>Class</th>\n",
       "    </tr>\n",
       "  </thead>\n",
       "  <tbody>\n",
       "    <tr>\n",
       "      <th>0</th>\n",
       "      <td>-1.359807</td>\n",
       "      <td>-0.072781</td>\n",
       "      <td>2.536347</td>\n",
       "      <td>1.378155</td>\n",
       "      <td>-0.338321</td>\n",
       "      <td>0.462388</td>\n",
       "      <td>0.239599</td>\n",
       "      <td>0.098698</td>\n",
       "      <td>0.363787</td>\n",
       "      <td>0.090794</td>\n",
       "      <td>...</td>\n",
       "      <td>-0.018307</td>\n",
       "      <td>0.277838</td>\n",
       "      <td>-0.110474</td>\n",
       "      <td>0.066928</td>\n",
       "      <td>0.128539</td>\n",
       "      <td>-0.189115</td>\n",
       "      <td>0.133558</td>\n",
       "      <td>-0.021053</td>\n",
       "      <td>0.244964</td>\n",
       "      <td>0</td>\n",
       "    </tr>\n",
       "    <tr>\n",
       "      <th>1</th>\n",
       "      <td>1.191857</td>\n",
       "      <td>0.266151</td>\n",
       "      <td>0.166480</td>\n",
       "      <td>0.448154</td>\n",
       "      <td>0.060018</td>\n",
       "      <td>-0.082361</td>\n",
       "      <td>-0.078803</td>\n",
       "      <td>0.085102</td>\n",
       "      <td>-0.255425</td>\n",
       "      <td>-0.166974</td>\n",
       "      <td>...</td>\n",
       "      <td>-0.225775</td>\n",
       "      <td>-0.638672</td>\n",
       "      <td>0.101288</td>\n",
       "      <td>-0.339846</td>\n",
       "      <td>0.167170</td>\n",
       "      <td>0.125895</td>\n",
       "      <td>-0.008983</td>\n",
       "      <td>0.014724</td>\n",
       "      <td>-0.342475</td>\n",
       "      <td>0</td>\n",
       "    </tr>\n",
       "    <tr>\n",
       "      <th>2</th>\n",
       "      <td>-1.358354</td>\n",
       "      <td>-1.340163</td>\n",
       "      <td>1.773209</td>\n",
       "      <td>0.379780</td>\n",
       "      <td>-0.503198</td>\n",
       "      <td>1.800499</td>\n",
       "      <td>0.791461</td>\n",
       "      <td>0.247676</td>\n",
       "      <td>-1.514654</td>\n",
       "      <td>0.207643</td>\n",
       "      <td>...</td>\n",
       "      <td>0.247998</td>\n",
       "      <td>0.771679</td>\n",
       "      <td>0.909412</td>\n",
       "      <td>-0.689281</td>\n",
       "      <td>-0.327642</td>\n",
       "      <td>-0.139097</td>\n",
       "      <td>-0.055353</td>\n",
       "      <td>-0.059752</td>\n",
       "      <td>1.160686</td>\n",
       "      <td>0</td>\n",
       "    </tr>\n",
       "    <tr>\n",
       "      <th>3</th>\n",
       "      <td>-0.966272</td>\n",
       "      <td>-0.185226</td>\n",
       "      <td>1.792993</td>\n",
       "      <td>-0.863291</td>\n",
       "      <td>-0.010309</td>\n",
       "      <td>1.247203</td>\n",
       "      <td>0.237609</td>\n",
       "      <td>0.377436</td>\n",
       "      <td>-1.387024</td>\n",
       "      <td>-0.054952</td>\n",
       "      <td>...</td>\n",
       "      <td>-0.108300</td>\n",
       "      <td>0.005274</td>\n",
       "      <td>-0.190321</td>\n",
       "      <td>-1.175575</td>\n",
       "      <td>0.647376</td>\n",
       "      <td>-0.221929</td>\n",
       "      <td>0.062723</td>\n",
       "      <td>0.061458</td>\n",
       "      <td>0.140534</td>\n",
       "      <td>0</td>\n",
       "    </tr>\n",
       "    <tr>\n",
       "      <th>4</th>\n",
       "      <td>-1.158233</td>\n",
       "      <td>0.877737</td>\n",
       "      <td>1.548718</td>\n",
       "      <td>0.403034</td>\n",
       "      <td>-0.407193</td>\n",
       "      <td>0.095921</td>\n",
       "      <td>0.592941</td>\n",
       "      <td>-0.270533</td>\n",
       "      <td>0.817739</td>\n",
       "      <td>0.753074</td>\n",
       "      <td>...</td>\n",
       "      <td>-0.009431</td>\n",
       "      <td>0.798278</td>\n",
       "      <td>-0.137458</td>\n",
       "      <td>0.141267</td>\n",
       "      <td>-0.206010</td>\n",
       "      <td>0.502292</td>\n",
       "      <td>0.219422</td>\n",
       "      <td>0.215153</td>\n",
       "      <td>-0.073403</td>\n",
       "      <td>0</td>\n",
       "    </tr>\n",
       "  </tbody>\n",
       "</table>\n",
       "<p>5 rows × 30 columns</p>\n",
       "</div>"
      ],
      "text/plain": [
       "         V1        V2        V3        V4        V5        V6        V7  \\\n",
       "0 -1.359807 -0.072781  2.536347  1.378155 -0.338321  0.462388  0.239599   \n",
       "1  1.191857  0.266151  0.166480  0.448154  0.060018 -0.082361 -0.078803   \n",
       "2 -1.358354 -1.340163  1.773209  0.379780 -0.503198  1.800499  0.791461   \n",
       "3 -0.966272 -0.185226  1.792993 -0.863291 -0.010309  1.247203  0.237609   \n",
       "4 -1.158233  0.877737  1.548718  0.403034 -0.407193  0.095921  0.592941   \n",
       "\n",
       "         V8        V9       V10  ...         V21       V22       V23  \\\n",
       "0  0.098698  0.363787  0.090794  ...   -0.018307  0.277838 -0.110474   \n",
       "1  0.085102 -0.255425 -0.166974  ...   -0.225775 -0.638672  0.101288   \n",
       "2  0.247676 -1.514654  0.207643  ...    0.247998  0.771679  0.909412   \n",
       "3  0.377436 -1.387024 -0.054952  ...   -0.108300  0.005274 -0.190321   \n",
       "4 -0.270533  0.817739  0.753074  ...   -0.009431  0.798278 -0.137458   \n",
       "\n",
       "        V24       V25       V26       V27       V28    Amount  Class  \n",
       "0  0.066928  0.128539 -0.189115  0.133558 -0.021053  0.244964      0  \n",
       "1 -0.339846  0.167170  0.125895 -0.008983  0.014724 -0.342475      0  \n",
       "2 -0.689281 -0.327642 -0.139097 -0.055353 -0.059752  1.160686      0  \n",
       "3 -1.175575  0.647376 -0.221929  0.062723  0.061458  0.140534      0  \n",
       "4  0.141267 -0.206010  0.502292  0.219422  0.215153 -0.073403      0  \n",
       "\n",
       "[5 rows x 30 columns]"
      ]
     },
     "execution_count": 24,
     "metadata": {},
     "output_type": "execute_result"
    }
   ],
   "source": [
    "# Scaling and dropping\n",
    "df['Amount'] = StandardScaler().fit_transform(df['Amount'].values.reshape(-1, 1))\n",
    "df.drop('Time', axis=1, inplace=True)\n",
    "\n",
    "# Result\n",
    "df.head()"
   ]
  },
  {
   "cell_type": "markdown",
   "metadata": {},
   "source": [
    "## Splitting Data"
   ]
  },
  {
   "cell_type": "markdown",
   "metadata": {},
   "source": [
    "Before we can keep the analysis, I must split the data in train and test subsets so we can measure the performane on original test set. Keeping in mind that I will apply an undarsampling method, it would be good to measure the model performance on a set that **supposedly** is not on the training subset (we will see that this isn't a true fact)."
   ]
  },
  {
   "cell_type": "code",
   "execution_count": null,
   "metadata": {
    "ExecuteTime": {
     "start_time": "2019-05-24T03:13:58.349Z"
    }
   },
   "outputs": [
    {
     "name": "stdout",
     "output_type": "stream",
     "text": [
      "- - - Train set - - -\n",
      "X_train dimension: (227845, 29)\n",
      "y_train dimension: (227845,)\n",
      "\n",
      "- - - Test set - - -\n",
      "X_test dimension: (56962, 29)\n",
      "y_test dimension: (56962,)\n"
     ]
    }
   ],
   "source": [
    "# Indexing data\n",
    "X = df.iloc[:, :-1]\n",
    "y = df['Class']\n",
    "X_train, X_test, y_train, y_test = train_test_split(X, y, test_size=.2)\n",
    "\n",
    "# Taking a look\n",
    "print(f'- - - Train set - - -')\n",
    "print(f'X_train dimension: {X_train.shape}')\n",
    "print(f'y_train dimension: {y_train.shape}')\n",
    "print(f'\\n- - - Test set - - -')\n",
    "print(f'X_test dimension: {X_test.shape}')\n",
    "print(f'y_test dimension: {y_test.shape}')"
   ]
  },
  {
   "cell_type": "code",
   "execution_count": null,
   "metadata": {
    "ExecuteTime": {
     "start_time": "2019-05-24T03:13:58.354Z"
    }
   },
   "outputs": [
    {
     "name": "stdout",
     "output_type": "stream",
     "text": [
      "Fraud percentage in train set: 0.1778%\n",
      "Fraud percentage in test set: 0.1527%\n"
     ]
    }
   ],
   "source": [
    "# Looking at the ballance\n",
    "positive_class_train = sum(y_train == 1)\n",
    "balance_class_train = positive_class_train / len(y_train)\n",
    "print(f'Fraud percentage in train set: {100*balance_class_train:.4f}%')\n",
    "\n",
    "# Verificando balanceamento de classes teste\n",
    "positive_class_test = sum(y_test == 1)\n",
    "balance_class_test = positive_class_test / len(y_test)\n",
    "print(f'Fraud percentage in test set: {100*balance_class_test:.4f}%')"
   ]
  },
  {
   "cell_type": "markdown",
   "metadata": {},
   "source": [
    "Ok the balance is the same for train and test set. But we have to keep in mind that this is a really unbalanced set. In original dataset, we have just 0.17% fraud samples. It means that if we set a model that predicts that a transactions isn't a fraud all the time, **it would have 99,83% accuracy**! That's why we have to bring up other metrics like `precision`, `recall`, `f1_score`, `ROC curve`, `AUC score`, `confusion matrix` and others.\n",
    "\n",
    "At this point, I will apply `under-sampling` on data to balance the positive and negative classes, keeping in mind that I will loose information from dataset for sure."
   ]
  },
  {
   "cell_type": "markdown",
   "metadata": {},
   "source": [
    "## Under Sampling"
   ]
  },
  {
   "cell_type": "code",
   "execution_count": null,
   "metadata": {
    "ExecuteTime": {
     "start_time": "2019-05-24T03:13:58.364Z"
    }
   },
   "outputs": [
    {
     "name": "stdout",
     "output_type": "stream",
     "text": [
      "Fraud: 492\n",
      "Non-Fraud: 284315\n"
     ]
    }
   ],
   "source": [
    "# Intuition\n",
    "total_fraud = len(fraud_transactions)\n",
    "total_normal = len(non_fraud_transactions)\n",
    "print(f'Fraud: {total_fraud}')\n",
    "print(f'Non-Fraud: {total_normal}')"
   ]
  },
  {
   "cell_type": "code",
   "execution_count": null,
   "metadata": {
    "ExecuteTime": {
     "start_time": "2019-05-24T03:13:58.370Z"
    }
   },
   "outputs": [
    {
     "name": "stdout",
     "output_type": "stream",
     "text": [
      "Non-fraud sampled shuffled: 492\n",
      "Samples of new balanced dataset: 984\n"
     ]
    },
    {
     "data": {
      "text/html": [
       "<div>\n",
       "<style scoped>\n",
       "    .dataframe tbody tr th:only-of-type {\n",
       "        vertical-align: middle;\n",
       "    }\n",
       "\n",
       "    .dataframe tbody tr th {\n",
       "        vertical-align: top;\n",
       "    }\n",
       "\n",
       "    .dataframe thead th {\n",
       "        text-align: right;\n",
       "    }\n",
       "</style>\n",
       "<table border=\"1\" class=\"dataframe\">\n",
       "  <thead>\n",
       "    <tr style=\"text-align: right;\">\n",
       "      <th></th>\n",
       "      <th>V1</th>\n",
       "      <th>V2</th>\n",
       "      <th>V3</th>\n",
       "      <th>V4</th>\n",
       "      <th>V5</th>\n",
       "      <th>V6</th>\n",
       "      <th>V7</th>\n",
       "      <th>V8</th>\n",
       "      <th>V9</th>\n",
       "      <th>V10</th>\n",
       "      <th>...</th>\n",
       "      <th>V21</th>\n",
       "      <th>V22</th>\n",
       "      <th>V23</th>\n",
       "      <th>V24</th>\n",
       "      <th>V25</th>\n",
       "      <th>V26</th>\n",
       "      <th>V27</th>\n",
       "      <th>V28</th>\n",
       "      <th>Amount</th>\n",
       "      <th>Class</th>\n",
       "    </tr>\n",
       "  </thead>\n",
       "  <tbody>\n",
       "    <tr>\n",
       "      <th>125017</th>\n",
       "      <td>-0.997933</td>\n",
       "      <td>0.755058</td>\n",
       "      <td>0.688574</td>\n",
       "      <td>-0.101509</td>\n",
       "      <td>-0.179937</td>\n",
       "      <td>0.288743</td>\n",
       "      <td>0.287447</td>\n",
       "      <td>0.711862</td>\n",
       "      <td>-0.589341</td>\n",
       "      <td>-0.452708</td>\n",
       "      <td>...</td>\n",
       "      <td>0.265138</td>\n",
       "      <td>0.507578</td>\n",
       "      <td>0.007597</td>\n",
       "      <td>-0.310832</td>\n",
       "      <td>-0.572086</td>\n",
       "      <td>0.329265</td>\n",
       "      <td>-0.117124</td>\n",
       "      <td>0.035156</td>\n",
       "      <td>-0.073403</td>\n",
       "      <td>0</td>\n",
       "    </tr>\n",
       "    <tr>\n",
       "      <th>106582</th>\n",
       "      <td>1.106808</td>\n",
       "      <td>-0.583363</td>\n",
       "      <td>0.912944</td>\n",
       "      <td>0.731449</td>\n",
       "      <td>-1.416284</td>\n",
       "      <td>-0.746057</td>\n",
       "      <td>-0.519828</td>\n",
       "      <td>-0.128270</td>\n",
       "      <td>-0.808135</td>\n",
       "      <td>0.803902</td>\n",
       "      <td>...</td>\n",
       "      <td>-0.153093</td>\n",
       "      <td>-0.144324</td>\n",
       "      <td>-0.040279</td>\n",
       "      <td>0.671617</td>\n",
       "      <td>0.333189</td>\n",
       "      <td>-0.308583</td>\n",
       "      <td>0.050042</td>\n",
       "      <td>0.055805</td>\n",
       "      <td>0.050577</td>\n",
       "      <td>0</td>\n",
       "    </tr>\n",
       "    <tr>\n",
       "      <th>66516</th>\n",
       "      <td>-1.620530</td>\n",
       "      <td>-0.405372</td>\n",
       "      <td>1.370338</td>\n",
       "      <td>-1.930120</td>\n",
       "      <td>-0.128934</td>\n",
       "      <td>0.165592</td>\n",
       "      <td>-0.732050</td>\n",
       "      <td>0.829040</td>\n",
       "      <td>-1.406868</td>\n",
       "      <td>-0.076679</td>\n",
       "      <td>...</td>\n",
       "      <td>0.450239</td>\n",
       "      <td>0.799073</td>\n",
       "      <td>-0.305298</td>\n",
       "      <td>-0.847410</td>\n",
       "      <td>0.565612</td>\n",
       "      <td>-0.109398</td>\n",
       "      <td>0.165940</td>\n",
       "      <td>-0.065490</td>\n",
       "      <td>-0.125338</td>\n",
       "      <td>0</td>\n",
       "    </tr>\n",
       "    <tr>\n",
       "      <th>226043</th>\n",
       "      <td>2.111195</td>\n",
       "      <td>-0.650561</td>\n",
       "      <td>-1.174214</td>\n",
       "      <td>-0.744249</td>\n",
       "      <td>-0.572575</td>\n",
       "      <td>-0.549803</td>\n",
       "      <td>-0.903641</td>\n",
       "      <td>-0.070837</td>\n",
       "      <td>-0.341941</td>\n",
       "      <td>0.216429</td>\n",
       "      <td>...</td>\n",
       "      <td>0.282365</td>\n",
       "      <td>0.917563</td>\n",
       "      <td>0.024282</td>\n",
       "      <td>-0.473038</td>\n",
       "      <td>-0.091915</td>\n",
       "      <td>-0.087716</td>\n",
       "      <td>0.030992</td>\n",
       "      <td>-0.021848</td>\n",
       "      <td>-0.253317</td>\n",
       "      <td>0</td>\n",
       "    </tr>\n",
       "    <tr>\n",
       "      <th>209788</th>\n",
       "      <td>-0.738225</td>\n",
       "      <td>-1.295854</td>\n",
       "      <td>0.952433</td>\n",
       "      <td>-1.533297</td>\n",
       "      <td>-1.237032</td>\n",
       "      <td>-0.222829</td>\n",
       "      <td>1.413607</td>\n",
       "      <td>-0.354375</td>\n",
       "      <td>-0.601058</td>\n",
       "      <td>-0.230734</td>\n",
       "      <td>...</td>\n",
       "      <td>0.063201</td>\n",
       "      <td>-0.367555</td>\n",
       "      <td>0.962126</td>\n",
       "      <td>-0.049805</td>\n",
       "      <td>-0.669474</td>\n",
       "      <td>-0.690669</td>\n",
       "      <td>-0.122089</td>\n",
       "      <td>-0.009288</td>\n",
       "      <td>1.146972</td>\n",
       "      <td>0</td>\n",
       "    </tr>\n",
       "  </tbody>\n",
       "</table>\n",
       "<p>5 rows × 30 columns</p>\n",
       "</div>"
      ],
      "text/plain": [
       "              V1        V2        V3        V4        V5        V6        V7  \\\n",
       "125017 -0.997933  0.755058  0.688574 -0.101509 -0.179937  0.288743  0.287447   \n",
       "106582  1.106808 -0.583363  0.912944  0.731449 -1.416284 -0.746057 -0.519828   \n",
       "66516  -1.620530 -0.405372  1.370338 -1.930120 -0.128934  0.165592 -0.732050   \n",
       "226043  2.111195 -0.650561 -1.174214 -0.744249 -0.572575 -0.549803 -0.903641   \n",
       "209788 -0.738225 -1.295854  0.952433 -1.533297 -1.237032 -0.222829  1.413607   \n",
       "\n",
       "              V8        V9       V10  ...         V21       V22       V23  \\\n",
       "125017  0.711862 -0.589341 -0.452708  ...    0.265138  0.507578  0.007597   \n",
       "106582 -0.128270 -0.808135  0.803902  ...   -0.153093 -0.144324 -0.040279   \n",
       "66516   0.829040 -1.406868 -0.076679  ...    0.450239  0.799073 -0.305298   \n",
       "226043 -0.070837 -0.341941  0.216429  ...    0.282365  0.917563  0.024282   \n",
       "209788 -0.354375 -0.601058 -0.230734  ...    0.063201 -0.367555  0.962126   \n",
       "\n",
       "             V24       V25       V26       V27       V28    Amount  Class  \n",
       "125017 -0.310832 -0.572086  0.329265 -0.117124  0.035156 -0.073403      0  \n",
       "106582  0.671617  0.333189 -0.308583  0.050042  0.055805  0.050577      0  \n",
       "66516  -0.847410  0.565612 -0.109398  0.165940 -0.065490 -0.125338      0  \n",
       "226043 -0.473038 -0.091915 -0.087716  0.030992 -0.021848 -0.253317      0  \n",
       "209788 -0.049805 -0.669474 -0.690669 -0.122089 -0.009288  1.146972      0  \n",
       "\n",
       "[5 rows x 30 columns]"
      ]
     },
     "execution_count": 28,
     "metadata": {},
     "output_type": "execute_result"
    }
   ],
   "source": [
    "# Balancing dataset\n",
    "shuffle_index = np.random.choice(non_fraud_transactions.index, total_fraud, replace=False)\n",
    "print(f'Non-fraud sampled shuffled: {len(shuffle_index)}')\n",
    "\n",
    "# Creating new dataframe\n",
    "undersampled_index = np.concatenate([shuffle_index, fraud_transactions.index])\n",
    "df_undersampled = df.iloc[undersampled_index, :]\n",
    "print(f'Samples of new balanced dataset: {len(undersampled_index)}')\n",
    "\n",
    "# Header\n",
    "df_undersampled.head()"
   ]
  },
  {
   "cell_type": "code",
   "execution_count": null,
   "metadata": {
    "ExecuteTime": {
     "start_time": "2019-05-24T03:13:58.379Z"
    }
   },
   "outputs": [
    {
     "data": {
      "text/plain": [
       "1    492\n",
       "0    492\n",
       "Name: Class, dtype: int64"
      ]
     },
     "execution_count": 29,
     "metadata": {},
     "output_type": "execute_result"
    }
   ],
   "source": [
    "# Looking for balance\n",
    "df_undersampled['Class'].value_counts()"
   ]
  },
  {
   "cell_type": "code",
   "execution_count": null,
   "metadata": {
    "ExecuteTime": {
     "start_time": "2019-05-24T03:13:58.386Z"
    }
   },
   "outputs": [
    {
     "data": {
      "image/png": "[encoded data removed]",
      "text/plain": [
       "<Figure size 432x288 with 1 Axes>"
      ]
     },
     "metadata": {},
     "output_type": "display_data"
    }
   ],
   "source": [
    "# Before undersampling\n",
    "count_class(df, 'Balance of Original Dataset')"
   ]
  },
  {
   "cell_type": "code",
   "execution_count": null,
   "metadata": {
    "ExecuteTime": {
     "start_time": "2019-05-24T03:13:58.393Z"
    }
   },
   "outputs": [
    {
     "data": {
      "image/png": "[encoded data removed]",
      "text/plain": [
       "<Figure size 432x288 with 1 Axes>"
      ]
     },
     "metadata": {},
     "output_type": "display_data"
    }
   ],
   "source": [
    "# After undersampling\n",
    "count_class(df_undersampled, 'Balance of Dataset (Undersampled)')"
   ]
  },
  {
   "cell_type": "markdown",
   "metadata": {},
   "source": [
    "Good! Now we can:\n",
    "* Split the data in undersampled **train** and **test** sets;\n",
    "* Come up with 6 different **classifiers** to compare performance;\n",
    "* Evaluate **metrics** mentioned above;\n",
    "* Evaluate on **undersampled training** set;\n",
    "* Evaluate on **undersampled test** set;\n",
    "* Evaluate on **original test** set;\n",
    "* Choose the **best model** to go deeper;\n",
    "* Compare between **normal** and **undersampled** training."
   ]
  },
  {
   "cell_type": "markdown",
   "metadata": {},
   "source": [
    "### Splitting Undersampled Data"
   ]
  },
  {
   "cell_type": "code",
   "execution_count": null,
   "metadata": {
    "ExecuteTime": {
     "start_time": "2019-05-24T03:13:58.402Z"
    }
   },
   "outputs": [
    {
     "name": "stdout",
     "output_type": "stream",
     "text": [
      "- - - Train set - - -\n",
      "X_train_under dimension: (787, 29)\n",
      "y_train_under dimension: (787,)\n",
      "\n",
      "- - - Test set - - -\n",
      "X_test_under dimension: (197, 29)\n",
      "y_test_under dimension: (197,)\n"
     ]
    }
   ],
   "source": [
    "# Splitting data\n",
    "X_under = df_undersampled.iloc[:, :-1]\n",
    "y_under = df_undersampled['Class']\n",
    "X_train_under, X_test_under, y_train_under, y_test_under = train_test_split(X_under, y_under,\n",
    "                                                                           test_size=.2)\n",
    "\n",
    "# Taking a look\n",
    "print(f'- - - Train set - - -')\n",
    "print(f'X_train_under dimension: {X_train_under.shape}')\n",
    "print(f'y_train_under dimension: {y_train_under.shape}')\n",
    "print(f'\\n- - - Test set - - -')\n",
    "print(f'X_test_under dimension: {X_test_under.shape}')\n",
    "print(f'y_test_under dimension: {y_test_under.shape}')"
   ]
  },
  {
   "cell_type": "code",
   "execution_count": null,
   "metadata": {
    "ExecuteTime": {
     "start_time": "2019-05-24T03:13:58.412Z"
    }
   },
   "outputs": [
    {
     "name": "stdout",
     "output_type": "stream",
     "text": [
      "Fraud percentage in undersampled train set: 49.4282%\n",
      "Fraud percentage in undersampled train set: 52.2843%\n"
     ]
    }
   ],
   "source": [
    "# Verificando balanceamento de classes treino\n",
    "positive_under_train = sum(y_train_under == 1)\n",
    "balance_under_train = positive_under_train / len(y_train_under)\n",
    "print(f'Fraud percentage in undersampled train set: {100*balance_under_train:.4f}%')\n",
    "\n",
    "# Verificando balanceamento de classes teste\n",
    "positive_under_test = sum(y_test_under == 1)\n",
    "balance_under_test = positive_under_test / len(y_test_under)\n",
    "print(f'Fraud percentage in undersampled train set: {100*balance_under_test:.4f}%')"
   ]
  },
  {
   "cell_type": "markdown",
   "metadata": {},
   "source": [
    "Good balance."
   ]
  },
  {
   "cell_type": "markdown",
   "metadata": {},
   "source": [
    "### Training Models"
   ]
  },
  {
   "cell_type": "markdown",
   "metadata": {},
   "source": [
    "Let's come up with 6 different classifiers:\n",
    "    * Logistic Regression;\n",
    "    * Decision Trees Classifier;\n",
    "    * Random Forest Classifier;\n",
    "    * SVC Classifier;\n",
    "    * KNN Classifier;\n",
    "    * MLP Classifier"
   ]
  },
  {
   "cell_type": "code",
   "execution_count": null,
   "metadata": {
    "ExecuteTime": {
     "start_time": "2019-05-24T03:13:58.423Z"
    }
   },
   "outputs": [],
   "source": [
    "# Classifiers dictionary\n",
    "classifiers = {\n",
    "    'log_reg': LogisticRegression(),\n",
    "    'tree_clf': DecisionTreeClassifier(),\n",
    "    'forest_clf': RandomForestClassifier(),\n",
    "    'svm_clf': SVC(),\n",
    "    'knn_clf': KNeighborsClassifier(),\n",
    "    'mlp_clf': MLPClassifier()\n",
    "}"
   ]
  },
  {
   "cell_type": "code",
   "execution_count": null,
   "metadata": {
    "ExecuteTime": {
     "start_time": "2019-05-24T03:13:58.431Z"
    }
   },
   "outputs": [],
   "source": [
    "# Training on undersampled data\n",
    "fitted_models = fit_models(classifiers, X_train_under, y_train_under)"
   ]
  },
  {
   "cell_type": "markdown",
   "metadata": {},
   "source": [
    "### Evaluation"
   ]
  },
  {
   "cell_type": "markdown",
   "metadata": {},
   "source": [
    "#### Undersampled Training Set"
   ]
  },
  {
   "cell_type": "code",
   "execution_count": null,
   "metadata": {
    "ExecuteTime": {
     "start_time": "2019-05-24T03:13:58.446Z"
    }
   },
   "outputs": [
    {
     "data": {
      "text/html": [
       "<style  type=\"text/css\" >\n",
       "    #T_24d57134_7dd2_11e9_bc39_d46a6af96bb4row0_col0 {\n",
       "            background-color:  #259425;\n",
       "        }    #T_24d57134_7dd2_11e9_bc39_d46a6af96bb4row0_col1 {\n",
       "            background-color:  #1f911f;\n",
       "        }    #T_24d57134_7dd2_11e9_bc39_d46a6af96bb4row0_col2 {\n",
       "            background-color:  #4caa4c;\n",
       "        }    #T_24d57134_7dd2_11e9_bc39_d46a6af96bb4row0_col3 {\n",
       "            background-color:  #008000;\n",
       "        }    #T_24d57134_7dd2_11e9_bc39_d46a6af96bb4row0_col4 {\n",
       "            background-color:  #048204;\n",
       "        }    #T_24d57134_7dd2_11e9_bc39_d46a6af96bb4row0_col5 {\n",
       "            background-color:  #e5ffe5;\n",
       "        }    #T_24d57134_7dd2_11e9_bc39_d46a6af96bb4row1_col0 {\n",
       "            background-color:  #e5ffe5;\n",
       "        }    #T_24d57134_7dd2_11e9_bc39_d46a6af96bb4row1_col1 {\n",
       "            background-color:  #e5ffe5;\n",
       "        }    #T_24d57134_7dd2_11e9_bc39_d46a6af96bb4row1_col2 {\n",
       "            background-color:  #008000;\n",
       "        }    #T_24d57134_7dd2_11e9_bc39_d46a6af96bb4row1_col3 {\n",
       "            background-color:  #e5ffe5;\n",
       "        }    #T_24d57134_7dd2_11e9_bc39_d46a6af96bb4row1_col4 {\n",
       "            background-color:  #e5ffe5;\n",
       "        }    #T_24d57134_7dd2_11e9_bc39_d46a6af96bb4row1_col5 {\n",
       "            background-color:  #e4fee4;\n",
       "        }    #T_24d57134_7dd2_11e9_bc39_d46a6af96bb4row2_col0 {\n",
       "            background-color:  #43a543;\n",
       "        }    #T_24d57134_7dd2_11e9_bc39_d46a6af96bb4row2_col1 {\n",
       "            background-color:  #088408;\n",
       "        }    #T_24d57134_7dd2_11e9_bc39_d46a6af96bb4row2_col2 {\n",
       "            background-color:  #198e19;\n",
       "        }    #T_24d57134_7dd2_11e9_bc39_d46a6af96bb4row2_col3 {\n",
       "            background-color:  #158b15;\n",
       "        }    #T_24d57134_7dd2_11e9_bc39_d46a6af96bb4row2_col4 {\n",
       "            background-color:  #0c860c;\n",
       "        }    #T_24d57134_7dd2_11e9_bc39_d46a6af96bb4row2_col5 {\n",
       "            background-color:  #dffcdf;\n",
       "        }    #T_24d57134_7dd2_11e9_bc39_d46a6af96bb4row3_col0 {\n",
       "            background-color:  #77c277;\n",
       "        }    #T_24d57134_7dd2_11e9_bc39_d46a6af96bb4row3_col1 {\n",
       "            background-color:  #79c379;\n",
       "        }    #T_24d57134_7dd2_11e9_bc39_d46a6af96bb4row3_col2 {\n",
       "            background-color:  #329c32;\n",
       "        }    #T_24d57134_7dd2_11e9_bc39_d46a6af96bb4row3_col3 {\n",
       "            background-color:  #62b662;\n",
       "        }    #T_24d57134_7dd2_11e9_bc39_d46a6af96bb4row3_col4 {\n",
       "            background-color:  #018001;\n",
       "        }    #T_24d57134_7dd2_11e9_bc39_d46a6af96bb4row3_col5 {\n",
       "            background-color:  #e2fde2;\n",
       "        }    #T_24d57134_7dd2_11e9_bc39_d46a6af96bb4row4_col0 {\n",
       "            background-color:  #349d34;\n",
       "        }    #T_24d57134_7dd2_11e9_bc39_d46a6af96bb4row4_col1 {\n",
       "            background-color:  #008000;\n",
       "        }    #T_24d57134_7dd2_11e9_bc39_d46a6af96bb4row4_col2 {\n",
       "            background-color:  #e5ffe5;\n",
       "        }    #T_24d57134_7dd2_11e9_bc39_d46a6af96bb4row4_col3 {\n",
       "            background-color:  #1a8e1a;\n",
       "        }    #T_24d57134_7dd2_11e9_bc39_d46a6af96bb4row4_col4 {\n",
       "            background-color:  #178d17;\n",
       "        }    #T_24d57134_7dd2_11e9_bc39_d46a6af96bb4row4_col5 {\n",
       "            background-color:  #e4fee4;\n",
       "        }    #T_24d57134_7dd2_11e9_bc39_d46a6af96bb4row5_col0 {\n",
       "            background-color:  #008000;\n",
       "        }    #T_24d57134_7dd2_11e9_bc39_d46a6af96bb4row5_col1 {\n",
       "            background-color:  #259425;\n",
       "        }    #T_24d57134_7dd2_11e9_bc39_d46a6af96bb4row5_col2 {\n",
       "            background-color:  #198e19;\n",
       "        }    #T_24d57134_7dd2_11e9_bc39_d46a6af96bb4row5_col3 {\n",
       "            background-color:  #078407;\n",
       "        }    #T_24d57134_7dd2_11e9_bc39_d46a6af96bb4row5_col4 {\n",
       "            background-color:  #008000;\n",
       "        }    #T_24d57134_7dd2_11e9_bc39_d46a6af96bb4row5_col5 {\n",
       "            background-color:  #008000;\n",
       "        }</style>  \n",
       "<table id=\"T_24d57134_7dd2_11e9_bc39_d46a6af96bb4\" > \n",
       "<thead>    <tr> \n",
       "        <th class=\"blank level0\" ></th> \n",
       "        <th class=\"col_heading level0 col0\" >acc</th> \n",
       "        <th class=\"col_heading level0 col1\" >prec</th> \n",
       "        <th class=\"col_heading level0 col2\" >rec</th> \n",
       "        <th class=\"col_heading level0 col3\" >f1</th> \n",
       "        <th class=\"col_heading level0 col4\" >auc</th> \n",
       "        <th class=\"col_heading level0 col5\" >total_time</th> \n",
       "    </tr></thead> \n",
       "<tbody>    <tr> \n",
       "        <th id=\"T_24d57134_7dd2_11e9_bc39_d46a6af96bb4level0_row0\" class=\"row_heading level0 row0\" >log_reg</th> \n",
       "        <td id=\"T_24d57134_7dd2_11e9_bc39_d46a6af96bb4row0_col0\" class=\"data row0 col0\" >0.9352</td> \n",
       "        <td id=\"T_24d57134_7dd2_11e9_bc39_d46a6af96bb4row0_col1\" class=\"data row0 col1\" >0.9617</td> \n",
       "        <td id=\"T_24d57134_7dd2_11e9_bc39_d46a6af96bb4row0_col2\" class=\"data row0 col2\" >0.9049</td> \n",
       "        <td id=\"T_24d57134_7dd2_11e9_bc39_d46a6af96bb4row0_col3\" class=\"data row0 col3\" >0.9323</td> \n",
       "        <td id=\"T_24d57134_7dd2_11e9_bc39_d46a6af96bb4row0_col4\" class=\"data row0 col4\" >0.9739</td> \n",
       "        <td id=\"T_24d57134_7dd2_11e9_bc39_d46a6af96bb4row0_col5\" class=\"data row0 col5\" >0.277</td> \n",
       "    </tr>    <tr> \n",
       "        <th id=\"T_24d57134_7dd2_11e9_bc39_d46a6af96bb4level0_row1\" class=\"row_heading level0 row1\" >tree_clf</th> \n",
       "        <td id=\"T_24d57134_7dd2_11e9_bc39_d46a6af96bb4row1_col0\" class=\"data row1 col0\" >0.9021</td> \n",
       "        <td id=\"T_24d57134_7dd2_11e9_bc39_d46a6af96bb4row1_col1\" class=\"data row1 col1\" >0.8962</td> \n",
       "        <td id=\"T_24d57134_7dd2_11e9_bc39_d46a6af96bb4row1_col2\" class=\"data row1 col2\" >0.9126</td> \n",
       "        <td id=\"T_24d57134_7dd2_11e9_bc39_d46a6af96bb4row1_col3\" class=\"data row1 col3\" >0.9024</td> \n",
       "        <td id=\"T_24d57134_7dd2_11e9_bc39_d46a6af96bb4row1_col4\" class=\"data row1 col4\" >0.9111</td> \n",
       "        <td id=\"T_24d57134_7dd2_11e9_bc39_d46a6af96bb4row1_col5\" class=\"data row1 col5\" >0.536</td> \n",
       "    </tr>    <tr> \n",
       "        <th id=\"T_24d57134_7dd2_11e9_bc39_d46a6af96bb4level0_row2\" class=\"row_heading level0 row2\" >forest_clf</th> \n",
       "        <td id=\"T_24d57134_7dd2_11e9_bc39_d46a6af96bb4row2_col0\" class=\"data row2 col0\" >0.9301</td> \n",
       "        <td id=\"T_24d57134_7dd2_11e9_bc39_d46a6af96bb4row2_col1\" class=\"data row2 col1\" >0.9695</td> \n",
       "        <td id=\"T_24d57134_7dd2_11e9_bc39_d46a6af96bb4row2_col2\" class=\"data row2 col2\" >0.91</td> \n",
       "        <td id=\"T_24d57134_7dd2_11e9_bc39_d46a6af96bb4row2_col3\" class=\"data row2 col3\" >0.9295</td> \n",
       "        <td id=\"T_24d57134_7dd2_11e9_bc39_d46a6af96bb4row2_col4\" class=\"data row2 col4\" >0.9715</td> \n",
       "        <td id=\"T_24d57134_7dd2_11e9_bc39_d46a6af96bb4row2_col5\" class=\"data row2 col5\" >1.012</td> \n",
       "    </tr>    <tr> \n",
       "        <th id=\"T_24d57134_7dd2_11e9_bc39_d46a6af96bb4level0_row3\" class=\"row_heading level0 row3\" >svm_clf</th> \n",
       "        <td id=\"T_24d57134_7dd2_11e9_bc39_d46a6af96bb4row3_col0\" class=\"data row3 col0\" >0.9212</td> \n",
       "        <td id=\"T_24d57134_7dd2_11e9_bc39_d46a6af96bb4row3_col1\" class=\"data row3 col1\" >0.9324</td> \n",
       "        <td id=\"T_24d57134_7dd2_11e9_bc39_d46a6af96bb4row3_col2\" class=\"data row3 col2\" >0.9075</td> \n",
       "        <td id=\"T_24d57134_7dd2_11e9_bc39_d46a6af96bb4row3_col3\" class=\"data row3 col3\" >0.9195</td> \n",
       "        <td id=\"T_24d57134_7dd2_11e9_bc39_d46a6af96bb4row3_col4\" class=\"data row3 col4\" >0.9746</td> \n",
       "        <td id=\"T_24d57134_7dd2_11e9_bc39_d46a6af96bb4row3_col5\" class=\"data row3 col5\" >0.783</td> \n",
       "    </tr>    <tr> \n",
       "        <th id=\"T_24d57134_7dd2_11e9_bc39_d46a6af96bb4level0_row4\" class=\"row_heading level0 row4\" >knn_clf</th> \n",
       "        <td id=\"T_24d57134_7dd2_11e9_bc39_d46a6af96bb4row4_col0\" class=\"data row4 col0\" >0.9326</td> \n",
       "        <td id=\"T_24d57134_7dd2_11e9_bc39_d46a6af96bb4row4_col1\" class=\"data row4 col1\" >0.9722</td> \n",
       "        <td id=\"T_24d57134_7dd2_11e9_bc39_d46a6af96bb4row4_col2\" class=\"data row4 col2\" >0.8894</td> \n",
       "        <td id=\"T_24d57134_7dd2_11e9_bc39_d46a6af96bb4row4_col3\" class=\"data row4 col3\" >0.9288</td> \n",
       "        <td id=\"T_24d57134_7dd2_11e9_bc39_d46a6af96bb4row4_col4\" class=\"data row4 col4\" >0.9684</td> \n",
       "        <td id=\"T_24d57134_7dd2_11e9_bc39_d46a6af96bb4row4_col5\" class=\"data row4 col5\" >0.502</td> \n",
       "    </tr>    <tr> \n",
       "        <th id=\"T_24d57134_7dd2_11e9_bc39_d46a6af96bb4level0_row5\" class=\"row_heading level0 row5\" >mlp_clf</th> \n",
       "        <td id=\"T_24d57134_7dd2_11e9_bc39_d46a6af96bb4row5_col0\" class=\"data row5 col0\" >0.9416</td> \n",
       "        <td id=\"T_24d57134_7dd2_11e9_bc39_d46a6af96bb4row5_col1\" class=\"data row5 col1\" >0.9598</td> \n",
       "        <td id=\"T_24d57134_7dd2_11e9_bc39_d46a6af96bb4row5_col2\" class=\"data row5 col2\" >0.91</td> \n",
       "        <td id=\"T_24d57134_7dd2_11e9_bc39_d46a6af96bb4row5_col3\" class=\"data row5 col3\" >0.9313</td> \n",
       "        <td id=\"T_24d57134_7dd2_11e9_bc39_d46a6af96bb4row5_col4\" class=\"data row5 col4\" >0.9749</td> \n",
       "        <td id=\"T_24d57134_7dd2_11e9_bc39_d46a6af96bb4row5_col5\" class=\"data row5 col5\" >26.848</td> \n",
       "    </tr></tbody> \n",
       "</table> "
      ],
      "text/plain": [
       "<pandas.io.formats.style.Styler at 0x1b702fa8390>"
      ]
     },
     "execution_count": 36,
     "metadata": {},
     "output_type": "execute_result"
    }
   ],
   "source": [
    "# Creating dataframe to hold metrics\n",
    "train_performance_under = create_dataset()\n",
    "\n",
    "# Evaluating models\n",
    "train_performance_under = model_analysis(fitted_models, X_train_under, y_train_under, \n",
    "                                         train_performance_under)\n",
    "\n",
    "# Result\n",
    "cm = sns.light_palette(\"green\", as_cmap=True)\n",
    "train_performance_under.style.background_gradient(cmap=cm)"
   ]
  },
  {
   "cell_type": "code",
   "execution_count": null,
   "metadata": {
    "ExecuteTime": {
     "start_time": "2019-05-24T03:13:58.453Z"
    }
   },
   "outputs": [
    {
     "data": {
      "image/png": "[encoded data removed]",
      "text/plain": [
       "<Figure size 792x792 with 12 Axes>"
      ]
     },
     "metadata": {},
     "output_type": "display_data"
    }
   ],
   "source": [
    "# Confusion Matrix for each model\n",
    "model_confusion_matrix(fitted_models, X_train_under, y_train_under)"
   ]
  },
  {
   "cell_type": "markdown",
   "metadata": {},
   "source": [
    "Here we analysed the models with the same subset we trained them (X_train_under) and so we can get some intuition:\n",
    "* Decision Trees, Random Forest and MLP Classifier really overfits the data;\n",
    "* MLP Classifier is our slowest model;\n",
    "* Logistic Regression is the fastest;\n",
    "* The best recall score was from Decision Trees, but as we saw, this is the training data.\n",
    "\n",
    "Let's evaluate the models in the test set undersampled."
   ]
  },
  {
   "cell_type": "markdown",
   "metadata": {},
   "source": [
    "#### Undersampled Test Set"
   ]
  },
  {
   "cell_type": "code",
   "execution_count": null,
   "metadata": {
    "ExecuteTime": {
     "start_time": "2019-05-24T03:13:58.463Z"
    }
   },
   "outputs": [
    {
     "data": {
      "text/html": [
       "<style  type=\"text/css\" >\n",
       "    #T_2742039a_7dd2_11e9_86b2_d46a6af96bb4row0_col0 {\n",
       "            background-color:  #68ba68;\n",
       "        }    #T_2742039a_7dd2_11e9_86b2_d46a6af96bb4row0_col1 {\n",
       "            background-color:  #008000;\n",
       "        }    #T_2742039a_7dd2_11e9_86b2_d46a6af96bb4row0_col2 {\n",
       "            background-color:  #e5ffe5;\n",
       "        }    #T_2742039a_7dd2_11e9_86b2_d46a6af96bb4row0_col3 {\n",
       "            background-color:  #74c074;\n",
       "        }    #T_2742039a_7dd2_11e9_86b2_d46a6af96bb4row0_col4 {\n",
       "            background-color:  #048204;\n",
       "        }    #T_2742039a_7dd2_11e9_86b2_d46a6af96bb4row0_col5 {\n",
       "            background-color:  #e5ffe5;\n",
       "        }    #T_2742039a_7dd2_11e9_86b2_d46a6af96bb4row1_col0 {\n",
       "            background-color:  #e5ffe5;\n",
       "        }    #T_2742039a_7dd2_11e9_86b2_d46a6af96bb4row1_col1 {\n",
       "            background-color:  #e5ffe5;\n",
       "        }    #T_2742039a_7dd2_11e9_86b2_d46a6af96bb4row1_col2 {\n",
       "            background-color:  #8acc8a;\n",
       "        }    #T_2742039a_7dd2_11e9_86b2_d46a6af96bb4row1_col3 {\n",
       "            background-color:  #e5ffe5;\n",
       "        }    #T_2742039a_7dd2_11e9_86b2_d46a6af96bb4row1_col4 {\n",
       "            background-color:  #e5ffe5;\n",
       "        }    #T_2742039a_7dd2_11e9_86b2_d46a6af96bb4row1_col5 {\n",
       "            background-color:  #e4fee4;\n",
       "        }    #T_2742039a_7dd2_11e9_86b2_d46a6af96bb4row2_col0 {\n",
       "            background-color:  #3ea23e;\n",
       "        }    #T_2742039a_7dd2_11e9_86b2_d46a6af96bb4row2_col1 {\n",
       "            background-color:  #008000;\n",
       "        }    #T_2742039a_7dd2_11e9_86b2_d46a6af96bb4row2_col2 {\n",
       "            background-color:  #8acc8a;\n",
       "        }    #T_2742039a_7dd2_11e9_86b2_d46a6af96bb4row2_col3 {\n",
       "            background-color:  #44a644;\n",
       "        }    #T_2742039a_7dd2_11e9_86b2_d46a6af96bb4row2_col4 {\n",
       "            background-color:  #319b31;\n",
       "        }    #T_2742039a_7dd2_11e9_86b2_d46a6af96bb4row2_col5 {\n",
       "            background-color:  #dbf9db;\n",
       "        }    #T_2742039a_7dd2_11e9_86b2_d46a6af96bb4row3_col0 {\n",
       "            background-color:  #008000;\n",
       "        }    #T_2742039a_7dd2_11e9_86b2_d46a6af96bb4row3_col1 {\n",
       "            background-color:  #008000;\n",
       "        }    #T_2742039a_7dd2_11e9_86b2_d46a6af96bb4row3_col2 {\n",
       "            background-color:  #008000;\n",
       "        }    #T_2742039a_7dd2_11e9_86b2_d46a6af96bb4row3_col3 {\n",
       "            background-color:  #008000;\n",
       "        }    #T_2742039a_7dd2_11e9_86b2_d46a6af96bb4row3_col4 {\n",
       "            background-color:  #1b8f1b;\n",
       "        }    #T_2742039a_7dd2_11e9_86b2_d46a6af96bb4row3_col5 {\n",
       "            background-color:  #e5ffe5;\n",
       "        }    #T_2742039a_7dd2_11e9_86b2_d46a6af96bb4row4_col0 {\n",
       "            background-color:  #54ae54;\n",
       "        }    #T_2742039a_7dd2_11e9_86b2_d46a6af96bb4row4_col1 {\n",
       "            background-color:  #008000;\n",
       "        }    #T_2742039a_7dd2_11e9_86b2_d46a6af96bb4row4_col2 {\n",
       "            background-color:  #b8e6b8;\n",
       "        }    #T_2742039a_7dd2_11e9_86b2_d46a6af96bb4row4_col3 {\n",
       "            background-color:  #5db35d;\n",
       "        }    #T_2742039a_7dd2_11e9_86b2_d46a6af96bb4row4_col4 {\n",
       "            background-color:  #239323;\n",
       "        }    #T_2742039a_7dd2_11e9_86b2_d46a6af96bb4row4_col5 {\n",
       "            background-color:  #e5ffe5;\n",
       "        }    #T_2742039a_7dd2_11e9_86b2_d46a6af96bb4row5_col0 {\n",
       "            background-color:  #299729;\n",
       "        }    #T_2742039a_7dd2_11e9_86b2_d46a6af96bb4row5_col1 {\n",
       "            background-color:  #008000;\n",
       "        }    #T_2742039a_7dd2_11e9_86b2_d46a6af96bb4row5_col2 {\n",
       "            background-color:  #5cb35c;\n",
       "        }    #T_2742039a_7dd2_11e9_86b2_d46a6af96bb4row5_col3 {\n",
       "            background-color:  #2e992e;\n",
       "        }    #T_2742039a_7dd2_11e9_86b2_d46a6af96bb4row5_col4 {\n",
       "            background-color:  #008000;\n",
       "        }    #T_2742039a_7dd2_11e9_86b2_d46a6af96bb4row5_col5 {\n",
       "            background-color:  #008000;\n",
       "        }</style>  \n",
       "<table id=\"T_2742039a_7dd2_11e9_86b2_d46a6af96bb4\" > \n",
       "<thead>    <tr> \n",
       "        <th class=\"blank level0\" ></th> \n",
       "        <th class=\"col_heading level0 col0\" >acc</th> \n",
       "        <th class=\"col_heading level0 col1\" >prec</th> \n",
       "        <th class=\"col_heading level0 col2\" >rec</th> \n",
       "        <th class=\"col_heading level0 col3\" >f1</th> \n",
       "        <th class=\"col_heading level0 col4\" >auc</th> \n",
       "        <th class=\"col_heading level0 col5\" >total_time</th> \n",
       "    </tr></thead> \n",
       "<tbody>    <tr> \n",
       "        <th id=\"T_2742039a_7dd2_11e9_86b2_d46a6af96bb4level0_row0\" class=\"row_heading level0 row0\" >log_reg</th> \n",
       "        <td id=\"T_2742039a_7dd2_11e9_86b2_d46a6af96bb4row0_col0\" class=\"data row0 col0\" >0.934</td> \n",
       "        <td id=\"T_2742039a_7dd2_11e9_86b2_d46a6af96bb4row0_col1\" class=\"data row0 col1\" >1</td> \n",
       "        <td id=\"T_2742039a_7dd2_11e9_86b2_d46a6af96bb4row0_col2\" class=\"data row0 col2\" >0.8738</td> \n",
       "        <td id=\"T_2742039a_7dd2_11e9_86b2_d46a6af96bb4row0_col3\" class=\"data row0 col3\" >0.9326</td> \n",
       "        <td id=\"T_2742039a_7dd2_11e9_86b2_d46a6af96bb4row0_col4\" class=\"data row0 col4\" >0.983</td> \n",
       "        <td id=\"T_2742039a_7dd2_11e9_86b2_d46a6af96bb4row0_col5\" class=\"data row0 col5\" >0.037</td> \n",
       "    </tr>    <tr> \n",
       "        <th id=\"T_2742039a_7dd2_11e9_86b2_d46a6af96bb4level0_row1\" class=\"row_heading level0 row1\" >tree_clf</th> \n",
       "        <td id=\"T_2742039a_7dd2_11e9_86b2_d46a6af96bb4row1_col0\" class=\"data row1 col0\" >0.9036</td> \n",
       "        <td id=\"T_2742039a_7dd2_11e9_86b2_d46a6af96bb4row1_col1\" class=\"data row1 col1\" >0.92</td> \n",
       "        <td id=\"T_2742039a_7dd2_11e9_86b2_d46a6af96bb4row1_col2\" class=\"data row1 col2\" >0.8932</td> \n",
       "        <td id=\"T_2742039a_7dd2_11e9_86b2_d46a6af96bb4row1_col3\" class=\"data row1 col3\" >0.9064</td> \n",
       "        <td id=\"T_2742039a_7dd2_11e9_86b2_d46a6af96bb4row1_col4\" class=\"data row1 col4\" >0.8571</td> \n",
       "        <td id=\"T_2742039a_7dd2_11e9_86b2_d46a6af96bb4row1_col5\" class=\"data row1 col5\" >0.054</td> \n",
       "    </tr>    <tr> \n",
       "        <th id=\"T_2742039a_7dd2_11e9_86b2_d46a6af96bb4level0_row2\" class=\"row_heading level0 row2\" >forest_clf</th> \n",
       "        <td id=\"T_2742039a_7dd2_11e9_86b2_d46a6af96bb4row2_col0\" class=\"data row2 col0\" >0.9442</td> \n",
       "        <td id=\"T_2742039a_7dd2_11e9_86b2_d46a6af96bb4row2_col1\" class=\"data row2 col1\" >1</td> \n",
       "        <td id=\"T_2742039a_7dd2_11e9_86b2_d46a6af96bb4row2_col2\" class=\"data row2 col2\" >0.8932</td> \n",
       "        <td id=\"T_2742039a_7dd2_11e9_86b2_d46a6af96bb4row2_col3\" class=\"data row2 col3\" >0.9436</td> \n",
       "        <td id=\"T_2742039a_7dd2_11e9_86b2_d46a6af96bb4row2_col4\" class=\"data row2 col4\" >0.9578</td> \n",
       "        <td id=\"T_2742039a_7dd2_11e9_86b2_d46a6af96bb4row2_col5\" class=\"data row2 col5\" >0.126</td> \n",
       "    </tr>    <tr> \n",
       "        <th id=\"T_2742039a_7dd2_11e9_86b2_d46a6af96bb4level0_row3\" class=\"row_heading level0 row3\" >svm_clf</th> \n",
       "        <td id=\"T_2742039a_7dd2_11e9_86b2_d46a6af96bb4row3_col0\" class=\"data row3 col0\" >0.9594</td> \n",
       "        <td id=\"T_2742039a_7dd2_11e9_86b2_d46a6af96bb4row3_col1\" class=\"data row3 col1\" >1</td> \n",
       "        <td id=\"T_2742039a_7dd2_11e9_86b2_d46a6af96bb4row3_col2\" class=\"data row3 col2\" >0.9223</td> \n",
       "        <td id=\"T_2742039a_7dd2_11e9_86b2_d46a6af96bb4row3_col3\" class=\"data row3 col3\" >0.9596</td> \n",
       "        <td id=\"T_2742039a_7dd2_11e9_86b2_d46a6af96bb4row3_col4\" class=\"data row3 col4\" >0.9704</td> \n",
       "        <td id=\"T_2742039a_7dd2_11e9_86b2_d46a6af96bb4row3_col5\" class=\"data row3 col5\" >0.047</td> \n",
       "    </tr>    <tr> \n",
       "        <th id=\"T_2742039a_7dd2_11e9_86b2_d46a6af96bb4level0_row4\" class=\"row_heading level0 row4\" >knn_clf</th> \n",
       "        <td id=\"T_2742039a_7dd2_11e9_86b2_d46a6af96bb4row4_col0\" class=\"data row4 col0\" >0.9391</td> \n",
       "        <td id=\"T_2742039a_7dd2_11e9_86b2_d46a6af96bb4row4_col1\" class=\"data row4 col1\" >1</td> \n",
       "        <td id=\"T_2742039a_7dd2_11e9_86b2_d46a6af96bb4row4_col2\" class=\"data row4 col2\" >0.8835</td> \n",
       "        <td id=\"T_2742039a_7dd2_11e9_86b2_d46a6af96bb4row4_col3\" class=\"data row4 col3\" >0.9381</td> \n",
       "        <td id=\"T_2742039a_7dd2_11e9_86b2_d46a6af96bb4row4_col4\" class=\"data row4 col4\" >0.9657</td> \n",
       "        <td id=\"T_2742039a_7dd2_11e9_86b2_d46a6af96bb4row4_col5\" class=\"data row4 col5\" >0.046</td> \n",
       "    </tr>    <tr> \n",
       "        <th id=\"T_2742039a_7dd2_11e9_86b2_d46a6af96bb4level0_row5\" class=\"row_heading level0 row5\" >mlp_clf</th> \n",
       "        <td id=\"T_2742039a_7dd2_11e9_86b2_d46a6af96bb4row5_col0\" class=\"data row5 col0\" >0.9492</td> \n",
       "        <td id=\"T_2742039a_7dd2_11e9_86b2_d46a6af96bb4row5_col1\" class=\"data row5 col1\" >1</td> \n",
       "        <td id=\"T_2742039a_7dd2_11e9_86b2_d46a6af96bb4row5_col2\" class=\"data row5 col2\" >0.9029</td> \n",
       "        <td id=\"T_2742039a_7dd2_11e9_86b2_d46a6af96bb4row5_col3\" class=\"data row5 col3\" >0.949</td> \n",
       "        <td id=\"T_2742039a_7dd2_11e9_86b2_d46a6af96bb4row5_col4\" class=\"data row5 col4\" >0.9855</td> \n",
       "        <td id=\"T_2742039a_7dd2_11e9_86b2_d46a6af96bb4row5_col5\" class=\"data row5 col5\" >1.855</td> \n",
       "    </tr></tbody> \n",
       "</table> "
      ],
      "text/plain": [
       "<pandas.io.formats.style.Styler at 0x1b7043042b0>"
      ]
     },
     "execution_count": 38,
     "metadata": {},
     "output_type": "execute_result"
    }
   ],
   "source": [
    "# Creating dataframe to hold metrics\n",
    "test_performance_under = create_dataset()\n",
    "\n",
    "# Evaluating models\n",
    "test_performance_under = model_analysis(fitted_models, X_test_under, y_test_under, \n",
    "                                         test_performance_under, train=False)\n",
    "\n",
    "# Result\n",
    "cm = sns.light_palette(\"green\", as_cmap=True)\n",
    "test_performance_under.style.background_gradient(cmap=cm)"
   ]
  },
  {
   "cell_type": "code",
   "execution_count": null,
   "metadata": {
    "ExecuteTime": {
     "start_time": "2019-05-24T03:13:58.479Z"
    }
   },
   "outputs": [
    {
     "data": {
      "image/png": "[encoded data removed]",
      "text/plain": [
       "<Figure size 792x792 with 12 Axes>"
      ]
     },
     "metadata": {},
     "output_type": "display_data"
    }
   ],
   "source": [
    "# Confusion Matrix for each model\n",
    "model_confusion_matrix(fitted_models, X_test_under, y_test_under)"
   ]
  },
  {
   "cell_type": "markdown",
   "metadata": {},
   "source": [
    "Here we are close to the true analysis. The Decision Tree had the highest recall among the models, but the lowest AUC score. Let's see this on the original test set."
   ]
  },
  {
   "cell_type": "markdown",
   "metadata": {},
   "source": [
    "#### Original Test Set"
   ]
  },
  {
   "cell_type": "code",
   "execution_count": null,
   "metadata": {
    "ExecuteTime": {
     "start_time": "2019-05-24T03:13:58.498Z"
    }
   },
   "outputs": [
    {
     "data": {
      "text/html": [
       "<style  type=\"text/css\" >\n",
       "    #T_ee3f1fba_7dd2_11e9_ac72_d46a6af96bb4row0_col0 {\n",
       "            background-color:  #008000;\n",
       "        }    #T_ee3f1fba_7dd2_11e9_ac72_d46a6af96bb4row0_col1 {\n",
       "            background-color:  #008000;\n",
       "        }    #T_ee3f1fba_7dd2_11e9_ac72_d46a6af96bb4row0_col2 {\n",
       "            background-color:  #ccf1cc;\n",
       "        }    #T_ee3f1fba_7dd2_11e9_ac72_d46a6af96bb4row0_col3 {\n",
       "            background-color:  #008000;\n",
       "        }    #T_ee3f1fba_7dd2_11e9_ac72_d46a6af96bb4row0_col4 {\n",
       "            background-color:  #008000;\n",
       "        }    #T_ee3f1fba_7dd2_11e9_ac72_d46a6af96bb4row0_col5 {\n",
       "            background-color:  #e5ffe5;\n",
       "        }    #T_ee3f1fba_7dd2_11e9_ac72_d46a6af96bb4row1_col0 {\n",
       "            background-color:  #e5ffe5;\n",
       "        }    #T_ee3f1fba_7dd2_11e9_ac72_d46a6af96bb4row1_col1 {\n",
       "            background-color:  #e5ffe5;\n",
       "        }    #T_ee3f1fba_7dd2_11e9_ac72_d46a6af96bb4row1_col2 {\n",
       "            background-color:  #008000;\n",
       "        }    #T_ee3f1fba_7dd2_11e9_ac72_d46a6af96bb4row1_col3 {\n",
       "            background-color:  #e5ffe5;\n",
       "        }    #T_ee3f1fba_7dd2_11e9_ac72_d46a6af96bb4row1_col4 {\n",
       "            background-color:  #e5ffe5;\n",
       "        }    #T_ee3f1fba_7dd2_11e9_ac72_d46a6af96bb4row1_col5 {\n",
       "            background-color:  #ccf1cc;\n",
       "        }    #T_ee3f1fba_7dd2_11e9_ac72_d46a6af96bb4row2_col0 {\n",
       "            background-color:  #188d18;\n",
       "        }    #T_ee3f1fba_7dd2_11e9_ac72_d46a6af96bb4row2_col1 {\n",
       "            background-color:  #379e37;\n",
       "        }    #T_ee3f1fba_7dd2_11e9_ac72_d46a6af96bb4row2_col2 {\n",
       "            background-color:  #329c32;\n",
       "        }    #T_ee3f1fba_7dd2_11e9_ac72_d46a6af96bb4row2_col3 {\n",
       "            background-color:  #349d34;\n",
       "        }    #T_ee3f1fba_7dd2_11e9_ac72_d46a6af96bb4row2_col4 {\n",
       "            background-color:  #56b056;\n",
       "        }    #T_ee3f1fba_7dd2_11e9_ac72_d46a6af96bb4row2_col5 {\n",
       "            background-color:  #caf0ca;\n",
       "        }    #T_ee3f1fba_7dd2_11e9_ac72_d46a6af96bb4row3_col0 {\n",
       "            background-color:  #5bb25b;\n",
       "        }    #T_ee3f1fba_7dd2_11e9_ac72_d46a6af96bb4row3_col1 {\n",
       "            background-color:  #a4dba4;\n",
       "        }    #T_ee3f1fba_7dd2_11e9_ac72_d46a6af96bb4row3_col2 {\n",
       "            background-color:  #80c780;\n",
       "        }    #T_ee3f1fba_7dd2_11e9_ac72_d46a6af96bb4row3_col3 {\n",
       "            background-color:  #a1d9a1;\n",
       "        }    #T_ee3f1fba_7dd2_11e9_ac72_d46a6af96bb4row3_col4 {\n",
       "            background-color:  #1d901d;\n",
       "        }    #T_ee3f1fba_7dd2_11e9_ac72_d46a6af96bb4row3_col5 {\n",
       "            background-color:  #bfeabf;\n",
       "        }    #T_ee3f1fba_7dd2_11e9_ac72_d46a6af96bb4row4_col0 {\n",
       "            background-color:  #008000;\n",
       "        }    #T_ee3f1fba_7dd2_11e9_ac72_d46a6af96bb4row4_col1 {\n",
       "            background-color:  #058205;\n",
       "        }    #T_ee3f1fba_7dd2_11e9_ac72_d46a6af96bb4row4_col2 {\n",
       "            background-color:  #e5ffe5;\n",
       "        }    #T_ee3f1fba_7dd2_11e9_ac72_d46a6af96bb4row4_col3 {\n",
       "            background-color:  #058305;\n",
       "        }    #T_ee3f1fba_7dd2_11e9_ac72_d46a6af96bb4row4_col4 {\n",
       "            background-color:  #86ca86;\n",
       "        }    #T_ee3f1fba_7dd2_11e9_ac72_d46a6af96bb4row4_col5 {\n",
       "            background-color:  #008000;\n",
       "        }    #T_ee3f1fba_7dd2_11e9_ac72_d46a6af96bb4row5_col0 {\n",
       "            background-color:  #0a850a;\n",
       "        }    #T_ee3f1fba_7dd2_11e9_ac72_d46a6af96bb4row5_col1 {\n",
       "            background-color:  #0f880f;\n",
       "        }    #T_ee3f1fba_7dd2_11e9_ac72_d46a6af96bb4row5_col2 {\n",
       "            background-color:  #329c32;\n",
       "        }    #T_ee3f1fba_7dd2_11e9_ac72_d46a6af96bb4row5_col3 {\n",
       "            background-color:  #0e870e;\n",
       "        }    #T_ee3f1fba_7dd2_11e9_ac72_d46a6af96bb4row5_col4 {\n",
       "            background-color:  #1c8f1c;\n",
       "        }    #T_ee3f1fba_7dd2_11e9_ac72_d46a6af96bb4row5_col5 {\n",
       "            background-color:  #219221;\n",
       "        }</style>  \n",
       "<table id=\"T_ee3f1fba_7dd2_11e9_ac72_d46a6af96bb4\" > \n",
       "<thead>    <tr> \n",
       "        <th class=\"blank level0\" ></th> \n",
       "        <th class=\"col_heading level0 col0\" >acc</th> \n",
       "        <th class=\"col_heading level0 col1\" >prec</th> \n",
       "        <th class=\"col_heading level0 col2\" >rec</th> \n",
       "        <th class=\"col_heading level0 col3\" >f1</th> \n",
       "        <th class=\"col_heading level0 col4\" >auc</th> \n",
       "        <th class=\"col_heading level0 col5\" >total_time</th> \n",
       "    </tr></thead> \n",
       "<tbody>    <tr> \n",
       "        <th id=\"T_ee3f1fba_7dd2_11e9_ac72_d46a6af96bb4level0_row0\" class=\"row_heading level0 row0\" >log_reg</th> \n",
       "        <td id=\"T_ee3f1fba_7dd2_11e9_ac72_d46a6af96bb4row0_col0\" class=\"data row0 col0\" >0.9782</td> \n",
       "        <td id=\"T_ee3f1fba_7dd2_11e9_ac72_d46a6af96bb4row0_col1\" class=\"data row0 col1\" >0.0574</td> \n",
       "        <td id=\"T_ee3f1fba_7dd2_11e9_ac72_d46a6af96bb4row0_col2\" class=\"data row0 col2\" >0.8621</td> \n",
       "        <td id=\"T_ee3f1fba_7dd2_11e9_ac72_d46a6af96bb4row0_col3\" class=\"data row0 col3\" >0.1077</td> \n",
       "        <td id=\"T_ee3f1fba_7dd2_11e9_ac72_d46a6af96bb4row0_col4\" class=\"data row0 col4\" >0.9642</td> \n",
       "        <td id=\"T_ee3f1fba_7dd2_11e9_ac72_d46a6af96bb4row0_col5\" class=\"data row0 col5\" >5.703</td> \n",
       "    </tr>    <tr> \n",
       "        <th id=\"T_ee3f1fba_7dd2_11e9_ac72_d46a6af96bb4level0_row1\" class=\"row_heading level0 row1\" >tree_clf</th> \n",
       "        <td id=\"T_ee3f1fba_7dd2_11e9_ac72_d46a6af96bb4row1_col0\" class=\"data row1 col0\" >0.9152</td> \n",
       "        <td id=\"T_ee3f1fba_7dd2_11e9_ac72_d46a6af96bb4row1_col1\" class=\"data row1 col1\" >0.0169</td> \n",
       "        <td id=\"T_ee3f1fba_7dd2_11e9_ac72_d46a6af96bb4row1_col2\" class=\"data row1 col2\" >0.954</td> \n",
       "        <td id=\"T_ee3f1fba_7dd2_11e9_ac72_d46a6af96bb4row1_col3\" class=\"data row1 col3\" >0.0332</td> \n",
       "        <td id=\"T_ee3f1fba_7dd2_11e9_ac72_d46a6af96bb4row1_col4\" class=\"data row1 col4\" >0.7986</td> \n",
       "        <td id=\"T_ee3f1fba_7dd2_11e9_ac72_d46a6af96bb4row1_col5\" class=\"data row1 col5\" >20.591</td> \n",
       "    </tr>    <tr> \n",
       "        <th id=\"T_ee3f1fba_7dd2_11e9_ac72_d46a6af96bb4level0_row2\" class=\"row_heading level0 row2\" >forest_clf</th> \n",
       "        <td id=\"T_ee3f1fba_7dd2_11e9_ac72_d46a6af96bb4row2_col0\" class=\"data row2 col0\" >0.9715</td> \n",
       "        <td id=\"T_ee3f1fba_7dd2_11e9_ac72_d46a6af96bb4row2_col1\" class=\"data row2 col1\" >0.0477</td> \n",
       "        <td id=\"T_ee3f1fba_7dd2_11e9_ac72_d46a6af96bb4row2_col2\" class=\"data row2 col2\" >0.931</td> \n",
       "        <td id=\"T_ee3f1fba_7dd2_11e9_ac72_d46a6af96bb4row2_col3\" class=\"data row2 col3\" >0.0908</td> \n",
       "        <td id=\"T_ee3f1fba_7dd2_11e9_ac72_d46a6af96bb4row2_col4\" class=\"data row2 col4\" >0.9017</td> \n",
       "        <td id=\"T_ee3f1fba_7dd2_11e9_ac72_d46a6af96bb4row2_col5\" class=\"data row2 col5\" >21.355</td> \n",
       "    </tr>    <tr> \n",
       "        <th id=\"T_ee3f1fba_7dd2_11e9_ac72_d46a6af96bb4level0_row3\" class=\"row_heading level0 row3\" >svm_clf</th> \n",
       "        <td id=\"T_ee3f1fba_7dd2_11e9_ac72_d46a6af96bb4row3_col0\" class=\"data row3 col0\" >0.9533</td> \n",
       "        <td id=\"T_ee3f1fba_7dd2_11e9_ac72_d46a6af96bb4row3_col1\" class=\"data row3 col1\" >0.0286</td> \n",
       "        <td id=\"T_ee3f1fba_7dd2_11e9_ac72_d46a6af96bb4row3_col2\" class=\"data row3 col2\" >0.8966</td> \n",
       "        <td id=\"T_ee3f1fba_7dd2_11e9_ac72_d46a6af96bb4row3_col3\" class=\"data row3 col3\" >0.0554</td> \n",
       "        <td id=\"T_ee3f1fba_7dd2_11e9_ac72_d46a6af96bb4row3_col4\" class=\"data row3 col4\" >0.9433</td> \n",
       "        <td id=\"T_ee3f1fba_7dd2_11e9_ac72_d46a6af96bb4row3_col5\" class=\"data row3 col5\" >27.983</td> \n",
       "    </tr>    <tr> \n",
       "        <th id=\"T_ee3f1fba_7dd2_11e9_ac72_d46a6af96bb4level0_row4\" class=\"row_heading level0 row4\" >knn_clf</th> \n",
       "        <td id=\"T_ee3f1fba_7dd2_11e9_ac72_d46a6af96bb4row4_col0\" class=\"data row4 col0\" >0.9781</td> \n",
       "        <td id=\"T_ee3f1fba_7dd2_11e9_ac72_d46a6af96bb4row4_col1\" class=\"data row4 col1\" >0.0565</td> \n",
       "        <td id=\"T_ee3f1fba_7dd2_11e9_ac72_d46a6af96bb4row4_col2\" class=\"data row4 col2\" >0.8506</td> \n",
       "        <td id=\"T_ee3f1fba_7dd2_11e9_ac72_d46a6af96bb4row4_col3\" class=\"data row4 col3\" >0.1059</td> \n",
       "        <td id=\"T_ee3f1fba_7dd2_11e9_ac72_d46a6af96bb4row4_col4\" class=\"data row4 col4\" >0.8676</td> \n",
       "        <td id=\"T_ee3f1fba_7dd2_11e9_ac72_d46a6af96bb4row4_col5\" class=\"data row4 col5\" >137.941</td> \n",
       "    </tr>    <tr> \n",
       "        <th id=\"T_ee3f1fba_7dd2_11e9_ac72_d46a6af96bb4level0_row5\" class=\"row_heading level0 row5\" >mlp_clf</th> \n",
       "        <td id=\"T_ee3f1fba_7dd2_11e9_ac72_d46a6af96bb4row5_col0\" class=\"data row5 col0\" >0.9753</td> \n",
       "        <td id=\"T_ee3f1fba_7dd2_11e9_ac72_d46a6af96bb4row5_col1\" class=\"data row5 col1\" >0.0546</td> \n",
       "        <td id=\"T_ee3f1fba_7dd2_11e9_ac72_d46a6af96bb4row5_col2\" class=\"data row5 col2\" >0.931</td> \n",
       "        <td id=\"T_ee3f1fba_7dd2_11e9_ac72_d46a6af96bb4row5_col3\" class=\"data row5 col3\" >0.1031</td> \n",
       "        <td id=\"T_ee3f1fba_7dd2_11e9_ac72_d46a6af96bb4row5_col4\" class=\"data row5 col4\" >0.9436</td> \n",
       "        <td id=\"T_ee3f1fba_7dd2_11e9_ac72_d46a6af96bb4row5_col5\" class=\"data row5 col5\" >118.516</td> \n",
       "    </tr></tbody> \n",
       "</table> "
      ],
      "text/plain": [
       "<pandas.io.formats.style.Styler at 0x1b70bc680f0>"
      ]
     },
     "execution_count": 40,
     "metadata": {},
     "output_type": "execute_result"
    }
   ],
   "source": [
    "# Creating dataframe to hold metrics\n",
    "test_performance_original = create_dataset()\n",
    "\n",
    "# Evaluating models\n",
    "test_performance_original = model_analysis(fitted_models, X_test, y_test, \n",
    "                                         test_performance_original, train=False)\n",
    "\n",
    "# Result\n",
    "cm = sns.light_palette(\"green\", as_cmap=True)\n",
    "test_performance_original.style.background_gradient(cmap=cm)"
   ]
  },
  {
   "cell_type": "code",
   "execution_count": null,
   "metadata": {
    "ExecuteTime": {
     "start_time": "2019-05-24T03:13:58.506Z"
    }
   },
   "outputs": [
    {
     "data": {
      "image/png": "[encoded data removed]",
      "text/plain": [
       "<Figure size 792x792 with 12 Axes>"
      ]
     },
     "metadata": {},
     "output_type": "display_data"
    }
   ],
   "source": [
    "# Confusion Matrix for each model\n",
    "model_confusion_matrix(fitted_models, X_test, y_test)"
   ]
  },
  {
   "cell_type": "markdown",
   "metadata": {},
   "source": [
    "In this analysis, all models were evaluated on original test set (created on **6. Splitting Data**). This is really important because now it's possible to see the model behavior in a huge unbalanced data. This is the time to see if undersampling worked! Before analysis, let's point some explanation about recall:\n",
    "\n",
    "**Recall:** probably this is the most important metric for this problem. Remember we are about to train a fraud detector, so it is really important to detect as many frauds as possible. But let's keep in mind that there is a trade off between precision and recall in a model. It means that recall improvement comes up with a growth of False Positive number. In other words, it would be more non-fraudulent transactions flagged as fraud.\n",
    "\n",
    "* **Logistic Regression** presented the fastest analysis and a very good auc. Probably there is space for recall improvement;\n",
    "* **KNN and MLP** are the slowest models;\n",
    "* **Decision Trees** presented the slowest precision: the model has the highest number of good transactions classified as fraud (FP);\n",
    "* **KNN** missclassified the lowest amount of non-fraud as fraud, but it is very slow."
   ]
  },
  {
   "cell_type": "markdown",
   "metadata": {},
   "source": [
    "#### ROC Curve"
   ]
  },
  {
   "cell_type": "code",
   "execution_count": null,
   "metadata": {
    "ExecuteTime": {
     "start_time": "2019-05-24T03:13:58.517Z"
    }
   },
   "outputs": [],
   "source": [
    "# Plotando curva ROC\n",
    "plt.figure(figsize=(11, 6))\n",
    "\n",
    "for key, model in fitted_models.items():\n",
    "\n",
    "    # Computing scores with cross_val_predict\n",
    "    try:\n",
    "        y_scores = cross_val_predict(model, X_test, y_test, cv=5, \n",
    "                                     method='decision_function')\n",
    "    except:\n",
    "        # Trees don't have decision_function but predict_proba\n",
    "        y_probas = cross_val_predict(model, X_test, y_test, cv=5, \n",
    "                                     method='predict_proba')\n",
    "        y_scores_tree = y_probas[:, 1]\n",
    "        y_scores = y_scores_tree\n",
    "        \n",
    "    # ROC Curve\n",
    "    model_name = model.__class__.__name__\n",
    "    fpr, tpr, thresholds = roc_curve(y_test, y_scores)\n",
    "    auc = roc_auc_score(y_test, y_scores)\n",
    "    plot_roc_curve(fpr, tpr, y_test, y_scores, auc, label=model_name)\n",
    "    plt.suptitle('Original Test Set')"
   ]
  },
  {
   "cell_type": "markdown",
   "metadata": {},
   "source": [
    "Let's choose **Logistic Regression** as the model we will focus on future analysis."
   ]
  },
  {
   "cell_type": "markdown",
   "metadata": {},
   "source": [
    "### Logistic Regression"
   ]
  },
  {
   "cell_type": "markdown",
   "metadata": {},
   "source": [
    "#### Original x Undersampled"
   ]
  },
  {
   "cell_type": "code",
   "execution_count": null,
   "metadata": {
    "ExecuteTime": {
     "start_time": "2019-05-24T03:13:58.523Z"
    }
   },
   "outputs": [],
   "source": [
    "# Let's train a model with original set\n",
    "log_reg_original = LogisticRegression()\n",
    "log_reg_original.fit(X_train, y_train)"
   ]
  },
  {
   "cell_type": "code",
   "execution_count": null,
   "metadata": {
    "ExecuteTime": {
     "start_time": "2019-05-24T03:13:58.535Z"
    }
   },
   "outputs": [],
   "source": [
    "# Let's return our trained logistic regression model with undersampled data\n",
    "log_reg_undersampled = fitted_models['log_reg']"
   ]
  },
  {
   "cell_type": "markdown",
   "metadata": {},
   "source": [
    "We are interested on model performance on original test set."
   ]
  },
  {
   "cell_type": "code",
   "execution_count": null,
   "metadata": {
    "ExecuteTime": {
     "start_time": "2019-05-24T03:13:58.541Z"
    }
   },
   "outputs": [],
   "source": [
    "# Dict of log reg classifiers\n",
    "logistic_regs = {\n",
    "    'log_reg_original': log_reg_original,\n",
    "    'log_reg_undersampled': log_reg_undersampled\n",
    "}\n",
    "\n",
    "# Creating dataframe to hold metrics\n",
    "log_reg_test_performance = create_dataset()\n",
    "\n",
    "# Evaluating models\n",
    "log_reg_test_performance = model_analysis(logistic_regs, X_test, y_test, \n",
    "                                          log_reg_test_performance, train=False)\n",
    "\n",
    "# Result\n",
    "cm = sns.light_palette(\"green\", as_cmap=True)\n",
    "log_reg_test_performance.style.background_gradient(cmap=cm)"
   ]
  },
  {
   "cell_type": "markdown",
   "metadata": {},
   "source": [
    "Here we have our two model's behavior on original test set. It is possible to say that:\n",
    "* **1.** Training without any technique to balance label class leads to a very low recall, and as this metric is the main one (we want to detect as many frauds as possible), this isn't a good idea.\n",
    "* **2.** On the other hand, using undersampling to balance label class increase recall (good point), but it crashed precision and f1_score. The price for increasing recall is a high amount of False Positives (non-frauds classified as frauds).\n",
    "\n",
    "Let's take a look at **confusion matrix** to understand better."
   ]
  },
  {
   "cell_type": "code",
   "execution_count": null,
   "metadata": {
    "ExecuteTime": {
     "start_time": "2019-05-24T03:13:58.550Z"
    }
   },
   "outputs": [],
   "source": [
    "# Comparando matrizes de confusão COM e SEM underesampling nos dados de teste originais\n",
    "\n",
    "labels = ['No Fraud', 'Fraud']\n",
    "titles = ['Undersampled', 'Original Dataset']\n",
    "\n",
    "# Setting up plot\n",
    "plt.figure(figsize=(8, 4))\n",
    "sns.set(style='white', palette='muted', color_codes=True)\n",
    "\n",
    "# Making predictions\n",
    "under_pred = log_reg_undersampled.predict(X_test)\n",
    "original_pred = log_reg_original.predict(X_test)\n",
    "cf_mx_sem_under = confusion_matrix(y_test, original_pred)\n",
    "cf_mx_com_under = confusion_matrix(y_test, under_pred)\n",
    "\n",
    "# Plotting\n",
    "plt.subplot(1, 2, 1)\n",
    "plot_confusion_matrix(cf_mx_sem_under, labels, title=titles[1],\n",
    "                      cmap=plt.cm.Reds)\n",
    "plt.subplot(1, 2, 2)\n",
    "plot_confusion_matrix(cf_mx_com_under, labels, title=titles[0])\n",
    "\n",
    "# Final set\n",
    "plt.tight_layout()\n",
    "plt.suptitle('Logistic Regression: \\nModel Comparison')\n",
    "plt.subplots_adjust(top=0.82)\n",
    "plt.show()"
   ]
  },
  {
   "cell_type": "markdown",
   "metadata": {},
   "source": [
    "As we concluded, the original dataset trained with Logistic Regression have a low recall and misclassifies approx 43 fraudulent transactions (the model they are non-fraud, so this is False Negatives) and this is bad. Meanwhile, this model have just approx 8 False Positives (non-fraud transactions that model said it was fraud).\n",
    "\n",
    "With undersampling, the model just misclassifies approx 5 frauds as non-frauds (low FN), but misclassifies approx 2000 non-fraud as fraud (high FP). What can be done? Fortunatelly, there is something to do: **threshold!**"
   ]
  },
  {
   "cell_type": "markdown",
   "metadata": {},
   "source": [
    "#### Threshold"
   ]
  },
  {
   "cell_type": "code",
   "execution_count": null,
   "metadata": {
    "ExecuteTime": {
     "start_time": "2019-05-24T03:13:58.564Z"
    }
   },
   "outputs": [],
   "source": [
    "# Precision x Recall\n",
    "plt.figure(figsize=(13, 4))\n",
    "\n",
    "y_scores = cross_val_predict(log_reg_undersampled, X_test, y_test, cv=5, \n",
    "                             method='decision_function')\n",
    "precisions, recalls, thresholds = precision_recall_curve(y_test, y_scores)\n",
    "plt.subplot(1, 2, 1)\n",
    "plot_precision_vs_recall(precisions, recalls, label='Undersampled', color='b')\n",
    "plt.subplot(1, 2, 2)\n",
    "plot_precision_recall_vs_threshold(precisions, recalls, thresholds)"
   ]
  },
  {
   "cell_type": "markdown",
   "metadata": {},
   "source": [
    "With these two graphics, it is possible to gather intuition about model limitations in between precision and recall trade-off. If the goal is to get the best recall with good precision, the optimum value is around 0.8 recall and 0.8 precision more or less. Let's try some thresholds to see the best chance."
   ]
  },
  {
   "cell_type": "code",
   "execution_count": null,
   "metadata": {
    "ExecuteTime": {
     "start_time": "2019-05-24T03:13:58.572Z"
    }
   },
   "outputs": [],
   "source": [
    "# Dataframe for analysis\n",
    "threshold_metrics = create_dataset()\n",
    "threshold_metrics.drop(['total_time'], inplace=True, axis=1)\n",
    "\n",
    "thresholds = np.linspace(-5, 2, 20)\n",
    "for t in thresholds:\n",
    "    y_best_recall = np.where(y_scores > t, 1, 0)\n",
    "    acc = accuracy_score(y_test, y_best_recall)\n",
    "    recall = recall_score(y_test, y_best_recall)\n",
    "    precision = precision_score(y_test, y_best_recall)\n",
    "    f1 = f1_score(y_test, y_best_recall)\n",
    "    auc = roc_auc_score(y_test, y_best_recall)\n",
    "    \n",
    "    # Saving data\n",
    "    performances = {}\n",
    "    performances['acc'] = round(acc, 4)\n",
    "    performances['prec'] = round(precision, 4)\n",
    "    performances['rec'] = round(recall, 4)\n",
    "    performances['f1'] = round(f1, 4)\n",
    "    performances['auc'] = round(auc, 4)\n",
    "    \n",
    "    threshold_metrics = threshold_metrics.append\\\n",
    "(performances, ignore_index=True)"
   ]
  },
  {
   "cell_type": "code",
   "execution_count": null,
   "metadata": {
    "ExecuteTime": {
     "start_time": "2019-05-24T03:13:58.580Z"
    }
   },
   "outputs": [],
   "source": [
    "# Returning scores \n",
    "threshold_index = [round(t, 2) for t in thresholds]\n",
    "threshold_metrics.index = threshold_index\n",
    "cm = sns.light_palette(\"cornflowerblue\", as_cmap=True)\n",
    "threshold_metrics.style.background_gradient(cmap=cm)"
   ]
  },
  {
   "cell_type": "markdown",
   "metadata": {},
   "source": [
    "I will try a threshold that equalize precision and recall (t = -2.21)"
   ]
  },
  {
   "cell_type": "code",
   "execution_count": null,
   "metadata": {
    "ExecuteTime": {
     "start_time": "2019-05-24T03:13:58.589Z"
    }
   },
   "outputs": [],
   "source": [
    "# Confusion Matrix with best threshold\n",
    "t = -3.16\n",
    "custom_scores = np.where(y_scores > t, 1, 0)\n",
    "cf_mx = confusion_matrix(y_test, custom_scores)\n",
    "plt.figure(figsize=(11, 3.5))\n",
    "plt.subplot(1, 3, 1)\n",
    "plot_confusion_matrix(cf_mx_sem_under, labels, title='Original Dataset',\n",
    "                      cmap=plt.cm.Reds)\n",
    "plt.subplot(1, 3, 2)\n",
    "plot_confusion_matrix(cf_mx_com_under, labels, title='Undersampled')\n",
    "plt.subplot(1, 3, 3)\n",
    "plot_confusion_matrix(cf_mx, labels, title='Custom Threshold',\n",
    "                      cmap=plt.cm.Greens)\n",
    "plt.tight_layout()\n",
    "plt.suptitle(f'Logistic Regression: \\nThreshold = {t}')\n",
    "plt.subplots_adjust(top=0.80)\n",
    "plt.show()"
   ]
  },
  {
   "cell_type": "code",
   "execution_count": null,
   "metadata": {
    "ExecuteTime": {
     "start_time": "2019-05-24T03:13:58.598Z"
    }
   },
   "outputs": [],
   "source": [
    "cf_mx_thresholds = np.linspace(-5, 0, 9)\n",
    "i = 1\n",
    "plt.figure(figsize=(11, 10))\n",
    "for t in cf_mx_thresholds:\n",
    "    custom_scores = np.where(y_scores > t, 1, 0)\n",
    "    cf_mx = confusion_matrix(y_test, custom_scores)\n",
    "    plt.subplot(3, 3, i)\n",
    "    plot_confusion_matrix(cf_mx, labels, title=f'Threshold={t}',\n",
    "                          cmap=plt.cm.Greens)\n",
    "    i += 1\n",
    "plt.tight_layout()\n",
    "plt.suptitle('Threshold Comparison')\n",
    "plt.subplots_adjust(top=0.93)\n",
    "plt.show()"
   ]
  },
  {
   "cell_type": "code",
   "execution_count": null,
   "metadata": {
    "ExecuteTime": {
     "start_time": "2019-05-24T03:13:58.607Z"
    }
   },
   "outputs": [],
   "source": [
    "# Precision x Recall\n",
    "plt.figure(figsize=(10, 5))\n",
    "i = 1\n",
    "colors = ['darkgrey', 'gold', 'yellowgreen', 'azure', 'deepskyblue', 'midnightblue',\n",
    "         'blueviolet', 'violet', 'crimson']\n",
    "for t in cf_mx_thresholds:\n",
    "    custom_scores = np.where(y_scores > t, 1, 0)\n",
    "    precisions, recalls, thresholds = precision_recall_curve(y_test, custom_scores)\n",
    "    plot_precision_vs_recall(precisions, recalls, label=f'Threshold={t}',\n",
    "                            color=colors[i-1])\n",
    "    i+=1"
   ]
  },
  {
   "cell_type": "markdown",
   "metadata": {},
   "source": [
    "**Conclusion**\n",
    "\n",
    "The problem provides a really unbalanced dataset and with this kernel it was possible to understand the main challenges about a solution development. Metrics were studied, searches were made and knowledge was gotten! At this final step, it was possible to see how threshold can head the model wherever it has to be and transform metrics according to the problem.\n",
    "\n",
    "**Future steps**\n",
    "* Try another Undersampling technique;\n",
    "* Try Oversampling;\n",
    "* Try SVM or RandomForest Classifiers"
   ]
  },
  {
   "cell_type": "code",
   "execution_count": null,
   "metadata": {},
   "outputs": [],
   "source": []
  }
 ],
 "metadata": {
  "kernelspec": {
   "display_name": "Python 3",
   "language": "python",
   "name": "python3"
  },
  "language_info": {
   "codemirror_mode": {
    "name": "ipython",
    "version": 3
   },
   "file_extension": ".py",
   "mimetype": "text/x-python",
   "name": "python",
   "nbconvert_exporter": "python",
   "pygments_lexer": "ipython3",
   "version": "3.7.3"
  },
  "toc": {
   "base_numbering": 1,
   "nav_menu": {},
   "number_sections": true,
   "sideBar": true,
   "skip_h1_title": true,
   "title_cell": "Table of Contents",
   "title_sidebar": "Contents",
   "toc_cell": true,
   "toc_position": {
    "height": "calc(100% - 180px)",
    "left": "10px",
    "top": "150px",
    "width": "245.76px"
   },
   "toc_section_display": true,
   "toc_window_display": true
  }
 },
 "nbformat": 4,
 "nbformat_minor": 2
}
